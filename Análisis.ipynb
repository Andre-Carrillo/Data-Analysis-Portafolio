{
 "cells": [
  {
   "cell_type": "code",
   "execution_count": 2,
   "id": "474beb0f-e2aa-47c2-99a9-49ebdd0be007",
   "metadata": {},
   "outputs": [],
   "source": [
    "import pandas as pd\n",
    "import numpy as np\n",
    "\n",
    "#Import csv files and putting them in a dictionary\n",
    "file_names = [\"1.4.1\", \"1.2.3\", \"1.4.2\", \"1.3.2\", \"1.3.1\", \"1.2.2\", \"1.2.1\", \"1.1.1\"]\n",
    "#file_names = [\"1.1.1\"]\n",
    "votes = [pd.read_csv(file_name+\".csv\", index_col=0) for file_name in file_names]\n",
    "votes_with_nan = [vote.where(vote<2) for vote in votes]\n",
    "VOTE_DICTIONARY = dict(zip(file_names, votes_with_nan))\n",
    "\n",
    "#Import Congress data\n",
    "Congress = pd.read_csv(\"Congreso.csv\", index_col=0)\n"
   ]
  },
  {
   "cell_type": "code",
   "execution_count": 3,
   "id": "8e408af3",
   "metadata": {},
   "outputs": [],
   "source": [
    "Congress.loc[Congress[\"Grupo\"] == \"Partido Democrático Somos Perú\", [\"Grupo\"]] = \"Somos Perú\"\n",
    "Congress.loc[Congress[\"Grupo\"] == \"Alianza para el Progreso del Perú\", [\"Grupo\"]] = \"Alianza para el Progreso\"\n",
    "\n",
    "Congress.loc[Congress[\"Bancada\"] == \"ACCION POPULAR\", [\"Bancada\"]] = \"ACCIÓN POPULAR\""
   ]
  },
  {
   "cell_type": "code",
   "execution_count": 4,
   "id": "2307eaec",
   "metadata": {},
   "outputs": [
    {
     "data": {
      "text/plain": [
       "array(['Alianza para el Progreso', 'Partido Politico Nacional Perú Libre',\n",
       "       'Fuerza Popular', 'Somos Perú', 'Acción Popular',\n",
       "       'Avanza País - Partido de Integración Social', 'Podemos Perú',\n",
       "       'Renovación Popular', 'Juntos por el Perú', 'Partido Morado'],\n",
       "      dtype=object)"
      ]
     },
     "execution_count": 4,
     "metadata": {},
     "output_type": "execute_result"
    }
   ],
   "source": [
    "Congress[\"Grupo\"].unique()"
   ]
  },
  {
   "cell_type": "code",
   "execution_count": 5,
   "id": "3b36e293",
   "metadata": {},
   "outputs": [
    {
     "data": {
      "text/html": [
       "<div>\n",
       "<style scoped>\n",
       "    .dataframe tbody tr th:only-of-type {\n",
       "        vertical-align: middle;\n",
       "    }\n",
       "\n",
       "    .dataframe tbody tr th {\n",
       "        vertical-align: top;\n",
       "    }\n",
       "\n",
       "    .dataframe thead th {\n",
       "        text-align: right;\n",
       "    }\n",
       "</style>\n",
       "<table border=\"1\" class=\"dataframe\">\n",
       "  <thead>\n",
       "    <tr style=\"text-align: right;\">\n",
       "      <th></th>\n",
       "      <th>VOTACIÓN DEL PROYECTO 1271</th>\n",
       "      <th>VOTACIÓN DEL NUEVO TEXTO     SUSTITUTORIO DE LOS PROYECTOS 327 Y 905</th>\n",
       "      <th>VOTACIÓN DE L A EXONERACIÓN DE   SEGUNDA VOTACIÓN DE LOS PROYECTOS 327 Y 905</th>\n",
       "      <th>VOTACIÓN DEL TEXTO   SUSTITUTORIO DEL PROYECTO 699</th>\n",
       "      <th>VOTACIÓN DE LA EXONERACIÓN DE  SEGUNDA VOTACIÓN DEL PROYECTO 699</th>\n",
       "      <th>VOTACIÓN DEL TEXTO   SUSTITUTORIO DE LOS PROYECTOS 668 Y 1073</th>\n",
       "      <th>VOTACIÓN DE LA EXONERACIÓN   DE SEGUNDA VOTACIÓN DEL TEXTO SUSTITUTORIO   DE LOS PROYECTOS 668 Y 1073</th>\n",
       "      <th>VOTACIÓN DE LA  RECONSIDERACIÓN A  LA VOTACIÓN DEL TEXTO SUSTITUTORIO DE LOS   PROYECTOS 668 Y 1073</th>\n",
       "      <th>VOTACIÓN DE LA CUESTIÓN DE  CONFIANZA PLANTEADA POR EL PRESIDENTE DEL     CONSEJO DE MINISTROS</th>\n",
       "      <th>LA VOTACIÓN DE LA RECONSIDERACIÓN  DE LA VOTACIÓN DEL PROYECTO 1271</th>\n",
       "      <th>VOTACIÓN DE LA ADMISIÓN DE LA  MOCIÓN 2064</th>\n",
       "      <th>VOTACIÓN DE LA ADMISIÓN DE LA  MOCIÓN 2065</th>\n",
       "      <th>VOTACIÓN DE LA ADMISIÓN DE LA  MOCIÓN 206 8</th>\n",
       "      <th>VOTACIÓN DEL PROYECTO 799</th>\n",
       "      <th>VOTACIÓN D E LA EXONERACIÓN DE  SEGUNDA VOTACIÓN DEL PROYECTO 799</th>\n",
       "      <th>VOTACIÓN DEL NUEVO TEXTO  SUSTITUTORIO DEL PROYECTO 1271</th>\n",
       "      <th>VOTACIÓN DE LA EXONERACIÓN DE  SEGUNDA VOTACIÓN DEL NUEVO TEXTO SUSTITUTORIO   DEL PROYECTO 1271</th>\n",
       "      <th>VOTACIÓN DE LA RECONSIDERACIÓN DE  LA VOTACIÓN DEL PROYECTO 1271</th>\n",
       "      <th>VOTACIÓN DE  LA INSISTENCIA   EN LA AUTÓGRAFA RECAÍDA EN EL PROYECTO 157</th>\n",
       "      <th>LA VOTACIÓN RECAÍDA EN LA  ACLARACIÓN RESPECTO DEL PROYECTO 442</th>\n",
       "      <th>VOTACIÓN DEL NUEVO TEXTO  SUSTITUTORIO DEL PROYECTO 738</th>\n",
       "      <th>VOTACIÓN DE LA EXONERACIÓN DE  SEGUNDA VOTACIÓN DEL NUEVO TEXTO SUSTITUTORIO   DEL PROYECTO 738</th>\n",
       "      <th>VOTACIÓN DEL TEXTO SUSTITUTORIO  DEL PROYECTO 483</th>\n",
       "      <th>VOTACIÓN DE LA EXONERACIÓN DE  SEGUNDA VOTACIÓN DEL TEXTO SUSTITUTORIO   DEL PROYECTO 483</th>\n",
       "      <th>VOTACIÓN DE LA EXONERACIÓN DE  SEGUNDA VOTACIÓN DEL TEXTO SUSTITUTORIO   DEL PROYECTO 259</th>\n",
       "      <th>VOTACIÓN DEL PROYECTO 609</th>\n",
       "      <th>VOTACIÓN DE LA EXONERACIÓN DE  SEGUNDA VOTACIÓN DEL PROYECTO 609</th>\n",
       "      <th>VOTACIÓN DE LA ADMISIÓN DE   LA MOCIÓN DE VACANCIA PRESIDENCIAL    (MOCIÓN 2148 )</th>\n",
       "      <th>VOTACIÓN DEL LA PROPUESTA DEL</th>\n",
       "      <th>VOTACIÓN D E LA PROPUESTA DE  LA  PRESIDENCIA PARA QUE EL DEBATE Y LA VOTACIÓN DEL  PEDIDO DE VACANCIA SE REALICE EL LUNES 2 8 DE MARZO   DE 2022  A LAS 1 5 HORAS</th>\n",
       "      <th>VOTACIÓN DEL PROYECTO DE  RESOLUCIÓN LEGISLATIVA 228 (ACTUALIZADO)</th>\n",
       "      <th>VOTACIÓN DEL PROYECTO DE  RESOLUCIÓN LEGISLATIVA 230 (ACTUALIZADO)</th>\n",
       "      <th>VOTACIÓN DEL PROYECTO DE  RESOLUCIÓN LEGISLATIVA 23 1 (ACTUALIZADO)</th>\n",
       "      <th>VOTACIÓN DEL PROYECTO D E  RESOLUCIÓN LEGISLATIVA 244  (ACTUALIZADO)</th>\n",
       "      <th>VOTACIÓN DEL PROYECTO DE  RESOLUCIÓN LEGISLATIVA 2 34 (ACTUALIZADO)</th>\n",
       "      <th>VOTACIÓN DEL PROYECTO DE  RESOLUCIÓN LEGISLATIVA 235 (ACTUALIZADO)</th>\n",
       "      <th>VOTACIÓN DE LA MOCIÓN  1992</th>\n",
       "      <th>VOTACIÓN DEL PROYECTO 298</th>\n",
       "      <th>VOTACIÓN DE LA EXONERACIÓN DE LA  SEGUNDA VOTACIÓN DEL PROYECTO 298</th>\n",
       "      <th>VOTACIÓN DEL TEXTO SUSTITUTORIO  DEL PROYECTO 1212</th>\n",
       "      <th>...</th>\n",
       "      <th>VOTACIÓN DE LA NÓMINA DE LA    COMISIÓN ESPECIAL MULTIPARTIDARIA ENFOCAD O EN LA  IMPLEMENTACIÓN DE LA INFRAESTRUCTURA TECNOLÓGICA  EN LAS ETAPAS DEL SISTEMA EDUCATIVO DE ACUERDO CON LA  LEY GENERAL DE EDUCACIÓN, LEY 28044 (MOCIÓN 13129)</th>\n",
       "      <th>VOTACIÓN DE LA ADMISIÓN   DE LA MOCIÓN DE ORDEN DEL DÍA 14611</th>\n",
       "      <th>VOTACIÓN DE LA MOCIÓN   DE ORDEN DEL DÍA 14611</th>\n",
       "      <th>VOTACIÓN DEL TEXTO   SUSTITUTORIO DE LOS PROYECTOS 2648 Y 4255</th>\n",
       "      <th>VOTACIÓN DE LA RATIFICACIÓN DEL  ACUERDO DE LA JUNTA DE PORTAVOCES RESPECTO DEL  PROYECTO 8115 Y OTROS</th>\n",
       "      <th>VOTACIÓN DEL TEXTO   SUSTITUTORIO DEL PROYECTO 8115 Y OTROS</th>\n",
       "      <th>VOTACIÓN DEL TEXTO   SUSTITUTORIO DEL PROYECTO 6445  Y OTROS</th>\n",
       "      <th>VOTACIÓN DE LA MOCIÓN DE CENSURA  AL MINISTRO DE INCLUSIÓN SOCIAL Y DESARROLLO   (MOCIÓN 14608)</th>\n",
       "      <th>VOTACIÓN DE LA ADMISIÓN DE LA  MOCIÓN 14612 ( MOCIÓN DE INTERPELACIÓN AL MINISTRO DE  DESARROLLO E INCLUSIÓN SOCIAL )</th>\n",
       "      <th>VOTACIÓN DE LA CONCURRENCIA DEL   MINISTRO DE DESARROLLO E INCLUSIÓN SOCIAL , JULIO JAVIER  DEMARTINI MONTES,  EL DÍA 4 DE DICIEMBRE DE 2024 A LAS 18  HORAS</th>\n",
       "      <th>VOTACIÓN DE LA RECONSIDERACIÓN A  LA VOTACIÓN DE LA MOCIÓN 14608, LA CUAL PROPONE QUE EL</th>\n",
       "      <th>VOTACIÓN DEL TEXTO SUSTITUTORIO  DE LAS MOCIONES 14628 y 14629 (CENSURA AL MINISTRO DE  ENERGÍA Y MINAS)</th>\n",
       "      <th>LA SEGUNDA VOTACIÓN DEL   PROYECTO 1320 Y OTROS</th>\n",
       "      <th>VOTACIÓN DE LA INSISTENCIA EN LA  AUTÓGRAFA OBSERVADA POR LA SEÑORA PRESIDENTA DE LA  REPÚBLICA , RECAÍDA EN EL PROYECTO 6453</th>\n",
       "      <th>VOTACIÓN DE LA RECONSIDERACIÓN A  LA VOTACIÓN DEL DICTAMEN  DE INSISTENCIA RESPECTO DEL  PROYECTO 3254</th>\n",
       "      <th>VOTACIÓN DE LA INSISTENCIA DEL  PROYECTO 3254</th>\n",
       "      <th>VOTACIÓN DEL TEXTO SUSTITUTORIO  DEL PROYECTO 4293</th>\n",
       "      <th>VOTACIÓN DE LA RECONSIDERACIÓN A  LA VOTACIÓN POR LA QUE NO SE APROBÓ LA CUESTIÓN PREVIA  PARA QUE RETORNE A LA COMISIÓN DE CONSTITUCIÓN EL  PROYECTO 1964</th>\n",
       "      <th>VOTACIÓN DE LA CUESTIÓN PREVIA  PARA QUE SE VOTE POR SEPARADO EL INCISO A DEL ARTÍCULO  29</th>\n",
       "      <th>VOTACIÓN DE LA CUESTIÓN PREVIA    PARA QUE RETORNE A LA COMISIÓN DE CONSTITUCIÓN EL  PROYECTO 1607 Y OTROS</th>\n",
       "      <th>VOTACIÓN DEL TEXTO SUSTITUTORIO  DE LOS PROYECTOS 5789 Y 5821</th>\n",
       "      <th>VOTACIÓN DE LA EXONERACIÓN DE LA  SEGUNDA VOTACIÓN DEL TEXTO SUSTITUTORIO DE LOS  PROYECTOS 5789 Y 5821</th>\n",
       "      <th>VOTACIÓN DEL TEXTO SUSTITUTORIO  DE LOS PROYECTOS 7712, 8306 Y 8354</th>\n",
       "      <th>VOTACIÓN DE LA EXONERACIÓN DE LA  SEGUNDA VOTACIÓN DEL TEXTO SUSTITUTORIO DE LOS  PROYECTOS 7712, 8306 Y 8354</th>\n",
       "      <th>VOTACIÓN DE LA RATIFICACIÓN DEL  ACUERDO DE LA JUNTA DE PORTAVOCES RESPECTO DEL  PROYECTO 7462 Y OTROS</th>\n",
       "      <th>LA VOTACIÓN DE LA CUESTIÓN PREVIA   PARA QUE RETORNE A LA COMISIÓN DE ENERGÍA EL  PROYECTO 7462 Y OTROS</th>\n",
       "      <th>VOTACIÓN DEL TEXTO SUSTITUTORIO  DEL PROYECTO 7462 Y OTROS</th>\n",
       "      <th>VOTACIÓN DE LA EXONERACIÓN DE LA  SEGUNDA VOTACIÓN DEL TEXTO SUSTITUTORIO DEL  PROYECTO  7462  Y OTROS</th>\n",
       "      <th>VOTACIÓN DE LA RECONSIDERACIÓN A  LA VOTACIÓN POR LA QUE NO SE APROBÓ LA SEGUNDA  VOTACIÓN DEL TEXTO SUSTITUTORIO DE LA COMISIÓN   DE CONSTITUCIÓN RESPECTO DEL PROYECTO 2027  Y OTROS</th>\n",
       "      <th>LA SEGUNDA VOTACIÓN DEL TEXTO  SUSTITUTORIO DEL PROYECTO 6606</th>\n",
       "      <th>VOTACIÓN DEL TEXTO SUSTITUTORIO  DEL PROYECTO 8002</th>\n",
       "      <th>VOTACIÓN DE LA EXONERACIÓN DE LA  SEGUNDA VOTACIÓN DEL TEXTO SUSTITUTORIO DEL    PROYECTO 8002</th>\n",
       "      <th>VOTACIÓN DEL TEXTO SUSTITUTORIO  DEL PROYECTO 4099</th>\n",
       "      <th>VOTACIÓN DE LA EXONERACIÓN DE LA  SEGUNDA VOTACIÓN DEL TEXTO SUSTITUTORIO DEL  PROYECTO 4099</th>\n",
       "      <th>VOTACIÓN DEL TEXTO SUSTITUTORIO  DEL PROYECTO 2729 Y OTROS</th>\n",
       "      <th>VOTACIÓN DE LA EXONERACIÓN DE LA  SEGUNDA VOTACIÓN DEL TEXTO SUSTITUTORIO DEL  PROYECTO 2729 Y OTROS</th>\n",
       "      <th>VOTACIÓN DEL  TEXTO SUSTITUTORIO  DEL PROYECTO DE LEY DE ENDEUDAMIENTO DEL SECTOR  PÚBLICO PARA EL AÑO FISCAL 2025 CON EXCEPCIÓN DE LA  CUARTA DISPOSICIÓN COMPLEMENTARIA MODIFICATORIA  (PROYECTO 8760)</th>\n",
       "      <th>VOTACIÓN DE LA CUARTA DISPOSICIÓN  COMPLEMENTARIA MODIFICATORIA DE L TEXTO SUSTITUTORIO  DEL PROYECTO DE LEY DE ENDEUDAMIENTO DEL SECTOR  PÚBLICO PARA EL AÑO FISCAL 2025 (PROYECTO 8760)</th>\n",
       "      <th>VOTACIÓN DEL TEXTO SUSTITUTORIO  DEL PROYECTO DE LEY DE EQUILIBRIO FINANCIERO DEL    PRESUPUESTO DEL SECTOR PÚBLICO PARA EL AÑO FISCAL 2025  (PROYECTO 8759)</th>\n",
       "      <th>VOTACIÓN DEL TEXTO SUSTITUTORIO  DEL PROYECTO DE LEY DE PRESUPUESTO DEL SECTOR PÚBLICO  PARA EL AÑO FISCAL 2025  (PROYECTO 8758)</th>\n",
       "    </tr>\n",
       "  </thead>\n",
       "  <tbody>\n",
       "    <tr>\n",
       "      <th>0</th>\n",
       "      <td>1.0</td>\n",
       "      <td>1.0</td>\n",
       "      <td>1.0</td>\n",
       "      <td>1.0</td>\n",
       "      <td>1.0</td>\n",
       "      <td>1.0</td>\n",
       "      <td>1.0</td>\n",
       "      <td>-1.0</td>\n",
       "      <td>-1.0</td>\n",
       "      <td>1.0</td>\n",
       "      <td>1.0</td>\n",
       "      <td>1.0</td>\n",
       "      <td>1.0</td>\n",
       "      <td>1.0</td>\n",
       "      <td>1.0</td>\n",
       "      <td>1.0</td>\n",
       "      <td>1.0</td>\n",
       "      <td>-1.0</td>\n",
       "      <td>1.0</td>\n",
       "      <td>1.0</td>\n",
       "      <td>1.0</td>\n",
       "      <td>1.0</td>\n",
       "      <td>1.0</td>\n",
       "      <td>1.0</td>\n",
       "      <td>1.0</td>\n",
       "      <td>1.0</td>\n",
       "      <td>1.0</td>\n",
       "      <td>1.0</td>\n",
       "      <td>-1.0</td>\n",
       "      <td>1.0</td>\n",
       "      <td>1.0</td>\n",
       "      <td>1.0</td>\n",
       "      <td>1.0</td>\n",
       "      <td>1.0</td>\n",
       "      <td>1.0</td>\n",
       "      <td>1.0</td>\n",
       "      <td>1.0</td>\n",
       "      <td>1.0</td>\n",
       "      <td>1.0</td>\n",
       "      <td>1.0</td>\n",
       "      <td>...</td>\n",
       "      <td>1.0</td>\n",
       "      <td>NaN</td>\n",
       "      <td>NaN</td>\n",
       "      <td>NaN</td>\n",
       "      <td>NaN</td>\n",
       "      <td>NaN</td>\n",
       "      <td>NaN</td>\n",
       "      <td>-1.0</td>\n",
       "      <td>-1.0</td>\n",
       "      <td>1.0</td>\n",
       "      <td>-1.0</td>\n",
       "      <td>0.0</td>\n",
       "      <td>1.0</td>\n",
       "      <td>1.0</td>\n",
       "      <td>1.0</td>\n",
       "      <td>1.0</td>\n",
       "      <td>1.0</td>\n",
       "      <td>NaN</td>\n",
       "      <td>-1.0</td>\n",
       "      <td>-1.0</td>\n",
       "      <td>1.0</td>\n",
       "      <td>1.0</td>\n",
       "      <td>1.0</td>\n",
       "      <td>1.0</td>\n",
       "      <td>-1.0</td>\n",
       "      <td>1.0</td>\n",
       "      <td>-1.0</td>\n",
       "      <td>-1.0</td>\n",
       "      <td>1.0</td>\n",
       "      <td>1.0</td>\n",
       "      <td>1.0</td>\n",
       "      <td>1.0</td>\n",
       "      <td>1.0</td>\n",
       "      <td>1.0</td>\n",
       "      <td>1.0</td>\n",
       "      <td>1.0</td>\n",
       "      <td>1.0</td>\n",
       "      <td>1.0</td>\n",
       "      <td>1.0</td>\n",
       "      <td>1.0</td>\n",
       "    </tr>\n",
       "    <tr>\n",
       "      <th>1</th>\n",
       "      <td>NaN</td>\n",
       "      <td>1.0</td>\n",
       "      <td>1.0</td>\n",
       "      <td>1.0</td>\n",
       "      <td>1.0</td>\n",
       "      <td>1.0</td>\n",
       "      <td>1.0</td>\n",
       "      <td>-1.0</td>\n",
       "      <td>-1.0</td>\n",
       "      <td>1.0</td>\n",
       "      <td>1.0</td>\n",
       "      <td>1.0</td>\n",
       "      <td>1.0</td>\n",
       "      <td>1.0</td>\n",
       "      <td>1.0</td>\n",
       "      <td>NaN</td>\n",
       "      <td>NaN</td>\n",
       "      <td>-1.0</td>\n",
       "      <td>1.0</td>\n",
       "      <td>1.0</td>\n",
       "      <td>1.0</td>\n",
       "      <td>1.0</td>\n",
       "      <td>1.0</td>\n",
       "      <td>1.0</td>\n",
       "      <td>1.0</td>\n",
       "      <td>1.0</td>\n",
       "      <td>1.0</td>\n",
       "      <td>1.0</td>\n",
       "      <td>-1.0</td>\n",
       "      <td>1.0</td>\n",
       "      <td>1.0</td>\n",
       "      <td>1.0</td>\n",
       "      <td>1.0</td>\n",
       "      <td>1.0</td>\n",
       "      <td>1.0</td>\n",
       "      <td>1.0</td>\n",
       "      <td>1.0</td>\n",
       "      <td>1.0</td>\n",
       "      <td>1.0</td>\n",
       "      <td>1.0</td>\n",
       "      <td>...</td>\n",
       "      <td>NaN</td>\n",
       "      <td>NaN</td>\n",
       "      <td>NaN</td>\n",
       "      <td>NaN</td>\n",
       "      <td>NaN</td>\n",
       "      <td>NaN</td>\n",
       "      <td>NaN</td>\n",
       "      <td>1.0</td>\n",
       "      <td>1.0</td>\n",
       "      <td>1.0</td>\n",
       "      <td>1.0</td>\n",
       "      <td>-1.0</td>\n",
       "      <td>1.0</td>\n",
       "      <td>1.0</td>\n",
       "      <td>1.0</td>\n",
       "      <td>NaN</td>\n",
       "      <td>0.0</td>\n",
       "      <td>1.0</td>\n",
       "      <td>1.0</td>\n",
       "      <td>-1.0</td>\n",
       "      <td>1.0</td>\n",
       "      <td>1.0</td>\n",
       "      <td>1.0</td>\n",
       "      <td>1.0</td>\n",
       "      <td>1.0</td>\n",
       "      <td>1.0</td>\n",
       "      <td>1.0</td>\n",
       "      <td>1.0</td>\n",
       "      <td>1.0</td>\n",
       "      <td>1.0</td>\n",
       "      <td>NaN</td>\n",
       "      <td>NaN</td>\n",
       "      <td>1.0</td>\n",
       "      <td>1.0</td>\n",
       "      <td>1.0</td>\n",
       "      <td>NaN</td>\n",
       "      <td>-1.0</td>\n",
       "      <td>1.0</td>\n",
       "      <td>-1.0</td>\n",
       "      <td>-1.0</td>\n",
       "    </tr>\n",
       "    <tr>\n",
       "      <th>2</th>\n",
       "      <td>1.0</td>\n",
       "      <td>1.0</td>\n",
       "      <td>1.0</td>\n",
       "      <td>1.0</td>\n",
       "      <td>1.0</td>\n",
       "      <td>1.0</td>\n",
       "      <td>1.0</td>\n",
       "      <td>0.0</td>\n",
       "      <td>1.0</td>\n",
       "      <td>1.0</td>\n",
       "      <td>-1.0</td>\n",
       "      <td>-1.0</td>\n",
       "      <td>-1.0</td>\n",
       "      <td>1.0</td>\n",
       "      <td>1.0</td>\n",
       "      <td>1.0</td>\n",
       "      <td>1.0</td>\n",
       "      <td>-1.0</td>\n",
       "      <td>1.0</td>\n",
       "      <td>1.0</td>\n",
       "      <td>1.0</td>\n",
       "      <td>1.0</td>\n",
       "      <td>1.0</td>\n",
       "      <td>1.0</td>\n",
       "      <td>1.0</td>\n",
       "      <td>1.0</td>\n",
       "      <td>1.0</td>\n",
       "      <td>-1.0</td>\n",
       "      <td>-1.0</td>\n",
       "      <td>0.0</td>\n",
       "      <td>1.0</td>\n",
       "      <td>1.0</td>\n",
       "      <td>1.0</td>\n",
       "      <td>1.0</td>\n",
       "      <td>1.0</td>\n",
       "      <td>1.0</td>\n",
       "      <td>0.0</td>\n",
       "      <td>1.0</td>\n",
       "      <td>1.0</td>\n",
       "      <td>1.0</td>\n",
       "      <td>...</td>\n",
       "      <td>1.0</td>\n",
       "      <td>1.0</td>\n",
       "      <td>1.0</td>\n",
       "      <td>1.0</td>\n",
       "      <td>1.0</td>\n",
       "      <td>1.0</td>\n",
       "      <td>1.0</td>\n",
       "      <td>1.0</td>\n",
       "      <td>1.0</td>\n",
       "      <td>NaN</td>\n",
       "      <td>1.0</td>\n",
       "      <td>1.0</td>\n",
       "      <td>1.0</td>\n",
       "      <td>NaN</td>\n",
       "      <td>1.0</td>\n",
       "      <td>1.0</td>\n",
       "      <td>-1.0</td>\n",
       "      <td>1.0</td>\n",
       "      <td>NaN</td>\n",
       "      <td>NaN</td>\n",
       "      <td>NaN</td>\n",
       "      <td>NaN</td>\n",
       "      <td>NaN</td>\n",
       "      <td>NaN</td>\n",
       "      <td>NaN</td>\n",
       "      <td>NaN</td>\n",
       "      <td>1.0</td>\n",
       "      <td>1.0</td>\n",
       "      <td>1.0</td>\n",
       "      <td>1.0</td>\n",
       "      <td>1.0</td>\n",
       "      <td>NaN</td>\n",
       "      <td>NaN</td>\n",
       "      <td>NaN</td>\n",
       "      <td>NaN</td>\n",
       "      <td>NaN</td>\n",
       "      <td>1.0</td>\n",
       "      <td>1.0</td>\n",
       "      <td>1.0</td>\n",
       "      <td>1.0</td>\n",
       "    </tr>\n",
       "    <tr>\n",
       "      <th>3</th>\n",
       "      <td>0.0</td>\n",
       "      <td>1.0</td>\n",
       "      <td>1.0</td>\n",
       "      <td>1.0</td>\n",
       "      <td>1.0</td>\n",
       "      <td>1.0</td>\n",
       "      <td>1.0</td>\n",
       "      <td>1.0</td>\n",
       "      <td>-1.0</td>\n",
       "      <td>1.0</td>\n",
       "      <td>1.0</td>\n",
       "      <td>1.0</td>\n",
       "      <td>1.0</td>\n",
       "      <td>1.0</td>\n",
       "      <td>1.0</td>\n",
       "      <td>1.0</td>\n",
       "      <td>1.0</td>\n",
       "      <td>-1.0</td>\n",
       "      <td>1.0</td>\n",
       "      <td>1.0</td>\n",
       "      <td>1.0</td>\n",
       "      <td>1.0</td>\n",
       "      <td>1.0</td>\n",
       "      <td>1.0</td>\n",
       "      <td>1.0</td>\n",
       "      <td>1.0</td>\n",
       "      <td>1.0</td>\n",
       "      <td>1.0</td>\n",
       "      <td>-1.0</td>\n",
       "      <td>1.0</td>\n",
       "      <td>1.0</td>\n",
       "      <td>1.0</td>\n",
       "      <td>1.0</td>\n",
       "      <td>1.0</td>\n",
       "      <td>1.0</td>\n",
       "      <td>1.0</td>\n",
       "      <td>1.0</td>\n",
       "      <td>1.0</td>\n",
       "      <td>1.0</td>\n",
       "      <td>1.0</td>\n",
       "      <td>...</td>\n",
       "      <td>NaN</td>\n",
       "      <td>NaN</td>\n",
       "      <td>NaN</td>\n",
       "      <td>NaN</td>\n",
       "      <td>NaN</td>\n",
       "      <td>NaN</td>\n",
       "      <td>NaN</td>\n",
       "      <td>NaN</td>\n",
       "      <td>NaN</td>\n",
       "      <td>NaN</td>\n",
       "      <td>NaN</td>\n",
       "      <td>NaN</td>\n",
       "      <td>NaN</td>\n",
       "      <td>NaN</td>\n",
       "      <td>NaN</td>\n",
       "      <td>NaN</td>\n",
       "      <td>NaN</td>\n",
       "      <td>NaN</td>\n",
       "      <td>NaN</td>\n",
       "      <td>NaN</td>\n",
       "      <td>NaN</td>\n",
       "      <td>NaN</td>\n",
       "      <td>NaN</td>\n",
       "      <td>NaN</td>\n",
       "      <td>NaN</td>\n",
       "      <td>NaN</td>\n",
       "      <td>NaN</td>\n",
       "      <td>NaN</td>\n",
       "      <td>NaN</td>\n",
       "      <td>NaN</td>\n",
       "      <td>NaN</td>\n",
       "      <td>NaN</td>\n",
       "      <td>NaN</td>\n",
       "      <td>NaN</td>\n",
       "      <td>NaN</td>\n",
       "      <td>NaN</td>\n",
       "      <td>NaN</td>\n",
       "      <td>NaN</td>\n",
       "      <td>NaN</td>\n",
       "      <td>NaN</td>\n",
       "    </tr>\n",
       "    <tr>\n",
       "      <th>4</th>\n",
       "      <td>NaN</td>\n",
       "      <td>1.0</td>\n",
       "      <td>1.0</td>\n",
       "      <td>1.0</td>\n",
       "      <td>1.0</td>\n",
       "      <td>1.0</td>\n",
       "      <td>-1.0</td>\n",
       "      <td>1.0</td>\n",
       "      <td>-1.0</td>\n",
       "      <td>1.0</td>\n",
       "      <td>-1.0</td>\n",
       "      <td>1.0</td>\n",
       "      <td>1.0</td>\n",
       "      <td>1.0</td>\n",
       "      <td>1.0</td>\n",
       "      <td>-1.0</td>\n",
       "      <td>-1.0</td>\n",
       "      <td>1.0</td>\n",
       "      <td>1.0</td>\n",
       "      <td>1.0</td>\n",
       "      <td>1.0</td>\n",
       "      <td>1.0</td>\n",
       "      <td>NaN</td>\n",
       "      <td>1.0</td>\n",
       "      <td>1.0</td>\n",
       "      <td>1.0</td>\n",
       "      <td>1.0</td>\n",
       "      <td>1.0</td>\n",
       "      <td>-1.0</td>\n",
       "      <td>1.0</td>\n",
       "      <td>1.0</td>\n",
       "      <td>1.0</td>\n",
       "      <td>1.0</td>\n",
       "      <td>1.0</td>\n",
       "      <td>1.0</td>\n",
       "      <td>1.0</td>\n",
       "      <td>1.0</td>\n",
       "      <td>1.0</td>\n",
       "      <td>1.0</td>\n",
       "      <td>1.0</td>\n",
       "      <td>...</td>\n",
       "      <td>NaN</td>\n",
       "      <td>NaN</td>\n",
       "      <td>NaN</td>\n",
       "      <td>NaN</td>\n",
       "      <td>NaN</td>\n",
       "      <td>NaN</td>\n",
       "      <td>NaN</td>\n",
       "      <td>0.0</td>\n",
       "      <td>0.0</td>\n",
       "      <td>0.0</td>\n",
       "      <td>0.0</td>\n",
       "      <td>1.0</td>\n",
       "      <td>1.0</td>\n",
       "      <td>-1.0</td>\n",
       "      <td>1.0</td>\n",
       "      <td>1.0</td>\n",
       "      <td>1.0</td>\n",
       "      <td>1.0</td>\n",
       "      <td>0.0</td>\n",
       "      <td>1.0</td>\n",
       "      <td>1.0</td>\n",
       "      <td>1.0</td>\n",
       "      <td>1.0</td>\n",
       "      <td>1.0</td>\n",
       "      <td>1.0</td>\n",
       "      <td>-1.0</td>\n",
       "      <td>1.0</td>\n",
       "      <td>1.0</td>\n",
       "      <td>-1.0</td>\n",
       "      <td>1.0</td>\n",
       "      <td>1.0</td>\n",
       "      <td>1.0</td>\n",
       "      <td>1.0</td>\n",
       "      <td>1.0</td>\n",
       "      <td>1.0</td>\n",
       "      <td>1.0</td>\n",
       "      <td>1.0</td>\n",
       "      <td>1.0</td>\n",
       "      <td>1.0</td>\n",
       "      <td>1.0</td>\n",
       "    </tr>\n",
       "    <tr>\n",
       "      <th>...</th>\n",
       "      <td>...</td>\n",
       "      <td>...</td>\n",
       "      <td>...</td>\n",
       "      <td>...</td>\n",
       "      <td>...</td>\n",
       "      <td>...</td>\n",
       "      <td>...</td>\n",
       "      <td>...</td>\n",
       "      <td>...</td>\n",
       "      <td>...</td>\n",
       "      <td>...</td>\n",
       "      <td>...</td>\n",
       "      <td>...</td>\n",
       "      <td>...</td>\n",
       "      <td>...</td>\n",
       "      <td>...</td>\n",
       "      <td>...</td>\n",
       "      <td>...</td>\n",
       "      <td>...</td>\n",
       "      <td>...</td>\n",
       "      <td>...</td>\n",
       "      <td>...</td>\n",
       "      <td>...</td>\n",
       "      <td>...</td>\n",
       "      <td>...</td>\n",
       "      <td>...</td>\n",
       "      <td>...</td>\n",
       "      <td>...</td>\n",
       "      <td>...</td>\n",
       "      <td>...</td>\n",
       "      <td>...</td>\n",
       "      <td>...</td>\n",
       "      <td>...</td>\n",
       "      <td>...</td>\n",
       "      <td>...</td>\n",
       "      <td>...</td>\n",
       "      <td>...</td>\n",
       "      <td>...</td>\n",
       "      <td>...</td>\n",
       "      <td>...</td>\n",
       "      <td>...</td>\n",
       "      <td>...</td>\n",
       "      <td>...</td>\n",
       "      <td>...</td>\n",
       "      <td>...</td>\n",
       "      <td>...</td>\n",
       "      <td>...</td>\n",
       "      <td>...</td>\n",
       "      <td>...</td>\n",
       "      <td>...</td>\n",
       "      <td>...</td>\n",
       "      <td>...</td>\n",
       "      <td>...</td>\n",
       "      <td>...</td>\n",
       "      <td>...</td>\n",
       "      <td>...</td>\n",
       "      <td>...</td>\n",
       "      <td>...</td>\n",
       "      <td>...</td>\n",
       "      <td>...</td>\n",
       "      <td>...</td>\n",
       "      <td>...</td>\n",
       "      <td>...</td>\n",
       "      <td>...</td>\n",
       "      <td>...</td>\n",
       "      <td>...</td>\n",
       "      <td>...</td>\n",
       "      <td>...</td>\n",
       "      <td>...</td>\n",
       "      <td>...</td>\n",
       "      <td>...</td>\n",
       "      <td>...</td>\n",
       "      <td>...</td>\n",
       "      <td>...</td>\n",
       "      <td>...</td>\n",
       "      <td>...</td>\n",
       "      <td>...</td>\n",
       "      <td>...</td>\n",
       "      <td>...</td>\n",
       "      <td>...</td>\n",
       "      <td>...</td>\n",
       "    </tr>\n",
       "    <tr>\n",
       "      <th>133</th>\n",
       "      <td>NaN</td>\n",
       "      <td>NaN</td>\n",
       "      <td>NaN</td>\n",
       "      <td>NaN</td>\n",
       "      <td>NaN</td>\n",
       "      <td>NaN</td>\n",
       "      <td>NaN</td>\n",
       "      <td>NaN</td>\n",
       "      <td>1.0</td>\n",
       "      <td>NaN</td>\n",
       "      <td>NaN</td>\n",
       "      <td>NaN</td>\n",
       "      <td>NaN</td>\n",
       "      <td>NaN</td>\n",
       "      <td>NaN</td>\n",
       "      <td>NaN</td>\n",
       "      <td>NaN</td>\n",
       "      <td>NaN</td>\n",
       "      <td>NaN</td>\n",
       "      <td>NaN</td>\n",
       "      <td>NaN</td>\n",
       "      <td>NaN</td>\n",
       "      <td>NaN</td>\n",
       "      <td>NaN</td>\n",
       "      <td>NaN</td>\n",
       "      <td>NaN</td>\n",
       "      <td>NaN</td>\n",
       "      <td>NaN</td>\n",
       "      <td>NaN</td>\n",
       "      <td>NaN</td>\n",
       "      <td>NaN</td>\n",
       "      <td>NaN</td>\n",
       "      <td>NaN</td>\n",
       "      <td>NaN</td>\n",
       "      <td>NaN</td>\n",
       "      <td>NaN</td>\n",
       "      <td>NaN</td>\n",
       "      <td>NaN</td>\n",
       "      <td>NaN</td>\n",
       "      <td>NaN</td>\n",
       "      <td>...</td>\n",
       "      <td>NaN</td>\n",
       "      <td>NaN</td>\n",
       "      <td>NaN</td>\n",
       "      <td>NaN</td>\n",
       "      <td>NaN</td>\n",
       "      <td>1.0</td>\n",
       "      <td>1.0</td>\n",
       "      <td>1.0</td>\n",
       "      <td>1.0</td>\n",
       "      <td>1.0</td>\n",
       "      <td>1.0</td>\n",
       "      <td>1.0</td>\n",
       "      <td>1.0</td>\n",
       "      <td>1.0</td>\n",
       "      <td>1.0</td>\n",
       "      <td>1.0</td>\n",
       "      <td>0.0</td>\n",
       "      <td>NaN</td>\n",
       "      <td>-1.0</td>\n",
       "      <td>-1.0</td>\n",
       "      <td>1.0</td>\n",
       "      <td>1.0</td>\n",
       "      <td>1.0</td>\n",
       "      <td>1.0</td>\n",
       "      <td>1.0</td>\n",
       "      <td>-1.0</td>\n",
       "      <td>1.0</td>\n",
       "      <td>1.0</td>\n",
       "      <td>1.0</td>\n",
       "      <td>1.0</td>\n",
       "      <td>1.0</td>\n",
       "      <td>1.0</td>\n",
       "      <td>NaN</td>\n",
       "      <td>NaN</td>\n",
       "      <td>1.0</td>\n",
       "      <td>1.0</td>\n",
       "      <td>1.0</td>\n",
       "      <td>1.0</td>\n",
       "      <td>1.0</td>\n",
       "      <td>1.0</td>\n",
       "    </tr>\n",
       "    <tr>\n",
       "      <th>134</th>\n",
       "      <td>1.0</td>\n",
       "      <td>NaN</td>\n",
       "      <td>NaN</td>\n",
       "      <td>NaN</td>\n",
       "      <td>NaN</td>\n",
       "      <td>NaN</td>\n",
       "      <td>NaN</td>\n",
       "      <td>NaN</td>\n",
       "      <td>-1.0</td>\n",
       "      <td>1.0</td>\n",
       "      <td>1.0</td>\n",
       "      <td>1.0</td>\n",
       "      <td>1.0</td>\n",
       "      <td>1.0</td>\n",
       "      <td>1.0</td>\n",
       "      <td>1.0</td>\n",
       "      <td>1.0</td>\n",
       "      <td>-1.0</td>\n",
       "      <td>-1.0</td>\n",
       "      <td>1.0</td>\n",
       "      <td>1.0</td>\n",
       "      <td>1.0</td>\n",
       "      <td>1.0</td>\n",
       "      <td>1.0</td>\n",
       "      <td>1.0</td>\n",
       "      <td>1.0</td>\n",
       "      <td>1.0</td>\n",
       "      <td>1.0</td>\n",
       "      <td>1.0</td>\n",
       "      <td>-1.0</td>\n",
       "      <td>1.0</td>\n",
       "      <td>1.0</td>\n",
       "      <td>1.0</td>\n",
       "      <td>1.0</td>\n",
       "      <td>1.0</td>\n",
       "      <td>1.0</td>\n",
       "      <td>1.0</td>\n",
       "      <td>1.0</td>\n",
       "      <td>1.0</td>\n",
       "      <td>1.0</td>\n",
       "      <td>...</td>\n",
       "      <td>1.0</td>\n",
       "      <td>1.0</td>\n",
       "      <td>1.0</td>\n",
       "      <td>1.0</td>\n",
       "      <td>1.0</td>\n",
       "      <td>1.0</td>\n",
       "      <td>NaN</td>\n",
       "      <td>-1.0</td>\n",
       "      <td>1.0</td>\n",
       "      <td>1.0</td>\n",
       "      <td>-1.0</td>\n",
       "      <td>1.0</td>\n",
       "      <td>1.0</td>\n",
       "      <td>1.0</td>\n",
       "      <td>1.0</td>\n",
       "      <td>1.0</td>\n",
       "      <td>1.0</td>\n",
       "      <td>-1.0</td>\n",
       "      <td>-1.0</td>\n",
       "      <td>1.0</td>\n",
       "      <td>1.0</td>\n",
       "      <td>1.0</td>\n",
       "      <td>1.0</td>\n",
       "      <td>1.0</td>\n",
       "      <td>1.0</td>\n",
       "      <td>-1.0</td>\n",
       "      <td>1.0</td>\n",
       "      <td>1.0</td>\n",
       "      <td>1.0</td>\n",
       "      <td>1.0</td>\n",
       "      <td>1.0</td>\n",
       "      <td>1.0</td>\n",
       "      <td>1.0</td>\n",
       "      <td>1.0</td>\n",
       "      <td>1.0</td>\n",
       "      <td>1.0</td>\n",
       "      <td>1.0</td>\n",
       "      <td>1.0</td>\n",
       "      <td>1.0</td>\n",
       "      <td>1.0</td>\n",
       "    </tr>\n",
       "    <tr>\n",
       "      <th>135</th>\n",
       "      <td>-1.0</td>\n",
       "      <td>1.0</td>\n",
       "      <td>1.0</td>\n",
       "      <td>1.0</td>\n",
       "      <td>1.0</td>\n",
       "      <td>1.0</td>\n",
       "      <td>1.0</td>\n",
       "      <td>1.0</td>\n",
       "      <td>1.0</td>\n",
       "      <td>-1.0</td>\n",
       "      <td>-1.0</td>\n",
       "      <td>-1.0</td>\n",
       "      <td>-1.0</td>\n",
       "      <td>1.0</td>\n",
       "      <td>1.0</td>\n",
       "      <td>-1.0</td>\n",
       "      <td>-1.0</td>\n",
       "      <td>1.0</td>\n",
       "      <td>1.0</td>\n",
       "      <td>1.0</td>\n",
       "      <td>1.0</td>\n",
       "      <td>1.0</td>\n",
       "      <td>1.0</td>\n",
       "      <td>1.0</td>\n",
       "      <td>1.0</td>\n",
       "      <td>1.0</td>\n",
       "      <td>1.0</td>\n",
       "      <td>-1.0</td>\n",
       "      <td>-1.0</td>\n",
       "      <td>1.0</td>\n",
       "      <td>1.0</td>\n",
       "      <td>1.0</td>\n",
       "      <td>NaN</td>\n",
       "      <td>1.0</td>\n",
       "      <td>1.0</td>\n",
       "      <td>1.0</td>\n",
       "      <td>NaN</td>\n",
       "      <td>1.0</td>\n",
       "      <td>1.0</td>\n",
       "      <td>1.0</td>\n",
       "      <td>...</td>\n",
       "      <td>1.0</td>\n",
       "      <td>1.0</td>\n",
       "      <td>NaN</td>\n",
       "      <td>NaN</td>\n",
       "      <td>NaN</td>\n",
       "      <td>1.0</td>\n",
       "      <td>1.0</td>\n",
       "      <td>1.0</td>\n",
       "      <td>1.0</td>\n",
       "      <td>1.0</td>\n",
       "      <td>1.0</td>\n",
       "      <td>1.0</td>\n",
       "      <td>1.0</td>\n",
       "      <td>1.0</td>\n",
       "      <td>1.0</td>\n",
       "      <td>1.0</td>\n",
       "      <td>NaN</td>\n",
       "      <td>1.0</td>\n",
       "      <td>1.0</td>\n",
       "      <td>1.0</td>\n",
       "      <td>1.0</td>\n",
       "      <td>1.0</td>\n",
       "      <td>1.0</td>\n",
       "      <td>1.0</td>\n",
       "      <td>1.0</td>\n",
       "      <td>-1.0</td>\n",
       "      <td>1.0</td>\n",
       "      <td>1.0</td>\n",
       "      <td>-1.0</td>\n",
       "      <td>NaN</td>\n",
       "      <td>1.0</td>\n",
       "      <td>1.0</td>\n",
       "      <td>1.0</td>\n",
       "      <td>1.0</td>\n",
       "      <td>1.0</td>\n",
       "      <td>1.0</td>\n",
       "      <td>1.0</td>\n",
       "      <td>1.0</td>\n",
       "      <td>1.0</td>\n",
       "      <td>-1.0</td>\n",
       "    </tr>\n",
       "    <tr>\n",
       "      <th>136</th>\n",
       "      <td>NaN</td>\n",
       "      <td>NaN</td>\n",
       "      <td>NaN</td>\n",
       "      <td>NaN</td>\n",
       "      <td>NaN</td>\n",
       "      <td>NaN</td>\n",
       "      <td>NaN</td>\n",
       "      <td>NaN</td>\n",
       "      <td>NaN</td>\n",
       "      <td>NaN</td>\n",
       "      <td>NaN</td>\n",
       "      <td>NaN</td>\n",
       "      <td>NaN</td>\n",
       "      <td>NaN</td>\n",
       "      <td>NaN</td>\n",
       "      <td>NaN</td>\n",
       "      <td>NaN</td>\n",
       "      <td>NaN</td>\n",
       "      <td>NaN</td>\n",
       "      <td>NaN</td>\n",
       "      <td>NaN</td>\n",
       "      <td>NaN</td>\n",
       "      <td>NaN</td>\n",
       "      <td>NaN</td>\n",
       "      <td>NaN</td>\n",
       "      <td>NaN</td>\n",
       "      <td>NaN</td>\n",
       "      <td>NaN</td>\n",
       "      <td>NaN</td>\n",
       "      <td>NaN</td>\n",
       "      <td>NaN</td>\n",
       "      <td>NaN</td>\n",
       "      <td>NaN</td>\n",
       "      <td>NaN</td>\n",
       "      <td>NaN</td>\n",
       "      <td>NaN</td>\n",
       "      <td>NaN</td>\n",
       "      <td>NaN</td>\n",
       "      <td>NaN</td>\n",
       "      <td>NaN</td>\n",
       "      <td>...</td>\n",
       "      <td>1.0</td>\n",
       "      <td>NaN</td>\n",
       "      <td>1.0</td>\n",
       "      <td>1.0</td>\n",
       "      <td>1.0</td>\n",
       "      <td>1.0</td>\n",
       "      <td>1.0</td>\n",
       "      <td>NaN</td>\n",
       "      <td>NaN</td>\n",
       "      <td>NaN</td>\n",
       "      <td>NaN</td>\n",
       "      <td>1.0</td>\n",
       "      <td>1.0</td>\n",
       "      <td>NaN</td>\n",
       "      <td>1.0</td>\n",
       "      <td>1.0</td>\n",
       "      <td>NaN</td>\n",
       "      <td>NaN</td>\n",
       "      <td>NaN</td>\n",
       "      <td>NaN</td>\n",
       "      <td>1.0</td>\n",
       "      <td>1.0</td>\n",
       "      <td>1.0</td>\n",
       "      <td>1.0</td>\n",
       "      <td>1.0</td>\n",
       "      <td>-1.0</td>\n",
       "      <td>1.0</td>\n",
       "      <td>1.0</td>\n",
       "      <td>1.0</td>\n",
       "      <td>1.0</td>\n",
       "      <td>1.0</td>\n",
       "      <td>1.0</td>\n",
       "      <td>1.0</td>\n",
       "      <td>1.0</td>\n",
       "      <td>NaN</td>\n",
       "      <td>1.0</td>\n",
       "      <td>1.0</td>\n",
       "      <td>1.0</td>\n",
       "      <td>1.0</td>\n",
       "      <td>NaN</td>\n",
       "    </tr>\n",
       "    <tr>\n",
       "      <th>137</th>\n",
       "      <td>NaN</td>\n",
       "      <td>1.0</td>\n",
       "      <td>1.0</td>\n",
       "      <td>1.0</td>\n",
       "      <td>1.0</td>\n",
       "      <td>1.0</td>\n",
       "      <td>1.0</td>\n",
       "      <td>1.0</td>\n",
       "      <td>-1.0</td>\n",
       "      <td>1.0</td>\n",
       "      <td>1.0</td>\n",
       "      <td>1.0</td>\n",
       "      <td>1.0</td>\n",
       "      <td>1.0</td>\n",
       "      <td>1.0</td>\n",
       "      <td>1.0</td>\n",
       "      <td>1.0</td>\n",
       "      <td>-1.0</td>\n",
       "      <td>1.0</td>\n",
       "      <td>1.0</td>\n",
       "      <td>1.0</td>\n",
       "      <td>1.0</td>\n",
       "      <td>1.0</td>\n",
       "      <td>1.0</td>\n",
       "      <td>1.0</td>\n",
       "      <td>1.0</td>\n",
       "      <td>1.0</td>\n",
       "      <td>1.0</td>\n",
       "      <td>-1.0</td>\n",
       "      <td>1.0</td>\n",
       "      <td>1.0</td>\n",
       "      <td>1.0</td>\n",
       "      <td>1.0</td>\n",
       "      <td>1.0</td>\n",
       "      <td>1.0</td>\n",
       "      <td>1.0</td>\n",
       "      <td>1.0</td>\n",
       "      <td>1.0</td>\n",
       "      <td>1.0</td>\n",
       "      <td>1.0</td>\n",
       "      <td>...</td>\n",
       "      <td>1.0</td>\n",
       "      <td>NaN</td>\n",
       "      <td>1.0</td>\n",
       "      <td>1.0</td>\n",
       "      <td>1.0</td>\n",
       "      <td>1.0</td>\n",
       "      <td>1.0</td>\n",
       "      <td>NaN</td>\n",
       "      <td>NaN</td>\n",
       "      <td>NaN</td>\n",
       "      <td>NaN</td>\n",
       "      <td>NaN</td>\n",
       "      <td>NaN</td>\n",
       "      <td>NaN</td>\n",
       "      <td>NaN</td>\n",
       "      <td>NaN</td>\n",
       "      <td>NaN</td>\n",
       "      <td>NaN</td>\n",
       "      <td>NaN</td>\n",
       "      <td>NaN</td>\n",
       "      <td>NaN</td>\n",
       "      <td>NaN</td>\n",
       "      <td>NaN</td>\n",
       "      <td>NaN</td>\n",
       "      <td>NaN</td>\n",
       "      <td>NaN</td>\n",
       "      <td>NaN</td>\n",
       "      <td>NaN</td>\n",
       "      <td>NaN</td>\n",
       "      <td>NaN</td>\n",
       "      <td>NaN</td>\n",
       "      <td>NaN</td>\n",
       "      <td>NaN</td>\n",
       "      <td>NaN</td>\n",
       "      <td>NaN</td>\n",
       "      <td>NaN</td>\n",
       "      <td>1.0</td>\n",
       "      <td>1.0</td>\n",
       "      <td>1.0</td>\n",
       "      <td>1.0</td>\n",
       "    </tr>\n",
       "  </tbody>\n",
       "</table>\n",
       "<p>138 rows × 2790 columns</p>\n",
       "</div>"
      ],
      "text/plain": [
       "     VOTACIÓN DEL PROYECTO 1271  ...  VOTACIÓN DEL TEXTO SUSTITUTORIO  DEL PROYECTO DE LEY DE PRESUPUESTO DEL SECTOR PÚBLICO  PARA EL AÑO FISCAL 2025  (PROYECTO 8758)\n",
       "0                           1.0  ...                                                1.0                                                                               \n",
       "1                           NaN  ...                                               -1.0                                                                               \n",
       "2                           1.0  ...                                                1.0                                                                               \n",
       "3                           0.0  ...                                                NaN                                                                               \n",
       "4                           NaN  ...                                                1.0                                                                               \n",
       "..                          ...  ...                                                ...                                                                               \n",
       "133                         NaN  ...                                                1.0                                                                               \n",
       "134                         1.0  ...                                                1.0                                                                               \n",
       "135                        -1.0  ...                                               -1.0                                                                               \n",
       "136                         NaN  ...                                                NaN                                                                               \n",
       "137                         NaN  ...                                                1.0                                                                               \n",
       "\n",
       "[138 rows x 2790 columns]"
      ]
     },
     "execution_count": 5,
     "metadata": {},
     "output_type": "execute_result"
    }
   ],
   "source": [
    "VOTOS = pd.concat(votes_with_nan, axis=1)\n",
    "VOTOS"
   ]
  },
  {
   "cell_type": "code",
   "execution_count": 6,
   "id": "86da8e1a",
   "metadata": {},
   "outputs": [],
   "source": [
    "def add_summary_row_single(df):\n",
    "    # Compute the sum of votes for each column\n",
    "    column_sums = df.sum(axis=0)\n",
    "    \n",
    "    # Determine if the bill passed (+1) or didn't (-1)\n",
    "    passed_or_not = [1 if x > 0 else -1 for x in column_sums]\n",
    "    \n",
    "    # Add the summary row to the DataFrame\n",
    "    df_with_summary = pd.concat(\n",
    "        [df, pd.DataFrame([passed_or_not], columns=df.columns, index=[\"Summary\"])],\n",
    "        axis=0\n",
    "    )\n",
    "    return df_with_summary\n",
    "VOTOS = add_summary_row_single(VOTOS)"
   ]
  },
  {
   "cell_type": "code",
   "execution_count": 7,
   "id": "facd43fd",
   "metadata": {},
   "outputs": [],
   "source": [
    "def calculate_alignment(df):\n",
    "    # Extract the summary row (outcomes)\n",
    "    outcomes = df.loc[\"Summary\"]\n",
    "    \n",
    "    # Drop the summary row from the DataFrame to analyze representatives\n",
    "    representatives = df.drop(\"Summary\")\n",
    "    \n",
    "    # Calculate alignment for each representative\n",
    "    alignment_count = (representatives == outcomes).sum(axis=1)\n",
    "    \n",
    "    # Create a DataFrame to store results\n",
    "    alignment_df = pd.DataFrame({\n",
    "        \"Representative\": representatives.index,\n",
    "        \"Aligned\": alignment_count\n",
    "    })\n",
    "    \n",
    "    # Sort by number of correct guesses in descending order\n",
    "    alignment_df = alignment_df.sort_values(by=\"Aligned\", ascending=False).reset_index(drop=True)\n",
    "    \n",
    "    return alignment_df\n"
   ]
  },
  {
   "cell_type": "code",
   "execution_count": 8,
   "id": "fa925848",
   "metadata": {},
   "outputs": [
    {
     "data": {
      "text/html": [
       "<div>\n",
       "<style scoped>\n",
       "    .dataframe tbody tr th:only-of-type {\n",
       "        vertical-align: middle;\n",
       "    }\n",
       "\n",
       "    .dataframe tbody tr th {\n",
       "        vertical-align: top;\n",
       "    }\n",
       "\n",
       "    .dataframe thead th {\n",
       "        text-align: right;\n",
       "    }\n",
       "</style>\n",
       "<table border=\"1\" class=\"dataframe\">\n",
       "  <thead>\n",
       "    <tr style=\"text-align: right;\">\n",
       "      <th></th>\n",
       "      <th>Representative</th>\n",
       "      <th>Aligned</th>\n",
       "    </tr>\n",
       "    <tr>\n",
       "      <th>Grupo</th>\n",
       "      <th></th>\n",
       "      <th></th>\n",
       "    </tr>\n",
       "  </thead>\n",
       "  <tbody>\n",
       "    <tr>\n",
       "      <th>Partido Morado</th>\n",
       "      <td>63.0</td>\n",
       "      <td>1677.0</td>\n",
       "    </tr>\n",
       "    <tr>\n",
       "      <th>Partido Politico Nacional Perú Libre</th>\n",
       "      <td>64.0</td>\n",
       "      <td>1752.0</td>\n",
       "    </tr>\n",
       "    <tr>\n",
       "      <th>Renovación Popular</th>\n",
       "      <td>80.0</td>\n",
       "      <td>1760.0</td>\n",
       "    </tr>\n",
       "    <tr>\n",
       "      <th>Acción Popular</th>\n",
       "      <td>84.0</td>\n",
       "      <td>1790.5</td>\n",
       "    </tr>\n",
       "    <tr>\n",
       "      <th>Juntos por el Perú</th>\n",
       "      <td>70.0</td>\n",
       "      <td>1792.0</td>\n",
       "    </tr>\n",
       "    <tr>\n",
       "      <th>Fuerza Popular</th>\n",
       "      <td>80.0</td>\n",
       "      <td>1878.0</td>\n",
       "    </tr>\n",
       "    <tr>\n",
       "      <th>Somos Perú</th>\n",
       "      <td>66.0</td>\n",
       "      <td>1892.0</td>\n",
       "    </tr>\n",
       "    <tr>\n",
       "      <th>Podemos Perú</th>\n",
       "      <td>38.5</td>\n",
       "      <td>1893.0</td>\n",
       "    </tr>\n",
       "    <tr>\n",
       "      <th>Alianza para el Progreso</th>\n",
       "      <td>42.5</td>\n",
       "      <td>1900.5</td>\n",
       "    </tr>\n",
       "    <tr>\n",
       "      <th>Avanza País - Partido de Integración Social</th>\n",
       "      <td>67.0</td>\n",
       "      <td>2076.0</td>\n",
       "    </tr>\n",
       "  </tbody>\n",
       "</table>\n",
       "</div>"
      ],
      "text/plain": [
       "                                            Representative  Aligned\n",
       "Grupo                                                              \n",
       "Partido Morado                                        63.0   1677.0\n",
       "Partido Politico Nacional Perú Libre                  64.0   1752.0\n",
       "Renovación Popular                                    80.0   1760.0\n",
       "Acción Popular                                        84.0   1790.5\n",
       "Juntos por el Perú                                    70.0   1792.0\n",
       "Fuerza Popular                                        80.0   1878.0\n",
       "Somos Perú                                            66.0   1892.0\n",
       "Podemos Perú                                          38.5   1893.0\n",
       "Alianza para el Progreso                              42.5   1900.5\n",
       "Avanza País - Partido de Integración Social           67.0   2076.0"
      ]
     },
     "execution_count": 8,
     "metadata": {},
     "output_type": "execute_result"
    }
   ],
   "source": [
    "pd.concat([calculate_alignment(VOTOS), Congress[\"Grupo\"]], axis=1).groupby(\"Grupo\").median().sort_values(\"Aligned\")"
   ]
  },
  {
   "cell_type": "code",
   "execution_count": 9,
   "id": "f58fbfd6",
   "metadata": {},
   "outputs": [
    {
     "name": "stdout",
     "output_type": "stream",
     "text": [
      "[0.22632498 0.07291563 0.04005594]\n",
      "[177.93698656 100.99742418  74.85718   ]\n"
     ]
    }
   ],
   "source": [
    "from sklearn.decomposition import PCA\n",
    "pca = PCA(n_components=3)\n",
    "VOTOS_REDUCED = pca.fit_transform(VOTOS.fillna(0))\n",
    "print(pca.explained_variance_ratio_)\n",
    "print(pca.singular_values_)\n"
   ]
  },
  {
   "cell_type": "code",
   "execution_count": 10,
   "id": "50f31e79",
   "metadata": {},
   "outputs": [
    {
     "data": {
      "text/html": [
       "<div>\n",
       "<style scoped>\n",
       "    .dataframe tbody tr th:only-of-type {\n",
       "        vertical-align: middle;\n",
       "    }\n",
       "\n",
       "    .dataframe tbody tr th {\n",
       "        vertical-align: top;\n",
       "    }\n",
       "\n",
       "    .dataframe thead th {\n",
       "        text-align: right;\n",
       "    }\n",
       "</style>\n",
       "<table border=\"1\" class=\"dataframe\">\n",
       "  <thead>\n",
       "    <tr style=\"text-align: right;\">\n",
       "      <th></th>\n",
       "      <th>0</th>\n",
       "      <th>1</th>\n",
       "      <th>2</th>\n",
       "      <th>Congresista</th>\n",
       "      <th>Región</th>\n",
       "      <th>Bancada</th>\n",
       "      <th>Grupo</th>\n",
       "      <th>Votacion</th>\n",
       "    </tr>\n",
       "  </thead>\n",
       "  <tbody>\n",
       "    <tr>\n",
       "      <th>0</th>\n",
       "      <td>13.364469</td>\n",
       "      <td>5.315842</td>\n",
       "      <td>4.737968</td>\n",
       "      <td>Acuña Peralta María Grimaneza</td>\n",
       "      <td>Lambayeque</td>\n",
       "      <td>ALIANZA PARA EL PROGRESO</td>\n",
       "      <td>Alianza para el Progreso</td>\n",
       "      <td>11,384</td>\n",
       "    </tr>\n",
       "    <tr>\n",
       "      <th>1</th>\n",
       "      <td>-0.666018</td>\n",
       "      <td>-4.879556</td>\n",
       "      <td>8.742510</td>\n",
       "      <td>Acuña Peralta Segundo Héctor</td>\n",
       "      <td>La libertad</td>\n",
       "      <td>HONOR Y DEMOCRACIA</td>\n",
       "      <td>Alianza para el Progreso</td>\n",
       "      <td>19,729</td>\n",
       "    </tr>\n",
       "    <tr>\n",
       "      <th>2</th>\n",
       "      <td>-22.754921</td>\n",
       "      <td>7.750823</td>\n",
       "      <td>-9.788503</td>\n",
       "      <td>Agüero Gutiérrez María Antonieta</td>\n",
       "      <td>Arequipa</td>\n",
       "      <td>PERÚ LIBRE</td>\n",
       "      <td>Partido Politico Nacional Perú Libre</td>\n",
       "      <td>29,293</td>\n",
       "    </tr>\n",
       "    <tr>\n",
       "      <th>3</th>\n",
       "      <td>17.858360</td>\n",
       "      <td>-0.218750</td>\n",
       "      <td>-2.116288</td>\n",
       "      <td>Aguinaga Recuenco Alejandro Aurelio</td>\n",
       "      <td>Lambayeque</td>\n",
       "      <td>FUERZA POPULAR</td>\n",
       "      <td>Fuerza Popular</td>\n",
       "      <td>10,715</td>\n",
       "    </tr>\n",
       "    <tr>\n",
       "      <th>4</th>\n",
       "      <td>0.355258</td>\n",
       "      <td>4.158806</td>\n",
       "      <td>4.323920</td>\n",
       "      <td>Alcarraz Aguero Yorel Kira</td>\n",
       "      <td>LIMA</td>\n",
       "      <td>PODEMOS PERÚ</td>\n",
       "      <td>Somos Perú</td>\n",
       "      <td>28,404</td>\n",
       "    </tr>\n",
       "    <tr>\n",
       "      <th>...</th>\n",
       "      <td>...</td>\n",
       "      <td>...</td>\n",
       "      <td>...</td>\n",
       "      <td>...</td>\n",
       "      <td>...</td>\n",
       "      <td>...</td>\n",
       "      <td>...</td>\n",
       "      <td>...</td>\n",
       "    </tr>\n",
       "    <tr>\n",
       "      <th>134</th>\n",
       "      <td>13.836946</td>\n",
       "      <td>2.104672</td>\n",
       "      <td>1.872653</td>\n",
       "      <td>Zeballos Aponte Jorge Arturo</td>\n",
       "      <td>Peruanos Residentes en el Extranjero</td>\n",
       "      <td>RENOVACIÓN POPULAR</td>\n",
       "      <td>Renovación Popular</td>\n",
       "      <td>4,691</td>\n",
       "    </tr>\n",
       "    <tr>\n",
       "      <th>135</th>\n",
       "      <td>-9.962824</td>\n",
       "      <td>6.930686</td>\n",
       "      <td>4.441853</td>\n",
       "      <td>Zeballos Madariaga Carlos Javier</td>\n",
       "      <td>Puno</td>\n",
       "      <td>NO AGRUPADO</td>\n",
       "      <td>Acción Popular</td>\n",
       "      <td>23,883</td>\n",
       "    </tr>\n",
       "    <tr>\n",
       "      <th>136</th>\n",
       "      <td>-5.987738</td>\n",
       "      <td>-27.033279</td>\n",
       "      <td>-7.633402</td>\n",
       "      <td>Zegarra Saboya Ana Zadith</td>\n",
       "      <td>Loreto</td>\n",
       "      <td>SOMOS PERÚ</td>\n",
       "      <td>Somos Perú</td>\n",
       "      <td>4,917</td>\n",
       "    </tr>\n",
       "    <tr>\n",
       "      <th>137</th>\n",
       "      <td>16.904887</td>\n",
       "      <td>1.901780</td>\n",
       "      <td>-2.862568</td>\n",
       "      <td>Zeta Chunga Cruz María</td>\n",
       "      <td>Piura</td>\n",
       "      <td>FUERZA POPULAR</td>\n",
       "      <td>Fuerza Popular</td>\n",
       "      <td>10,079</td>\n",
       "    </tr>\n",
       "    <tr>\n",
       "      <th>138</th>\n",
       "      <td>13.066894</td>\n",
       "      <td>15.480558</td>\n",
       "      <td>-0.232607</td>\n",
       "      <td>NaN</td>\n",
       "      <td>NaN</td>\n",
       "      <td>NaN</td>\n",
       "      <td>NaN</td>\n",
       "      <td>NaN</td>\n",
       "    </tr>\n",
       "  </tbody>\n",
       "</table>\n",
       "<p>139 rows × 8 columns</p>\n",
       "</div>"
      ],
      "text/plain": [
       "             0          1  ...                                 Grupo Votacion\n",
       "0    13.364469   5.315842  ...              Alianza para el Progreso   11,384\n",
       "1    -0.666018  -4.879556  ...              Alianza para el Progreso   19,729\n",
       "2   -22.754921   7.750823  ...  Partido Politico Nacional Perú Libre   29,293\n",
       "3    17.858360  -0.218750  ...                        Fuerza Popular   10,715\n",
       "4     0.355258   4.158806  ...                            Somos Perú   28,404\n",
       "..         ...        ...  ...                                   ...      ...\n",
       "134  13.836946   2.104672  ...                    Renovación Popular    4,691\n",
       "135  -9.962824   6.930686  ...                        Acción Popular   23,883\n",
       "136  -5.987738 -27.033279  ...                            Somos Perú    4,917\n",
       "137  16.904887   1.901780  ...                        Fuerza Popular   10,079\n",
       "138  13.066894  15.480558  ...                                   NaN      NaN\n",
       "\n",
       "[139 rows x 8 columns]"
      ]
     },
     "execution_count": 10,
     "metadata": {},
     "output_type": "execute_result"
    }
   ],
   "source": [
    "VOTOS_REDUCED_DF = pd.concat([pd.DataFrame(VOTOS_REDUCED), Congress], axis=1)\n",
    "VOTOS_REDUCED_DF"
   ]
  },
  {
   "cell_type": "code",
   "execution_count": 11,
   "id": "c27e65d0",
   "metadata": {},
   "outputs": [
    {
     "name": "stdout",
     "output_type": "stream",
     "text": [
      "<class 'pandas.core.frame.DataFrame'>\n",
      "RangeIndex: 139 entries, 0 to 138\n",
      "Data columns (total 8 columns):\n",
      " #   Column       Non-Null Count  Dtype  \n",
      "---  ------       --------------  -----  \n",
      " 0   0            139 non-null    float64\n",
      " 1   1            139 non-null    float64\n",
      " 2   2            139 non-null    float64\n",
      " 3   Congresista  138 non-null    object \n",
      " 4   Región       138 non-null    object \n",
      " 5   Bancada      138 non-null    object \n",
      " 6   Grupo        138 non-null    object \n",
      " 7   Votacion     138 non-null    object \n",
      "dtypes: float64(3), object(5)\n",
      "memory usage: 8.8+ KB\n"
     ]
    }
   ],
   "source": [
    "VOTOS_REDUCED_DF.info()"
   ]
  },
  {
   "cell_type": "code",
   "execution_count": 12,
   "id": "0605473e",
   "metadata": {},
   "outputs": [
    {
     "data": {
      "image/png": "[encoded data removed]",
      "text/plain": [
       "<Figure size 640x480 with 1 Axes>"
      ]
     },
     "metadata": {},
     "output_type": "display_data"
    }
   ],
   "source": [
    "import seaborn as sns\n",
    "from matplotlib import pyplot as plt\n",
    "\n",
    "import seaborn as sns\n",
    "from matplotlib import pyplot as plt\n",
    "sns.set_theme(\"paper\")\n",
    "\n",
    "# Create scatterplot\n",
    "sns.scatterplot(data = VOTOS_REDUCED_DF, x = 0, y = 1, hue = \"Grupo\")\n",
    "\n",
    "# Adjust the legend\n",
    "plt.legend(title='Grupo', bbox_to_anchor=(1, 1), loc='best', frameon=False, title_fontsize='large', fontsize='small', ncol=1)\n",
    "\n",
    "# Display the plot\n",
    "#plt.tight_layout()\n",
    "plt.show()\n"
   ]
  },
  {
   "cell_type": "code",
   "execution_count": 13,
   "id": "f6d55dd9",
   "metadata": {},
   "outputs": [
    {
     "data": {
      "application/vnd.plotly.v1+json": {
       "config": {
        "plotlyServerURL": "https://plot.ly"
       },
       "data": [
        {
         "customdata": [
          [
           "Acuña Peralta María Grimaneza"
          ],
          [
           "Camones Soriano Lady Mercedes"
          ],
          [
           "Chiabra León Roberto Enrique"
          ],
          [
           "Elías Ávalos José Luis"
          ],
          [
           "García Correa Idelso Manuel"
          ],
          [
           "Heidinger Ballesteros Nelcy Lidia"
          ],
          [
           "Julón Irigoín Elva Edhit"
          ],
          [
           "Kamiche Morante Luis Roberto"
          ],
          [
           "Lizarzaburu Lizarzaburu Juan Carlos Martín"
          ],
          [
           "Marticorena Mendoza Jorge Alfonso"
          ],
          [
           "Ruíz Rodríguez Magaly Rosmery"
          ],
          [
           "Salhuana Cavides Eduardo"
          ],
          [
           "Soto Reyes Alejandro"
          ],
          [
           "Torres Salinas Rosio"
          ]
         ],
         "hovertemplate": "Bancada=ALIANZA PARA EL PROGRESO<br>0=%{x}<br>1=%{y}<br>2=%{z}<br>Congresista=%{customdata[0]}<extra></extra>",
         "legendgroup": "ALIANZA PARA EL PROGRESO",
         "marker": {
          "color": "#636efa",
          "symbol": "circle"
         },
         "mode": "markers",
         "name": "ALIANZA PARA EL PROGRESO",
         "scene": "scene",
         "showlegend": true,
         "type": "scatter3d",
         "x": [
          13.364468884072515,
          5.36871353259726,
          13.948249812990245,
          8.302879250690134,
          11.57723135886495,
          3.226879579362306,
          9.688267439817208,
          -18.820232374844583,
          13.849019386544105,
          -11.344993867865426,
          11.702963962124572,
          9.225181842461792,
          7.97129581852354,
          10.862760671945587
         ],
         "y": [
          5.315842394534442,
          -10.093582368125203,
          6.77012161833578,
          -2.7676027537080734,
          6.561507044971459,
          -11.155195318199848,
          2.047742217212316,
          -2.130457673994034,
          -6.373617141481191,
          7.372257227082463,
          4.340973481099658,
          -4.1167416997197686,
          -2.3061676867069427,
          4.564945276529169
         ],
         "z": [
          4.737967671021518,
          3.25045401622928,
          6.291639236001418,
          -2.120150279628766,
          3.766905357451111,
          -12.819687515532673,
          5.294693482113867,
          -0.7551279004263397,
          -1.0074138043173078,
          -2.594350465180131,
          3.675337302813677,
          5.723784874439444,
          8.328811809505703,
          2.1947759736464754
         ]
        },
        {
         "customdata": [
          [
           "Acuña Peralta Segundo Héctor"
          ],
          [
           "Cueto Aservi José Ernesto"
          ],
          [
           "Echaíz de Núñez Izaga Gladys Margot"
          ],
          [
           "Montoya Manrique Jorge Carlos"
          ],
          [
           "Padilla Romero Javier Rommel"
          ]
         ],
         "hovertemplate": "Bancada=HONOR Y DEMOCRACIA<br>0=%{x}<br>1=%{y}<br>2=%{z}<br>Congresista=%{customdata[0]}<extra></extra>",
         "legendgroup": "HONOR Y DEMOCRACIA",
         "marker": {
          "color": "#EF553B",
          "symbol": "circle"
         },
         "mode": "markers",
         "name": "HONOR Y DEMOCRACIA",
         "scene": "scene",
         "showlegend": true,
         "type": "scatter3d",
         "x": [
          -0.6660183828787424,
          17.102921076265055,
          9.89227794216495,
          13.411300713903515,
          13.38267266689438
         ],
         "y": [
          -4.879555931537773,
          5.024736248889607,
          -5.786232129564559,
          4.118643492710988,
          7.973760120501027
         ],
         "z": [
          8.742510357811389,
          4.252730914632597,
          3.2812815232263417,
          5.265111213744526,
          3.6260260819245596
         ]
        },
        {
         "customdata": [
          [
           "Agüero Gutiérrez María Antonieta"
          ],
          [
           "Balcázar Zelada José María"
          ],
          [
           "Cerrón Rojas Waldemar José"
          ],
          [
           "Cruz Mamani Flavio"
          ],
          [
           "Gonza Castillo Americo"
          ],
          [
           "Herrera Mamani Fernando Mario"
          ],
          [
           "Mita Alanoca Isaac"
          ],
          [
           "Montalvo Cubas Segundo Toribio"
          ],
          [
           "Portalatino Ávalos Kelly Roxana"
          ],
          [
           "Reyes Cam Abel Augusto"
          ],
          [
           "Rivas Chacara Janet Milagros"
          ],
          [
           "Taipe Coronado María Elizabeth"
          ]
         ],
         "hovertemplate": "Bancada=PERÚ LIBRE<br>0=%{x}<br>1=%{y}<br>2=%{z}<br>Congresista=%{customdata[0]}<extra></extra>",
         "legendgroup": "PERÚ LIBRE",
         "marker": {
          "color": "#00cc96",
          "symbol": "circle"
         },
         "mode": "markers",
         "name": "PERÚ LIBRE",
         "scene": "scene",
         "showlegend": true,
         "type": "scatter3d",
         "x": [
          -22.75492062103857,
          -18.12868235134368,
          -19.25534476419792,
          -22.694944949474678,
          -20.170312405411146,
          -7.434171376188406,
          -13.992264730883388,
          -18.295704325137066,
          -17.858202257767687,
          -11.416929377680974,
          -26.561624746348702,
          -21.326478153461643
         ],
         "y": [
          7.750823268280091,
          1.0701426761079242,
          4.062672644690235,
          13.156027103513068,
          8.577119624621858,
          -28.33478950918845,
          -6.827923456054758,
          8.474293005009155,
          -6.67321810551883,
          -16.61965896663784,
          4.371351063780833,
          1.0868696612041482
         ],
         "z": [
          -9.78850290125088,
          -2.763784338137177,
          -6.231089484445851,
          -7.048862352245853,
          -8.659133079110115,
          -5.263327853827488,
          -13.034866282398095,
          -6.908073909844212,
          -9.022970888839476,
          -4.910053637569962,
          -4.308624571395511,
          -7.71815846368081
         ]
        },
        {
         "customdata": [
          [
           "Aguinaga Recuenco Alejandro Aurelio"
          ],
          [
           "Alegría García Arturo"
          ],
          [
           "Barbarán Reyes Rosangella Andrea"
          ],
          [
           "Bustamante Donayre Ernesto"
          ],
          [
           "Castillo Rivas Eduardo Enrique"
          ],
          [
           "Chacón Trujillo Nilza Merly"
          ],
          [
           "Flores Ruíz Víctor Seferino"
          ],
          [
           "Guerra García Campos Hernando"
          ],
          [
           "Huamán Coronado Raúl"
          ],
          [
           "Infantes Castañeda Mery Eliana"
          ],
          [
           "Jiménez Heredia David Julio"
          ],
          [
           "Juárez Gallegos Carmen Patricia"
          ],
          [
           "López Morales Jeny Luz"
          ],
          [
           "Moyano Delgado Martha Lupe"
          ],
          [
           "Obando Morgan Auristela Ana"
          ],
          [
           "Olivos Martínez Vivian"
          ],
          [
           "Ramírez García Tania Estefany"
          ],
          [
           "Revilla Villanueva César Manuel"
          ],
          [
           "Rospigliosi Capurro Fernando Miguel"
          ],
          [
           "Santisteban Suclupe Magally"
          ],
          [
           "Ventura Angel Héctor José"
          ],
          [
           "Zeta Chunga Cruz María"
          ]
         ],
         "hovertemplate": "Bancada=FUERZA POPULAR<br>0=%{x}<br>1=%{y}<br>2=%{z}<br>Congresista=%{customdata[0]}<extra></extra>",
         "legendgroup": "FUERZA POPULAR",
         "marker": {
          "color": "#ab63fa",
          "symbol": "circle"
         },
         "mode": "markers",
         "name": "FUERZA POPULAR",
         "scene": "scene",
         "showlegend": true,
         "type": "scatter3d",
         "x": [
          17.85835987928958,
          16.648268033390675,
          18.34134402242088,
          19.10158764899746,
          20.429257379004575,
          19.86839448492129,
          21.15125651080261,
          9.733224254047352,
          16.5566309417313,
          19.59860777606659,
          19.29294320302051,
          19.587962681172662,
          19.50198284873958,
          19.821981507110337,
          20.447834648042065,
          18.373274140525304,
          18.98734907163545,
          19.039325771239852,
          1.7750342165032393,
          -1.2883406046357109,
          19.214498637912687,
          16.90488746093309
         ],
         "y": [
          -0.21874965928988582,
          -3.8201986479310515,
          0.8221693872836231,
          3.2921318850446895,
          4.864967873131619,
          4.534562524730854,
          7.8945427697210935,
          -8.350750250638262,
          1.5232284812928016,
          5.790482465321342,
          2.450737481178838,
          1.105748598931285,
          5.379709052161397,
          2.7559595799895527,
          5.427566974802436,
          0.37298225688847936,
          2.104874942215479,
          1.344976551871836,
          -18.951375404082505,
          -21.70137232545229,
          2.5590936426884983,
          1.9017796881374376
         ],
         "z": [
          -2.116288429196025,
          -1.4094953714922445,
          -1.7623518300602745,
          -3.873091879332468,
          -2.6577787070713366,
          -4.255327238376376,
          -4.140851065801083,
          5.859310112206421,
          -2.691796516143993,
          -3.037136501866451,
          -3.8523094151422517,
          -0.7792236813353657,
          -3.310349991932134,
          -5.1026524364661965,
          -3.6915311874576875,
          -1.9376339124832187,
          -2.090353820902169,
          -4.464412472473085,
          -15.455390512247902,
          -13.405344435371106,
          -3.6535485272961403,
          -2.862568315301201
         ]
        },
        {
         "customdata": [
          [
           "Alcarraz Aguero Yorel Kira"
          ],
          [
           "Arriola Tueros José Alberto"
          ],
          [
           "Bellido Ugarte Guido"
          ],
          [
           "Burgos Oliveros Juan Bartolomé"
          ],
          [
           "Calle Lobatón Digna"
          ],
          [
           "Espinoza Vargas Jhaec Darwin"
          ],
          [
           "Flores Ancachi Jorge Luis"
          ],
          [
           "Juárez Calle Heidy Lisbeth"
          ],
          [
           "Luna Gálvez José León"
          ],
          [
           "Orué Medina Ariana Maybee"
          ],
          [
           "Paredes Castro Francis Jhasmina"
          ],
          [
           "Picón Quedo Luis Raúl"
          ],
          [
           "Tello Montes Nivardo Edgar"
          ],
          [
           "Wong Pujada Enrique"
          ]
         ],
         "hovertemplate": "Bancada=PODEMOS PERÚ<br>0=%{x}<br>1=%{y}<br>2=%{z}<br>Congresista=%{customdata[0]}<extra></extra>",
         "legendgroup": "PODEMOS PERÚ",
         "marker": {
          "color": "#FFA15A",
          "symbol": "circle"
         },
         "mode": "markers",
         "name": "PODEMOS PERÚ",
         "scene": "scene",
         "showlegend": true,
         "type": "scatter3d",
         "x": [
          0.3552582254399595,
          7.007625189971247,
          -18.727717654140804,
          7.680874305050185,
          0.3655932992547024,
          -2.7502940018399484,
          -2.4965738595391667,
          -0.5732277154545447,
          -0.46414941784239605,
          -5.6831295844421215,
          -14.253463190960979,
          -4.715080940761378,
          -10.294942114733917,
          -0.29087156342333337
         ],
         "y": [
          4.158805987172438,
          4.401343205262466,
          9.623126469724268,
          2.1008944109909984,
          -3.2820339415029633,
          2.4167770599142138,
          9.401326636748747,
          -0.45622296505549215,
          -10.75342303464598,
          -26.003578646675944,
          9.275569195431887,
          0.5938066486488975,
          3.743747434832024,
          -12.485668408424694
         ],
         "z": [
          4.323919842108856,
          0.08919898632580359,
          -6.193296512762229,
          2.840098264401587,
          1.2132729002801128,
          -2.350063944923223,
          3.814460995569242,
          3.6947224398069123,
          -2.2130726250163417,
          -8.365533422974647,
          -3.050823281341434,
          -3.9714512762460012,
          -5.921366110685633,
          1.1990109596185223
         ]
        },
        {
         "customdata": [
          [
           "Alva Prieto María del Carmen"
          ],
          [
           "Anderson Ramírez Carlos Antonio"
          ],
          [
           "Chávez Chino Betssy Betzabet"
          ],
          [
           "Cordero Jon Tay María del Pilar"
          ],
          [
           "Díaz Monago Freddy Ronald"
          ],
          [
           "Martínez Talavera Pedro Edwin"
          ],
          [
           "Pablo Medina Flor Aidee"
          ],
          [
           "Palacios Huamán Margot"
          ],
          [
           "Zeballos Madariaga Carlos Javier"
          ]
         ],
         "hovertemplate": "Bancada=NO AGRUPADO<br>0=%{x}<br>1=%{y}<br>2=%{z}<br>Congresista=%{customdata[0]}<extra></extra>",
         "legendgroup": "NO AGRUPADO",
         "marker": {
          "color": "#19d3f3",
          "symbol": "circle"
         },
         "mode": "markers",
         "name": "NO AGRUPADO",
         "scene": "scene",
         "showlegend": true,
         "type": "scatter3d",
         "x": [
          9.476181566027789,
          5.658020114427874,
          -9.785298771359347,
          8.419361978309322,
          -2.8319351051717185,
          7.455398559532517,
          -10.072974893077133,
          -23.852485792155875,
          -9.962823587485136
         ],
         "y": [
          -3.768693965298967,
          -2.224257587574041,
          -26.484587744811105,
          -4.7844390829430345,
          -20.273030918027697,
          10.540122147465027,
          -11.893691202479696,
          1.6515573396212453,
          6.9306856346858545
         ],
         "z": [
          -6.369851967292553,
          11.068251111303766,
          -4.345227208336103,
          5.804396308658715,
          3.451751941034005,
          1.1191769159894682,
          18.527754218783134,
          -3.4057667696633773,
          4.441853186852438
         ]
        },
        {
         "customdata": [
          [
           "Alva Rojas Carlos Enrique"
          ],
          [
           "Aragón Carreño Luis Ángel"
          ],
          [
           "Doroteo Carbajo Raúl Felipe"
          ],
          [
           "López Ureña Ilich Fredy"
          ],
          [
           "Monteza Facho Silvia María"
          ],
          [
           "Mori Celis Juan Carlos"
          ],
          [
           "Portero López Hilda Marleny"
          ],
          [
           "Soto Palacios Wilson"
          ],
          [
           "Vergara Mendoza Elvis Hernán"
          ]
         ],
         "hovertemplate": "Bancada=ACCIÓN POPULAR<br>0=%{x}<br>1=%{y}<br>2=%{z}<br>Congresista=%{customdata[0]}<extra></extra>",
         "legendgroup": "ACCIÓN POPULAR",
         "marker": {
          "color": "#FF6692",
          "symbol": "circle"
         },
         "mode": "markers",
         "name": "ACCIÓN POPULAR",
         "scene": "scene",
         "showlegend": true,
         "type": "scatter3d",
         "x": [
          0.9014474509867303,
          4.5220450997468395,
          0.547514545549364,
          4.589030820063768,
          8.354742086254502,
          2.7657722189262266,
          -0.06900778853468721,
          5.908852418652105,
          -1.8936386259566083
         ],
         "y": [
          1.8488620902414539,
          9.987071169767159,
          5.292987308659604,
          0.9881078094327905,
          8.26785954914679,
          7.636810636507556,
          9.25491906830193,
          5.859149711967607,
          -2.428068245381619
         ],
         "z": [
          -1.9060275957047164,
          0.6813748075832401,
          2.4836810656312776,
          1.5398944899082883,
          1.835304762503428,
          0.8747855515630288,
          8.46449326944597,
          1.3237146461662017,
          0.36077316033810797
         ]
        },
        {
         "customdata": [
          [
           "Amuruz Dulanto Yessica Rosselli"
          ],
          [
           "Cavero Alva Alejandro Enrique"
          ],
          [
           "Gonzales Delgado Diana Carolina"
          ],
          [
           "Málaga Trillo George Edward"
          ],
          [
           "Paredes Fonseca Karol Ivett"
          ],
          [
           "Tudela Gutiérrez Adriana Josefina"
          ],
          [
           "Williams Zapata José Daniel"
          ]
         ],
         "hovertemplate": "Bancada=AVANZA PAÍS - PARTIDO DE INTEGRACIÓN SOCIAL<br>0=%{x}<br>1=%{y}<br>2=%{z}<br>Congresista=%{customdata[0]}<extra></extra>",
         "legendgroup": "AVANZA PAÍS - PARTIDO DE INTEGRACIÓN SOCIAL",
         "marker": {
          "color": "#B6E880",
          "symbol": "circle"
         },
         "mode": "markers",
         "name": "AVANZA PAÍS - PARTIDO DE INTEGRACIÓN SOCIAL",
         "scene": "scene",
         "showlegend": true,
         "type": "scatter3d",
         "x": [
          12.471506275466982,
          14.963367162387579,
          18.69565820367742,
          1.778856504350215,
          10.44256464970398,
          13.75880432326806,
          9.990739352696803
         ],
         "y": [
          -6.4446097397074364,
          -11.28461618664585,
          2.974259820456097,
          -10.912583634219414,
          0.827107999995909,
          -13.95553271428472,
          -10.340228304727539
         ],
         "z": [
          2.2896386484858238,
          2.027952140476451,
          6.322594806267841,
          8.797267944449379,
          8.471861563694159,
          3.0578941815851324,
          -2.1353998805872476
         ]
        },
        {
         "customdata": [
          [
           "Azurín Loayza Alfredo"
          ],
          [
           "Cordero Jon Tay Luis Gustavo"
          ],
          [
           "Elera García Wilmar Alberto"
          ],
          [
           "Jeri Oré José Enrique"
          ],
          [
           "Morante Figari Jorge Alberto"
          ],
          [
           "Pazo Nunura José Bernardo"
          ],
          [
           "Saavedra Casternoque Hitler"
          ],
          [
           "Valer Pinto Héctor"
          ],
          [
           "Zegarra Saboya Ana Zadith"
          ]
         ],
         "hovertemplate": "Bancada=SOMOS PERÚ<br>0=%{x}<br>1=%{y}<br>2=%{z}<br>Congresista=%{customdata[0]}<extra></extra>",
         "legendgroup": "SOMOS PERÚ",
         "marker": {
          "color": "#FF97FF",
          "symbol": "circle"
         },
         "mode": "markers",
         "name": "SOMOS PERÚ",
         "scene": "scene",
         "showlegend": true,
         "type": "scatter3d",
         "x": [
          14.884183960979529,
          9.406302324889957,
          -4.97572937050167,
          4.503984012142538,
          20.10060427297387,
          -1.3903573741240887,
          4.8700627670645495,
          -1.6172021415570363,
          -5.987738428614671
         ],
         "y": [
          7.7357939420482555,
          2.309419633992895,
          -21.54068186830601,
          1.4774114142157078,
          4.758114642013587,
          -9.213306394672502,
          5.299253228255039,
          3.2852537782055307,
          -27.033279465295223
         ],
         "z": [
          0.5802081344465472,
          -2.805813069466084,
          1.7478531139014315,
          -0.9588144445706188,
          -5.0165101386076225,
          -12.88554473826091,
          1.879290802490336,
          -1.7493564180386307,
          -7.633401628365814
         ]
        },
        {
         "customdata": [
          [
           "Bazán Calderón Diego Alonso Fernando"
          ],
          [
           "Chirinos Venegas Patricia Rosa"
          ],
          [
           "Ciccia Vásquez Miguel Angel"
          ],
          [
           "Córdova Lobatón María Jessica"
          ],
          [
           "Herrera Medina Noelia Rossvith"
          ],
          [
           "Jáuregui Martínez de Aguayo María de los Milagros Jackeline"
          ],
          [
           "Medina Minaya Esdras Ricardo"
          ],
          [
           "Muñante Barrios Alejandro"
          ],
          [
           "Trigozo Reátegui Cheryl"
          ],
          [
           "Yarrow Lumbreras Norma Martina"
          ],
          [
           "Zeballos Aponte Jorge Arturo"
          ]
         ],
         "hovertemplate": "Bancada=RENOVACIÓN POPULAR<br>0=%{x}<br>1=%{y}<br>2=%{z}<br>Congresista=%{customdata[0]}<extra></extra>",
         "legendgroup": "RENOVACIÓN POPULAR",
         "marker": {
          "color": "#FECB52",
          "symbol": "circle"
         },
         "mode": "markers",
         "name": "RENOVACIÓN POPULAR",
         "scene": "scene",
         "showlegend": true,
         "type": "scatter3d",
         "x": [
          14.049847310481857,
          11.056754626745168,
          14.086668327510885,
          12.919470850191793,
          13.247068969836333,
          12.604913276163668,
          10.97441044711597,
          12.785218486620867,
          9.424486034110055,
          17.44790471085879,
          13.8369457780496
         ],
         "y": [
          -0.7593823137588023,
          -6.390786199489122,
          6.277698668362491,
          0.9558962774853571,
          0.8353524416153874,
          -5.224088031443749,
          9.915564457524479,
          -5.612727628461282,
          -2.7320690830994807,
          1.1451016930308906,
          2.104671714510766
         ],
         "z": [
          3.297229271845554,
          -1.3047797569587802,
          2.7785419902437627,
          4.469145933030653,
          1.4587000707308564,
          2.516770596467883,
          -0.8805842593798996,
          1.5706542445001048,
          6.28522441175397,
          5.628740013438061,
          1.872652699748004
         ]
        },
        {
         "customdata": [
          [
           "Bazán Narro Sigrid Tesoro"
          ],
          [
           "Cortez Aguirre Isabel"
          ],
          [
           "Luque Ibarra Ruth"
          ],
          [
           "Paredes Piqué Susel Ana María"
          ],
          [
           "Reymundo Mercado Edgard Cornelio"
          ]
         ],
         "hovertemplate": "Bancada=BLOQUE DEMOCRÁTICO POPULAR<br>0=%{x}<br>1=%{y}<br>2=%{z}<br>Congresista=%{customdata[0]}<extra></extra>",
         "legendgroup": "BLOQUE DEMOCRÁTICO POPULAR",
         "marker": {
          "color": "#636efa",
          "symbol": "circle"
         },
         "mode": "markers",
         "name": "BLOQUE DEMOCRÁTICO POPULAR",
         "scene": "scene",
         "showlegend": true,
         "type": "scatter3d",
         "x": [
          -25.363295591923055,
          -22.937552880869482,
          -25.401047484278777,
          -16.639694169687353,
          -21.066132316053757
         ],
         "y": [
          -0.3492251941324589,
          1.0728413793893383,
          -3.236447188725111,
          -10.57064195979343,
          -2.9689370031225515
         ],
         "z": [
          18.404765842908358,
          13.448578186020864,
          19.852484682728377,
          16.872715666907098,
          13.419289617002535
         ]
        },
        {
         "customdata": [
          [
           "Bermejo Rojas Guillermo"
          ],
          [
           "Coayla Juárez Jorge Samuel"
          ],
          [
           "Cutipa Ccama Víctor Raúl"
          ],
          [
           "Echeverría Rodríguez Hamlet"
          ],
          [
           "Limachi Quispe Nieves Esmeralda"
          ],
          [
           "Quispe Mamani Wilson Rusbel"
          ],
          [
           "Sánchez Palomino Roberto Helbert"
          ],
          [
           "Varas Meléndez Elías Marcial"
          ]
         ],
         "hovertemplate": "Bancada=JUNTOS POR EL PERÚ - VOCES DEL PUEBLO<br>0=%{x}<br>1=%{y}<br>2=%{z}<br>Congresista=%{customdata[0]}<extra></extra>",
         "legendgroup": "JUNTOS POR EL PERÚ - VOCES DEL PUEBLO",
         "marker": {
          "color": "#EF553B",
          "symbol": "circle"
         },
         "mode": "markers",
         "name": "JUNTOS POR EL PERÚ - VOCES DEL PUEBLO",
         "scene": "scene",
         "showlegend": true,
         "type": "scatter3d",
         "x": [
          -25.356344040248707,
          -22.322859356865667,
          -27.033908958726716,
          -26.08342517105666,
          -15.900806053095533,
          -23.90351977123322,
          -22.21073286833249,
          -24.193029606314948
         ],
         "y": [
          0.21938895626104807,
          9.198982249978332,
          3.9397119623250507,
          1.1301087102106515,
          -6.073571857637947,
          4.73241347628209,
          -7.400369524819739,
          5.570635199714977
         ],
         "z": [
          6.5974369983188,
          -2.046970819714135,
          5.7859423490739,
          8.720982045962339,
          3.3555317010102796,
          -1.7334185629066252,
          5.213551777194062,
          4.548159979553748
         ]
        },
        {
         "customdata": [
          [
           "Dávila Atanacio Pasión Neomias"
          ],
          [
           "Flores Ramírez Alex Randu"
          ],
          [
           "Pariona Sinche Alfredo"
          ],
          [
           "Quito Sarmiento Bernardo Jaime"
          ],
          [
           "Robles Araujo Silvana Emperatriz"
          ]
         ],
         "hovertemplate": "Bancada=BANCADA SOCIALISTA<br>0=%{x}<br>1=%{y}<br>2=%{z}<br>Congresista=%{customdata[0]}<extra></extra>",
         "legendgroup": "BANCADA SOCIALISTA",
         "marker": {
          "color": "#00cc96",
          "symbol": "circle"
         },
         "mode": "markers",
         "name": "BANCADA SOCIALISTA",
         "scene": "scene",
         "showlegend": true,
         "type": "scatter3d",
         "x": [
          -21.65402228241235,
          -28.143964764425906,
          -25.5332560325416,
          -29.602443043535562,
          -25.013881921128174
         ],
         "y": [
          6.3563116176499745,
          4.710712780429665,
          1.3362501247012086,
          5.894134372202548,
          -2.3155606751602935
         ],
         "z": [
          -2.8394088255887855,
          5.530044328299482,
          -2.2108976103214975,
          2.9530304635640676,
          3.195618568021118
         ]
        },
        {
         "customdata": [
          [
           "Gutiérrez Ticona Paul Silvio"
          ],
          [
           "Medina Hermosilla Elizabeth Sara"
          ],
          [
           "Paredes Gonzales Alex Antonio"
          ],
          [
           "Quiroz Barboza Segundo Teodomiro"
          ],
          [
           "Tacuri Valdivia Germán Adolfo"
          ],
          [
           "Ugarte Mamani Jhakeline Katy"
          ],
          [
           "Vásquez Vela Lucinda"
          ],
          [
           "Zea Choquechambi Oscar"
          ]
         ],
         "hovertemplate": "Bancada=BLOQUE MAGISTERIAL DE CONCERTACIÓN NACIONAL<br>0=%{x}<br>1=%{y}<br>2=%{z}<br>Congresista=%{customdata[0]}<extra></extra>",
         "legendgroup": "BLOQUE MAGISTERIAL DE CONCERTACIÓN NACIONAL",
         "marker": {
          "color": "#ab63fa",
          "symbol": "circle"
         },
         "mode": "markers",
         "name": "BLOQUE MAGISTERIAL DE CONCERTACIÓN NACIONAL",
         "scene": "scene",
         "showlegend": true,
         "type": "scatter3d",
         "x": [
          -14.552176826277156,
          -11.145494245764649,
          -9.29339064190188,
          -12.728113149956291,
          -18.147033991740933,
          -11.518859622688659,
          -13.887722896463034,
          -6.155508514067913
         ],
         "y": [
          11.812309277497532,
          5.555796433871019,
          10.486141422477182,
          9.064288619866277,
          10.005789808968695,
          11.491272648329133,
          6.414208387925802,
          5.191902680002673
         ],
         "z": [
          -8.376301540658885,
          -9.33469039829159,
          -7.959117539841402,
          -8.178677785402796,
          -4.806032224659193,
          -7.209976103331359,
          -8.564650360129889,
          -7.93453444301165
         ]
        }
       ],
       "layout": {
        "legend": {
         "font": {
          "size": 10
         },
         "itemsizing": "constant",
         "orientation": "v",
         "title": {
          "font": {
           "size": 15
          },
          "text": "Bancada"
         },
         "tracegroupgap": 0,
         "x": 1.05,
         "xanchor": "left",
         "y": 1
        },
        "margin": {
         "t": 60
        },
        "scene": {
         "domain": {
          "x": [
           0,
           1
          ],
          "y": [
           0,
           1
          ]
         },
         "xaxis": {
          "title": {
           "text": "0"
          }
         },
         "yaxis": {
          "title": {
           "text": "1"
          }
         },
         "zaxis": {
          "title": {
           "text": "2"
          }
         }
        },
        "template": {
         "data": {
          "bar": [
           {
            "error_x": {
             "color": "#2a3f5f"
            },
            "error_y": {
             "color": "#2a3f5f"
            },
            "marker": {
             "line": {
              "color": "#E5ECF6",
              "width": 0.5
             },
             "pattern": {
              "fillmode": "overlay",
              "size": 10,
              "solidity": 0.2
             }
            },
            "type": "bar"
           }
          ],
          "barpolar": [
           {
            "marker": {
             "line": {
              "color": "#E5ECF6",
              "width": 0.5
             },
             "pattern": {
              "fillmode": "overlay",
              "size": 10,
              "solidity": 0.2
             }
            },
            "type": "barpolar"
           }
          ],
          "carpet": [
           {
            "aaxis": {
             "endlinecolor": "#2a3f5f",
             "gridcolor": "white",
             "linecolor": "white",
             "minorgridcolor": "white",
             "startlinecolor": "#2a3f5f"
            },
            "baxis": {
             "endlinecolor": "#2a3f5f",
             "gridcolor": "white",
             "linecolor": "white",
             "minorgridcolor": "white",
             "startlinecolor": "#2a3f5f"
            },
            "type": "carpet"
           }
          ],
          "choropleth": [
           {
            "colorbar": {
             "outlinewidth": 0,
             "ticks": ""
            },
            "type": "choropleth"
           }
          ],
          "contour": [
           {
            "colorbar": {
             "outlinewidth": 0,
             "ticks": ""
            },
            "colorscale": [
             [
              0,
              "#0d0887"
             ],
             [
              0.1111111111111111,
              "#46039f"
             ],
             [
              0.2222222222222222,
              "#7201a8"
             ],
             [
              0.3333333333333333,
              "#9c179e"
             ],
             [
              0.4444444444444444,
              "#bd3786"
             ],
             [
              0.5555555555555556,
              "#d8576b"
             ],
             [
              0.6666666666666666,
              "#ed7953"
             ],
             [
              0.7777777777777778,
              "#fb9f3a"
             ],
             [
              0.8888888888888888,
              "#fdca26"
             ],
             [
              1,
              "#f0f921"
             ]
            ],
            "type": "contour"
           }
          ],
          "contourcarpet": [
           {
            "colorbar": {
             "outlinewidth": 0,
             "ticks": ""
            },
            "type": "contourcarpet"
           }
          ],
          "heatmap": [
           {
            "colorbar": {
             "outlinewidth": 0,
             "ticks": ""
            },
            "colorscale": [
             [
              0,
              "#0d0887"
             ],
             [
              0.1111111111111111,
              "#46039f"
             ],
             [
              0.2222222222222222,
              "#7201a8"
             ],
             [
              0.3333333333333333,
              "#9c179e"
             ],
             [
              0.4444444444444444,
              "#bd3786"
             ],
             [
              0.5555555555555556,
              "#d8576b"
             ],
             [
              0.6666666666666666,
              "#ed7953"
             ],
             [
              0.7777777777777778,
              "#fb9f3a"
             ],
             [
              0.8888888888888888,
              "#fdca26"
             ],
             [
              1,
              "#f0f921"
             ]
            ],
            "type": "heatmap"
           }
          ],
          "heatmapgl": [
           {
            "colorbar": {
             "outlinewidth": 0,
             "ticks": ""
            },
            "colorscale": [
             [
              0,
              "#0d0887"
             ],
             [
              0.1111111111111111,
              "#46039f"
             ],
             [
              0.2222222222222222,
              "#7201a8"
             ],
             [
              0.3333333333333333,
              "#9c179e"
             ],
             [
              0.4444444444444444,
              "#bd3786"
             ],
             [
              0.5555555555555556,
              "#d8576b"
             ],
             [
              0.6666666666666666,
              "#ed7953"
             ],
             [
              0.7777777777777778,
              "#fb9f3a"
             ],
             [
              0.8888888888888888,
              "#fdca26"
             ],
             [
              1,
              "#f0f921"
             ]
            ],
            "type": "heatmapgl"
           }
          ],
          "histogram": [
           {
            "marker": {
             "pattern": {
              "fillmode": "overlay",
              "size": 10,
              "solidity": 0.2
             }
            },
            "type": "histogram"
           }
          ],
          "histogram2d": [
           {
            "colorbar": {
             "outlinewidth": 0,
             "ticks": ""
            },
            "colorscale": [
             [
              0,
              "#0d0887"
             ],
             [
              0.1111111111111111,
              "#46039f"
             ],
             [
              0.2222222222222222,
              "#7201a8"
             ],
             [
              0.3333333333333333,
              "#9c179e"
             ],
             [
              0.4444444444444444,
              "#bd3786"
             ],
             [
              0.5555555555555556,
              "#d8576b"
             ],
             [
              0.6666666666666666,
              "#ed7953"
             ],
             [
              0.7777777777777778,
              "#fb9f3a"
             ],
             [
              0.8888888888888888,
              "#fdca26"
             ],
             [
              1,
              "#f0f921"
             ]
            ],
            "type": "histogram2d"
           }
          ],
          "histogram2dcontour": [
           {
            "colorbar": {
             "outlinewidth": 0,
             "ticks": ""
            },
            "colorscale": [
             [
              0,
              "#0d0887"
             ],
             [
              0.1111111111111111,
              "#46039f"
             ],
             [
              0.2222222222222222,
              "#7201a8"
             ],
             [
              0.3333333333333333,
              "#9c179e"
             ],
             [
              0.4444444444444444,
              "#bd3786"
             ],
             [
              0.5555555555555556,
              "#d8576b"
             ],
             [
              0.6666666666666666,
              "#ed7953"
             ],
             [
              0.7777777777777778,
              "#fb9f3a"
             ],
             [
              0.8888888888888888,
              "#fdca26"
             ],
             [
              1,
              "#f0f921"
             ]
            ],
            "type": "histogram2dcontour"
           }
          ],
          "mesh3d": [
           {
            "colorbar": {
             "outlinewidth": 0,
             "ticks": ""
            },
            "type": "mesh3d"
           }
          ],
          "parcoords": [
           {
            "line": {
             "colorbar": {
              "outlinewidth": 0,
              "ticks": ""
             }
            },
            "type": "parcoords"
           }
          ],
          "pie": [
           {
            "automargin": true,
            "type": "pie"
           }
          ],
          "scatter": [
           {
            "fillpattern": {
             "fillmode": "overlay",
             "size": 10,
             "solidity": 0.2
            },
            "type": "scatter"
           }
          ],
          "scatter3d": [
           {
            "line": {
             "colorbar": {
              "outlinewidth": 0,
              "ticks": ""
             }
            },
            "marker": {
             "colorbar": {
              "outlinewidth": 0,
              "ticks": ""
             }
            },
            "type": "scatter3d"
           }
          ],
          "scattercarpet": [
           {
            "marker": {
             "colorbar": {
              "outlinewidth": 0,
              "ticks": ""
             }
            },
            "type": "scattercarpet"
           }
          ],
          "scattergeo": [
           {
            "marker": {
             "colorbar": {
              "outlinewidth": 0,
              "ticks": ""
             }
            },
            "type": "scattergeo"
           }
          ],
          "scattergl": [
           {
            "marker": {
             "colorbar": {
              "outlinewidth": 0,
              "ticks": ""
             }
            },
            "type": "scattergl"
           }
          ],
          "scattermapbox": [
           {
            "marker": {
             "colorbar": {
              "outlinewidth": 0,
              "ticks": ""
             }
            },
            "type": "scattermapbox"
           }
          ],
          "scatterpolar": [
           {
            "marker": {
             "colorbar": {
              "outlinewidth": 0,
              "ticks": ""
             }
            },
            "type": "scatterpolar"
           }
          ],
          "scatterpolargl": [
           {
            "marker": {
             "colorbar": {
              "outlinewidth": 0,
              "ticks": ""
             }
            },
            "type": "scatterpolargl"
           }
          ],
          "scatterternary": [
           {
            "marker": {
             "colorbar": {
              "outlinewidth": 0,
              "ticks": ""
             }
            },
            "type": "scatterternary"
           }
          ],
          "surface": [
           {
            "colorbar": {
             "outlinewidth": 0,
             "ticks": ""
            },
            "colorscale": [
             [
              0,
              "#0d0887"
             ],
             [
              0.1111111111111111,
              "#46039f"
             ],
             [
              0.2222222222222222,
              "#7201a8"
             ],
             [
              0.3333333333333333,
              "#9c179e"
             ],
             [
              0.4444444444444444,
              "#bd3786"
             ],
             [
              0.5555555555555556,
              "#d8576b"
             ],
             [
              0.6666666666666666,
              "#ed7953"
             ],
             [
              0.7777777777777778,
              "#fb9f3a"
             ],
             [
              0.8888888888888888,
              "#fdca26"
             ],
             [
              1,
              "#f0f921"
             ]
            ],
            "type": "surface"
           }
          ],
          "table": [
           {
            "cells": {
             "fill": {
              "color": "#EBF0F8"
             },
             "line": {
              "color": "white"
             }
            },
            "header": {
             "fill": {
              "color": "#C8D4E3"
             },
             "line": {
              "color": "white"
             }
            },
            "type": "table"
           }
          ]
         },
         "layout": {
          "annotationdefaults": {
           "arrowcolor": "#2a3f5f",
           "arrowhead": 0,
           "arrowwidth": 1
          },
          "autotypenumbers": "strict",
          "coloraxis": {
           "colorbar": {
            "outlinewidth": 0,
            "ticks": ""
           }
          },
          "colorscale": {
           "diverging": [
            [
             0,
             "#8e0152"
            ],
            [
             0.1,
             "#c51b7d"
            ],
            [
             0.2,
             "#de77ae"
            ],
            [
             0.3,
             "#f1b6da"
            ],
            [
             0.4,
             "#fde0ef"
            ],
            [
             0.5,
             "#f7f7f7"
            ],
            [
             0.6,
             "#e6f5d0"
            ],
            [
             0.7,
             "#b8e186"
            ],
            [
             0.8,
             "#7fbc41"
            ],
            [
             0.9,
             "#4d9221"
            ],
            [
             1,
             "#276419"
            ]
           ],
           "sequential": [
            [
             0,
             "#0d0887"
            ],
            [
             0.1111111111111111,
             "#46039f"
            ],
            [
             0.2222222222222222,
             "#7201a8"
            ],
            [
             0.3333333333333333,
             "#9c179e"
            ],
            [
             0.4444444444444444,
             "#bd3786"
            ],
            [
             0.5555555555555556,
             "#d8576b"
            ],
            [
             0.6666666666666666,
             "#ed7953"
            ],
            [
             0.7777777777777778,
             "#fb9f3a"
            ],
            [
             0.8888888888888888,
             "#fdca26"
            ],
            [
             1,
             "#f0f921"
            ]
           ],
           "sequentialminus": [
            [
             0,
             "#0d0887"
            ],
            [
             0.1111111111111111,
             "#46039f"
            ],
            [
             0.2222222222222222,
             "#7201a8"
            ],
            [
             0.3333333333333333,
             "#9c179e"
            ],
            [
             0.4444444444444444,
             "#bd3786"
            ],
            [
             0.5555555555555556,
             "#d8576b"
            ],
            [
             0.6666666666666666,
             "#ed7953"
            ],
            [
             0.7777777777777778,
             "#fb9f3a"
            ],
            [
             0.8888888888888888,
             "#fdca26"
            ],
            [
             1,
             "#f0f921"
            ]
           ]
          },
          "colorway": [
           "#636efa",
           "#EF553B",
           "#00cc96",
           "#ab63fa",
           "#FFA15A",
           "#19d3f3",
           "#FF6692",
           "#B6E880",
           "#FF97FF",
           "#FECB52"
          ],
          "font": {
           "color": "#2a3f5f"
          },
          "geo": {
           "bgcolor": "white",
           "lakecolor": "white",
           "landcolor": "#E5ECF6",
           "showlakes": true,
           "showland": true,
           "subunitcolor": "white"
          },
          "hoverlabel": {
           "align": "left"
          },
          "hovermode": "closest",
          "mapbox": {
           "style": "light"
          },
          "paper_bgcolor": "white",
          "plot_bgcolor": "#E5ECF6",
          "polar": {
           "angularaxis": {
            "gridcolor": "white",
            "linecolor": "white",
            "ticks": ""
           },
           "bgcolor": "#E5ECF6",
           "radialaxis": {
            "gridcolor": "white",
            "linecolor": "white",
            "ticks": ""
           }
          },
          "scene": {
           "xaxis": {
            "backgroundcolor": "#E5ECF6",
            "gridcolor": "white",
            "gridwidth": 2,
            "linecolor": "white",
            "showbackground": true,
            "ticks": "",
            "zerolinecolor": "white"
           },
           "yaxis": {
            "backgroundcolor": "#E5ECF6",
            "gridcolor": "white",
            "gridwidth": 2,
            "linecolor": "white",
            "showbackground": true,
            "ticks": "",
            "zerolinecolor": "white"
           },
           "zaxis": {
            "backgroundcolor": "#E5ECF6",
            "gridcolor": "white",
            "gridwidth": 2,
            "linecolor": "white",
            "showbackground": true,
            "ticks": "",
            "zerolinecolor": "white"
           }
          },
          "shapedefaults": {
           "line": {
            "color": "#2a3f5f"
           }
          },
          "ternary": {
           "aaxis": {
            "gridcolor": "white",
            "linecolor": "white",
            "ticks": ""
           },
           "baxis": {
            "gridcolor": "white",
            "linecolor": "white",
            "ticks": ""
           },
           "bgcolor": "#E5ECF6",
           "caxis": {
            "gridcolor": "white",
            "linecolor": "white",
            "ticks": ""
           }
          },
          "title": {
           "x": 0.05
          },
          "xaxis": {
           "automargin": true,
           "gridcolor": "white",
           "linecolor": "white",
           "ticks": "",
           "title": {
            "standoff": 15
           },
           "zerolinecolor": "white",
           "zerolinewidth": 2
          },
          "yaxis": {
           "automargin": true,
           "gridcolor": "white",
           "linecolor": "white",
           "ticks": "",
           "title": {
            "standoff": 15
           },
           "zerolinecolor": "white",
           "zerolinewidth": 2
          }
         }
        }
       }
      }
     },
     "metadata": {},
     "output_type": "display_data"
    }
   ],
   "source": [
    "import plotly.express as px\n",
    "\n",
    "# Create scatterplot using Plotly\n",
    "fig = px.scatter_3d(VOTOS_REDUCED_DF, x=0, y=1,z=2, color=\"Bancada\",  hover_data={\"Congresista\": True})\n",
    "\n",
    "# Adjust the legend to make it wider\n",
    "fig.update_layout(\n",
    "    legend_title=\"Bancada\",\n",
    "    legend=dict(\n",
    "        title_font_size=15,\n",
    "        font_size=10,\n",
    "        itemsizing='constant',  # Ensure the legend items are sized uniformly\n",
    "        orientation='v',  # Set legend to horizontal\n",
    "        x=1.05,  # Move the legend outside of the plot\n",
    "        y=1,     # Align it with the top of the plot\n",
    "        xanchor='left',  # Anchor legend to the left of the plot area\n",
    "    )\n",
    ")\n",
    "\n",
    "# Show the plot\n",
    "fig.show()"
   ]
  },
  {
   "cell_type": "code",
   "execution_count": 14,
   "id": "5e1190cb",
   "metadata": {},
   "outputs": [],
   "source": [
    "#Los congresistas que más se han abstenido.\n",
    "def add_summary_row_single(df):\n",
    "    # Compute the sum of votes for each column\n",
    "    column_sums = df.sum(axis=0)\n",
    "    \n",
    "    # Determine if the bill passed (+1) or didn't (-1)\n",
    "    passed_or_not = [1 if x > 0 else -1 for x in column_sums]\n",
    "    \n",
    "    # Add the summary row to the DataFrame\n",
    "    df_with_summary = pd.concat(\n",
    "        [df, pd.DataFrame([passed_or_not], columns=df.columns, index=[\"Summary\"])],\n",
    "        axis=0\n",
    "    )\n",
    "    "
   ]
  },
  {
   "cell_type": "code",
   "execution_count": 15,
   "id": "3002915f",
   "metadata": {},
   "outputs": [
    {
     "data": {
      "text/plain": [
       "Text(0.5, 1.0, 'Promedio de abstenciones por bancada en la primera legislatura del periodo anual 2024-2025')"
      ]
     },
     "execution_count": 15,
     "metadata": {},
     "output_type": "execute_result"
    },
    {
     "data": {
      "image/png": "[encoded data removed]",
      "text/plain": [
       "<Figure size 640x480 with 1 Axes>"
      ]
     },
     "metadata": {},
     "output_type": "display_data"
    }
   ],
   "source": [
    "#Bancadas que más se abstuvieron en el periodo Agosto - Noviembre del 2024\n",
    "sns.barplot(pd.concat([(VOTE_DICTIONARY[\"1.1.1\"]==0).sum(axis=1).sort_values(ascending=False), Congress], axis=1).groupby(\"Bancada\")[0].mean().sort_values(),\n",
    "            orient=\"h\")\n",
    "plt.title(\"Promedio de abstenciones por bancada en la primera legislatura del periodo anual 2024-2025\")"
   ]
  },
  {
   "cell_type": "code",
   "execution_count": 16,
   "id": "cbac96b4",
   "metadata": {},
   "outputs": [
    {
     "data": {
      "text/plain": [
       "Text(0.5, 1.0, 'Mediana de abstenciones por bancada en la primera legislatura del periodo anual 2024-2025')"
      ]
     },
     "execution_count": 16,
     "metadata": {},
     "output_type": "execute_result"
    },
    {
     "data": {
      "image/png": "[encoded data removed]",
      "text/plain": [
       "<Figure size 640x480 with 1 Axes>"
      ]
     },
     "metadata": {},
     "output_type": "display_data"
    }
   ],
   "source": [
    "#Bancadas que más se abstuvieron en el periodo Agosto - Noviembre del 2024\n",
    "sns.barplot(pd.concat([(VOTE_DICTIONARY[\"1.1.1\"]==0).sum(axis=1).sort_values(ascending=False), Congress], axis=1).groupby(\"Bancada\")[0].median().sort_values(),\n",
    "            orient=\"h\")\n",
    "plt.title(\"Mediana de abstenciones por bancada en la primera legislatura del periodo anual 2024-2025\")"
   ]
  },
  {
   "cell_type": "code",
   "execution_count": 17,
   "id": "a53ff9eb",
   "metadata": {},
   "outputs": [
    {
     "data": {
      "text/html": [
       "<div>\n",
       "<style scoped>\n",
       "    .dataframe tbody tr th:only-of-type {\n",
       "        vertical-align: middle;\n",
       "    }\n",
       "\n",
       "    .dataframe tbody tr th {\n",
       "        vertical-align: top;\n",
       "    }\n",
       "\n",
       "    .dataframe thead th {\n",
       "        text-align: right;\n",
       "    }\n",
       "</style>\n",
       "<table border=\"1\" class=\"dataframe\">\n",
       "  <thead>\n",
       "    <tr style=\"text-align: right;\">\n",
       "      <th></th>\n",
       "      <th>0</th>\n",
       "      <th>Congresista</th>\n",
       "    </tr>\n",
       "  </thead>\n",
       "  <tbody>\n",
       "    <tr>\n",
       "      <th>73</th>\n",
       "      <td>57</td>\n",
       "      <td>Málaga Trillo George Edward</td>\n",
       "    </tr>\n",
       "    <tr>\n",
       "      <th>42</th>\n",
       "      <td>36</td>\n",
       "      <td>Echaíz de Núñez Izaga Gladys Margot</td>\n",
       "    </tr>\n",
       "    <tr>\n",
       "      <th>96</th>\n",
       "      <td>35</td>\n",
       "      <td>Pariona Sinche Alfredo</td>\n",
       "    </tr>\n",
       "    <tr>\n",
       "      <th>31</th>\n",
       "      <td>33</td>\n",
       "      <td>Coayla Juárez Jorge Samuel</td>\n",
       "    </tr>\n",
       "    <tr>\n",
       "      <th>43</th>\n",
       "      <td>31</td>\n",
       "      <td>Echeverría Rodríguez Hamlet</td>\n",
       "    </tr>\n",
       "    <tr>\n",
       "      <th>38</th>\n",
       "      <td>29</td>\n",
       "      <td>Cutipa Ccama Víctor Raúl</td>\n",
       "    </tr>\n",
       "    <tr>\n",
       "      <th>72</th>\n",
       "      <td>26</td>\n",
       "      <td>Luque Ibarra Ruth</td>\n",
       "    </tr>\n",
       "    <tr>\n",
       "      <th>1</th>\n",
       "      <td>26</td>\n",
       "      <td>Acuña Peralta Segundo Héctor</td>\n",
       "    </tr>\n",
       "    <tr>\n",
       "      <th>37</th>\n",
       "      <td>26</td>\n",
       "      <td>Cueto Aservi José Ernesto</td>\n",
       "    </tr>\n",
       "    <tr>\n",
       "      <th>35</th>\n",
       "      <td>24</td>\n",
       "      <td>Cortez Aguirre Isabel</td>\n",
       "    </tr>\n",
       "  </tbody>\n",
       "</table>\n",
       "</div>"
      ],
      "text/plain": [
       "     0                          Congresista\n",
       "73  57          Málaga Trillo George Edward\n",
       "42  36  Echaíz de Núñez Izaga Gladys Margot\n",
       "96  35               Pariona Sinche Alfredo\n",
       "31  33           Coayla Juárez Jorge Samuel\n",
       "43  31          Echeverría Rodríguez Hamlet\n",
       "38  29             Cutipa Ccama Víctor Raúl\n",
       "72  26                    Luque Ibarra Ruth\n",
       "1   26         Acuña Peralta Segundo Héctor\n",
       "37  26            Cueto Aservi José Ernesto\n",
       "35  24                Cortez Aguirre Isabel"
      ]
     },
     "execution_count": 17,
     "metadata": {},
     "output_type": "execute_result"
    },
    {
     "data": {
      "image/png": "[encoded data removed]",
      "text/plain": [
       "<Figure size 640x480 with 1 Axes>"
      ]
     },
     "metadata": {},
     "output_type": "display_data"
    }
   ],
   "source": [
    "#10 congresistas con mayor número de abstenciones\n",
    "sns.barplot(data = pd.concat([(VOTE_DICTIONARY[\"1.1.1\"]==0).sum(axis=1).sort_values(ascending=False), Congress], axis=1)[[0, \"Congresista\"]].sort_values(by=0, ascending=False).head(10),\n",
    "            x=0,\n",
    "            y=\"Congresista\", orient=\"h\")\n",
    "plt.title(\"10 congresistas con mayor número de abstenciones\")\n",
    "pd.concat([(VOTE_DICTIONARY[\"1.1.1\"]==0).sum(axis=1).sort_values(ascending=False), Congress], axis=1)[[0, \"Congresista\"]].sort_values(by=0, ascending=False).head(10)"
   ]
  },
  {
   "cell_type": "code",
   "execution_count": 84,
   "id": "349f12f6",
   "metadata": {},
   "outputs": [
    {
     "data": {
      "text/plain": [
       "array(['ACCIÓN POPULAR', 'ALIANZA PARA EL PROGRESO',\n",
       "       'AVANZA PAÍS - PARTIDO DE INTEGRACIÓN SOCIAL',\n",
       "       'BANCADA SOCIALISTA', 'BLOQUE DEMOCRÁTICO POPULAR',\n",
       "       'BLOQUE MAGISTERIAL DE CONCERTACIÓN NACIONAL', 'FUERZA POPULAR',\n",
       "       'HONOR Y DEMOCRACIA', 'JUNTOS POR EL PERÚ - VOCES DEL PUEBLO',\n",
       "       'NO AGRUPADO', 'PERÚ LIBRE', 'PODEMOS PERÚ', 'RENOVACIÓN POPULAR',\n",
       "       'SOMOS PERÚ'], dtype=object)"
      ]
     },
     "execution_count": 84,
     "metadata": {},
     "output_type": "execute_result"
    }
   ],
   "source": [
    "by=\"Bancada\"\n",
    "pd.concat([VOTE_DICTIONARY[\"1.1.1\"].fillna(0), Congress[by]], axis=1).sort_values(by)[by].unique()"
   ]
  },
  {
   "cell_type": "code",
   "execution_count": 86,
   "id": "9b2e427f",
   "metadata": {},
   "outputs": [
    {
     "data": {
      "text/plain": [
       "[Text(0, 0, 'ACCIÓN POPULAR'),\n",
       " Text(0, 9, 'ALIANZA PARA EL PROGRESO'),\n",
       " Text(0, 23, 'AVANZA PAÍS - PARTIDO DE INTEGRACIÓN SOCIAL'),\n",
       " Text(0, 30, 'BANCADA SOCIALISTA'),\n",
       " Text(0, 35, 'BLOQUE DEMOCRÁTICO POPULAR'),\n",
       " Text(0, 40, 'BLOQUE MAGISTERIAL DE CONCERTACIÓN NACIONAL'),\n",
       " Text(0, 48, 'FUERZA POPULAR'),\n",
       " Text(0, 70, 'HONOR Y DEMOCRACIA'),\n",
       " Text(0, 75, 'JUNTOS POR EL PERÚ - VOCES DEL PUEBLO'),\n",
       " Text(0, 83, 'NO AGRUPADO'),\n",
       " Text(0, 92, 'PERÚ LIBRE'),\n",
       " Text(0, 104, 'PODEMOS PERÚ'),\n",
       " Text(0, 118, 'RENOVACIÓN POPULAR'),\n",
       " Text(0, 129, 'SOMOS PERÚ')]"
      ]
     },
     "execution_count": 86,
     "metadata": {},
     "output_type": "execute_result"
    },
    {
     "data": {
      "image/png": "[encoded data removed]",
      "text/plain": [
       "<Figure size 1200x1000 with 2 Axes>"
      ]
     },
     "metadata": {},
     "output_type": "display_data"
    }
   ],
   "source": [
    "plt.figure(figsize=(12, 10))  # Set figure size (width, height)\n",
    "by=\"Bancada\"\n",
    "\n",
    "g = sns.heatmap(pd.concat([VOTE_DICTIONARY[\"1.1.1\"].fillna(0), Congress[by]], axis=1).sort_values(by).drop(by, axis=1).transpose().corr())\n",
    "asdflk = [0, 9, 23, 30, 35, 40, 48, 70, 75, 83, 92, 104, 118, 129]\n",
    "asdflk2 = [10, 45, 24, 103, 95, 76, 84, 90, 38, 75, 99, 120, 134, 125]\n",
    "\n",
    "g.set_xticks(asdflk)\n",
    "g.set_xticklabels(pd.concat([VOTE_DICTIONARY[\"1.1.1\"].fillna(0), Congress[by]], axis=1).sort_values(by)[by].unique())\n",
    "g.set_yticks(asdflk)\n",
    "g.set_yticklabels(pd.concat([VOTE_DICTIONARY[\"1.1.1\"].fillna(0), Congress[by]], axis=1).sort_values(by)[by].unique())\n"
   ]
  },
  {
   "cell_type": "code",
   "execution_count": 19,
   "id": "95c40e26",
   "metadata": {},
   "outputs": [
    {
     "data": {
      "text/html": [
       "<div>\n",
       "<style scoped>\n",
       "    .dataframe tbody tr th:only-of-type {\n",
       "        vertical-align: middle;\n",
       "    }\n",
       "\n",
       "    .dataframe tbody tr th {\n",
       "        vertical-align: top;\n",
       "    }\n",
       "\n",
       "    .dataframe thead th {\n",
       "        text-align: right;\n",
       "    }\n",
       "</style>\n",
       "<table border=\"1\" class=\"dataframe\">\n",
       "  <thead>\n",
       "    <tr style=\"text-align: right;\">\n",
       "      <th></th>\n",
       "      <th>VOTACIÓN DEL PROYECTO 1271</th>\n",
       "      <th>VOTACIÓN DEL NUEVO TEXTO     SUSTITUTORIO DE LOS PROYECTOS 327 Y 905</th>\n",
       "      <th>VOTACIÓN DE L A EXONERACIÓN DE   SEGUNDA VOTACIÓN DE LOS PROYECTOS 327 Y 905</th>\n",
       "      <th>VOTACIÓN DEL TEXTO   SUSTITUTORIO DEL PROYECTO 699</th>\n",
       "      <th>VOTACIÓN DE LA EXONERACIÓN DE  SEGUNDA VOTACIÓN DEL PROYECTO 699</th>\n",
       "      <th>VOTACIÓN DEL TEXTO   SUSTITUTORIO DE LOS PROYECTOS 668 Y 1073</th>\n",
       "      <th>VOTACIÓN DE LA EXONERACIÓN   DE SEGUNDA VOTACIÓN DEL TEXTO SUSTITUTORIO   DE LOS PROYECTOS 668 Y 1073</th>\n",
       "      <th>VOTACIÓN DE LA  RECONSIDERACIÓN A  LA VOTACIÓN DEL TEXTO SUSTITUTORIO DE LOS   PROYECTOS 668 Y 1073</th>\n",
       "      <th>VOTACIÓN DE LA CUESTIÓN DE  CONFIANZA PLANTEADA POR EL PRESIDENTE DEL     CONSEJO DE MINISTROS</th>\n",
       "      <th>LA VOTACIÓN DE LA RECONSIDERACIÓN  DE LA VOTACIÓN DEL PROYECTO 1271</th>\n",
       "      <th>VOTACIÓN DE LA ADMISIÓN DE LA  MOCIÓN 2064</th>\n",
       "      <th>VOTACIÓN DE LA ADMISIÓN DE LA  MOCIÓN 2065</th>\n",
       "      <th>VOTACIÓN DE LA ADMISIÓN DE LA  MOCIÓN 206 8</th>\n",
       "      <th>VOTACIÓN DEL PROYECTO 799</th>\n",
       "      <th>VOTACIÓN D E LA EXONERACIÓN DE  SEGUNDA VOTACIÓN DEL PROYECTO 799</th>\n",
       "      <th>VOTACIÓN DEL NUEVO TEXTO  SUSTITUTORIO DEL PROYECTO 1271</th>\n",
       "      <th>VOTACIÓN DE LA EXONERACIÓN DE  SEGUNDA VOTACIÓN DEL NUEVO TEXTO SUSTITUTORIO   DEL PROYECTO 1271</th>\n",
       "      <th>VOTACIÓN DE LA RECONSIDERACIÓN DE  LA VOTACIÓN DEL PROYECTO 1271</th>\n",
       "      <th>VOTACIÓN DE  LA INSISTENCIA   EN LA AUTÓGRAFA RECAÍDA EN EL PROYECTO 157</th>\n",
       "      <th>LA VOTACIÓN RECAÍDA EN LA  ACLARACIÓN RESPECTO DEL PROYECTO 442</th>\n",
       "      <th>VOTACIÓN DEL NUEVO TEXTO  SUSTITUTORIO DEL PROYECTO 738</th>\n",
       "      <th>VOTACIÓN DE LA EXONERACIÓN DE  SEGUNDA VOTACIÓN DEL NUEVO TEXTO SUSTITUTORIO   DEL PROYECTO 738</th>\n",
       "      <th>VOTACIÓN DEL TEXTO SUSTITUTORIO  DEL PROYECTO 483</th>\n",
       "      <th>VOTACIÓN DE LA EXONERACIÓN DE  SEGUNDA VOTACIÓN DEL TEXTO SUSTITUTORIO   DEL PROYECTO 483</th>\n",
       "      <th>VOTACIÓN DE LA EXONERACIÓN DE  SEGUNDA VOTACIÓN DEL TEXTO SUSTITUTORIO   DEL PROYECTO 259</th>\n",
       "      <th>VOTACIÓN DEL PROYECTO 609</th>\n",
       "      <th>VOTACIÓN DE LA EXONERACIÓN DE  SEGUNDA VOTACIÓN DEL PROYECTO 609</th>\n",
       "      <th>VOTACIÓN DE LA ADMISIÓN DE   LA MOCIÓN DE VACANCIA PRESIDENCIAL    (MOCIÓN 2148 )</th>\n",
       "      <th>VOTACIÓN DEL LA PROPUESTA DEL</th>\n",
       "      <th>VOTACIÓN D E LA PROPUESTA DE  LA  PRESIDENCIA PARA QUE EL DEBATE Y LA VOTACIÓN DEL  PEDIDO DE VACANCIA SE REALICE EL LUNES 2 8 DE MARZO   DE 2022  A LAS 1 5 HORAS</th>\n",
       "      <th>VOTACIÓN DEL PROYECTO DE  RESOLUCIÓN LEGISLATIVA 228 (ACTUALIZADO)</th>\n",
       "      <th>VOTACIÓN DEL PROYECTO DE  RESOLUCIÓN LEGISLATIVA 230 (ACTUALIZADO)</th>\n",
       "      <th>VOTACIÓN DEL PROYECTO DE  RESOLUCIÓN LEGISLATIVA 23 1 (ACTUALIZADO)</th>\n",
       "      <th>VOTACIÓN DEL PROYECTO D E  RESOLUCIÓN LEGISLATIVA 244  (ACTUALIZADO)</th>\n",
       "      <th>VOTACIÓN DEL PROYECTO DE  RESOLUCIÓN LEGISLATIVA 2 34 (ACTUALIZADO)</th>\n",
       "      <th>VOTACIÓN DEL PROYECTO DE  RESOLUCIÓN LEGISLATIVA 235 (ACTUALIZADO)</th>\n",
       "      <th>VOTACIÓN DE LA MOCIÓN  1992</th>\n",
       "      <th>VOTACIÓN DEL PROYECTO 298</th>\n",
       "      <th>VOTACIÓN DE LA EXONERACIÓN DE LA  SEGUNDA VOTACIÓN DEL PROYECTO 298</th>\n",
       "      <th>VOTACIÓN DEL TEXTO SUSTITUTORIO  DEL PROYECTO 1212</th>\n",
       "      <th>...</th>\n",
       "      <th>VOTACIÓN DE LA NÓMINA DE LA    COMISIÓN ESPECIAL MULTIPARTIDARIA ENFOCAD O EN LA  IMPLEMENTACIÓN DE LA INFRAESTRUCTURA TECNOLÓGICA  EN LAS ETAPAS DEL SISTEMA EDUCATIVO DE ACUERDO CON LA  LEY GENERAL DE EDUCACIÓN, LEY 28044 (MOCIÓN 13129)</th>\n",
       "      <th>VOTACIÓN DE LA ADMISIÓN   DE LA MOCIÓN DE ORDEN DEL DÍA 14611</th>\n",
       "      <th>VOTACIÓN DE LA MOCIÓN   DE ORDEN DEL DÍA 14611</th>\n",
       "      <th>VOTACIÓN DEL TEXTO   SUSTITUTORIO DE LOS PROYECTOS 2648 Y 4255</th>\n",
       "      <th>VOTACIÓN DE LA RATIFICACIÓN DEL  ACUERDO DE LA JUNTA DE PORTAVOCES RESPECTO DEL  PROYECTO 8115 Y OTROS</th>\n",
       "      <th>VOTACIÓN DEL TEXTO   SUSTITUTORIO DEL PROYECTO 8115 Y OTROS</th>\n",
       "      <th>VOTACIÓN DEL TEXTO   SUSTITUTORIO DEL PROYECTO 6445  Y OTROS</th>\n",
       "      <th>VOTACIÓN DE LA MOCIÓN DE CENSURA  AL MINISTRO DE INCLUSIÓN SOCIAL Y DESARROLLO   (MOCIÓN 14608)</th>\n",
       "      <th>VOTACIÓN DE LA ADMISIÓN DE LA  MOCIÓN 14612 ( MOCIÓN DE INTERPELACIÓN AL MINISTRO DE  DESARROLLO E INCLUSIÓN SOCIAL )</th>\n",
       "      <th>VOTACIÓN DE LA CONCURRENCIA DEL   MINISTRO DE DESARROLLO E INCLUSIÓN SOCIAL , JULIO JAVIER  DEMARTINI MONTES,  EL DÍA 4 DE DICIEMBRE DE 2024 A LAS 18  HORAS</th>\n",
       "      <th>VOTACIÓN DE LA RECONSIDERACIÓN A  LA VOTACIÓN DE LA MOCIÓN 14608, LA CUAL PROPONE QUE EL</th>\n",
       "      <th>VOTACIÓN DEL TEXTO SUSTITUTORIO  DE LAS MOCIONES 14628 y 14629 (CENSURA AL MINISTRO DE  ENERGÍA Y MINAS)</th>\n",
       "      <th>LA SEGUNDA VOTACIÓN DEL   PROYECTO 1320 Y OTROS</th>\n",
       "      <th>VOTACIÓN DE LA INSISTENCIA EN LA  AUTÓGRAFA OBSERVADA POR LA SEÑORA PRESIDENTA DE LA  REPÚBLICA , RECAÍDA EN EL PROYECTO 6453</th>\n",
       "      <th>VOTACIÓN DE LA RECONSIDERACIÓN A  LA VOTACIÓN DEL DICTAMEN  DE INSISTENCIA RESPECTO DEL  PROYECTO 3254</th>\n",
       "      <th>VOTACIÓN DE LA INSISTENCIA DEL  PROYECTO 3254</th>\n",
       "      <th>VOTACIÓN DEL TEXTO SUSTITUTORIO  DEL PROYECTO 4293</th>\n",
       "      <th>VOTACIÓN DE LA RECONSIDERACIÓN A  LA VOTACIÓN POR LA QUE NO SE APROBÓ LA CUESTIÓN PREVIA  PARA QUE RETORNE A LA COMISIÓN DE CONSTITUCIÓN EL  PROYECTO 1964</th>\n",
       "      <th>VOTACIÓN DE LA CUESTIÓN PREVIA  PARA QUE SE VOTE POR SEPARADO EL INCISO A DEL ARTÍCULO  29</th>\n",
       "      <th>VOTACIÓN DE LA CUESTIÓN PREVIA    PARA QUE RETORNE A LA COMISIÓN DE CONSTITUCIÓN EL  PROYECTO 1607 Y OTROS</th>\n",
       "      <th>VOTACIÓN DEL TEXTO SUSTITUTORIO  DE LOS PROYECTOS 5789 Y 5821</th>\n",
       "      <th>VOTACIÓN DE LA EXONERACIÓN DE LA  SEGUNDA VOTACIÓN DEL TEXTO SUSTITUTORIO DE LOS  PROYECTOS 5789 Y 5821</th>\n",
       "      <th>VOTACIÓN DEL TEXTO SUSTITUTORIO  DE LOS PROYECTOS 7712, 8306 Y 8354</th>\n",
       "      <th>VOTACIÓN DE LA EXONERACIÓN DE LA  SEGUNDA VOTACIÓN DEL TEXTO SUSTITUTORIO DE LOS  PROYECTOS 7712, 8306 Y 8354</th>\n",
       "      <th>VOTACIÓN DE LA RATIFICACIÓN DEL  ACUERDO DE LA JUNTA DE PORTAVOCES RESPECTO DEL  PROYECTO 7462 Y OTROS</th>\n",
       "      <th>LA VOTACIÓN DE LA CUESTIÓN PREVIA   PARA QUE RETORNE A LA COMISIÓN DE ENERGÍA EL  PROYECTO 7462 Y OTROS</th>\n",
       "      <th>VOTACIÓN DEL TEXTO SUSTITUTORIO  DEL PROYECTO 7462 Y OTROS</th>\n",
       "      <th>VOTACIÓN DE LA EXONERACIÓN DE LA  SEGUNDA VOTACIÓN DEL TEXTO SUSTITUTORIO DEL  PROYECTO  7462  Y OTROS</th>\n",
       "      <th>VOTACIÓN DE LA RECONSIDERACIÓN A  LA VOTACIÓN POR LA QUE NO SE APROBÓ LA SEGUNDA  VOTACIÓN DEL TEXTO SUSTITUTORIO DE LA COMISIÓN   DE CONSTITUCIÓN RESPECTO DEL PROYECTO 2027  Y OTROS</th>\n",
       "      <th>LA SEGUNDA VOTACIÓN DEL TEXTO  SUSTITUTORIO DEL PROYECTO 6606</th>\n",
       "      <th>VOTACIÓN DEL TEXTO SUSTITUTORIO  DEL PROYECTO 8002</th>\n",
       "      <th>VOTACIÓN DE LA EXONERACIÓN DE LA  SEGUNDA VOTACIÓN DEL TEXTO SUSTITUTORIO DEL    PROYECTO 8002</th>\n",
       "      <th>VOTACIÓN DEL TEXTO SUSTITUTORIO  DEL PROYECTO 4099</th>\n",
       "      <th>VOTACIÓN DE LA EXONERACIÓN DE LA  SEGUNDA VOTACIÓN DEL TEXTO SUSTITUTORIO DEL  PROYECTO 4099</th>\n",
       "      <th>VOTACIÓN DEL TEXTO SUSTITUTORIO  DEL PROYECTO 2729 Y OTROS</th>\n",
       "      <th>VOTACIÓN DE LA EXONERACIÓN DE LA  SEGUNDA VOTACIÓN DEL TEXTO SUSTITUTORIO DEL  PROYECTO 2729 Y OTROS</th>\n",
       "      <th>VOTACIÓN DEL  TEXTO SUSTITUTORIO  DEL PROYECTO DE LEY DE ENDEUDAMIENTO DEL SECTOR  PÚBLICO PARA EL AÑO FISCAL 2025 CON EXCEPCIÓN DE LA  CUARTA DISPOSICIÓN COMPLEMENTARIA MODIFICATORIA  (PROYECTO 8760)</th>\n",
       "      <th>VOTACIÓN DE LA CUARTA DISPOSICIÓN  COMPLEMENTARIA MODIFICATORIA DE L TEXTO SUSTITUTORIO  DEL PROYECTO DE LEY DE ENDEUDAMIENTO DEL SECTOR  PÚBLICO PARA EL AÑO FISCAL 2025 (PROYECTO 8760)</th>\n",
       "      <th>VOTACIÓN DEL TEXTO SUSTITUTORIO  DEL PROYECTO DE LEY DE EQUILIBRIO FINANCIERO DEL    PRESUPUESTO DEL SECTOR PÚBLICO PARA EL AÑO FISCAL 2025  (PROYECTO 8759)</th>\n",
       "      <th>VOTACIÓN DEL TEXTO SUSTITUTORIO  DEL PROYECTO DE LEY DE PRESUPUESTO DEL SECTOR PÚBLICO  PARA EL AÑO FISCAL 2025  (PROYECTO 8758)</th>\n",
       "    </tr>\n",
       "    <tr>\n",
       "      <th>Bancada</th>\n",
       "      <th></th>\n",
       "      <th></th>\n",
       "      <th></th>\n",
       "      <th></th>\n",
       "      <th></th>\n",
       "      <th></th>\n",
       "      <th></th>\n",
       "      <th></th>\n",
       "      <th></th>\n",
       "      <th></th>\n",
       "      <th></th>\n",
       "      <th></th>\n",
       "      <th></th>\n",
       "      <th></th>\n",
       "      <th></th>\n",
       "      <th></th>\n",
       "      <th></th>\n",
       "      <th></th>\n",
       "      <th></th>\n",
       "      <th></th>\n",
       "      <th></th>\n",
       "      <th></th>\n",
       "      <th></th>\n",
       "      <th></th>\n",
       "      <th></th>\n",
       "      <th></th>\n",
       "      <th></th>\n",
       "      <th></th>\n",
       "      <th></th>\n",
       "      <th></th>\n",
       "      <th></th>\n",
       "      <th></th>\n",
       "      <th></th>\n",
       "      <th></th>\n",
       "      <th></th>\n",
       "      <th></th>\n",
       "      <th></th>\n",
       "      <th></th>\n",
       "      <th></th>\n",
       "      <th></th>\n",
       "      <th></th>\n",
       "      <th></th>\n",
       "      <th></th>\n",
       "      <th></th>\n",
       "      <th></th>\n",
       "      <th></th>\n",
       "      <th></th>\n",
       "      <th></th>\n",
       "      <th></th>\n",
       "      <th></th>\n",
       "      <th></th>\n",
       "      <th></th>\n",
       "      <th></th>\n",
       "      <th></th>\n",
       "      <th></th>\n",
       "      <th></th>\n",
       "      <th></th>\n",
       "      <th></th>\n",
       "      <th></th>\n",
       "      <th></th>\n",
       "      <th></th>\n",
       "      <th></th>\n",
       "      <th></th>\n",
       "      <th></th>\n",
       "      <th></th>\n",
       "      <th></th>\n",
       "      <th></th>\n",
       "      <th></th>\n",
       "      <th></th>\n",
       "      <th></th>\n",
       "      <th></th>\n",
       "      <th></th>\n",
       "      <th></th>\n",
       "      <th></th>\n",
       "      <th></th>\n",
       "      <th></th>\n",
       "      <th></th>\n",
       "      <th></th>\n",
       "      <th></th>\n",
       "      <th></th>\n",
       "      <th></th>\n",
       "    </tr>\n",
       "  </thead>\n",
       "  <tbody>\n",
       "    <tr>\n",
       "      <th>ACCIÓN POPULAR</th>\n",
       "      <td>9</td>\n",
       "      <td>9</td>\n",
       "      <td>9</td>\n",
       "      <td>9</td>\n",
       "      <td>9</td>\n",
       "      <td>9</td>\n",
       "      <td>9</td>\n",
       "      <td>9</td>\n",
       "      <td>9</td>\n",
       "      <td>9</td>\n",
       "      <td>9</td>\n",
       "      <td>9</td>\n",
       "      <td>9</td>\n",
       "      <td>9</td>\n",
       "      <td>9</td>\n",
       "      <td>9</td>\n",
       "      <td>9</td>\n",
       "      <td>9</td>\n",
       "      <td>9</td>\n",
       "      <td>9</td>\n",
       "      <td>9</td>\n",
       "      <td>9</td>\n",
       "      <td>9</td>\n",
       "      <td>9</td>\n",
       "      <td>9</td>\n",
       "      <td>9</td>\n",
       "      <td>9</td>\n",
       "      <td>9</td>\n",
       "      <td>9</td>\n",
       "      <td>9</td>\n",
       "      <td>9</td>\n",
       "      <td>9</td>\n",
       "      <td>9</td>\n",
       "      <td>9</td>\n",
       "      <td>9</td>\n",
       "      <td>9</td>\n",
       "      <td>9</td>\n",
       "      <td>9</td>\n",
       "      <td>9</td>\n",
       "      <td>9</td>\n",
       "      <td>...</td>\n",
       "      <td>9</td>\n",
       "      <td>9</td>\n",
       "      <td>9</td>\n",
       "      <td>9</td>\n",
       "      <td>9</td>\n",
       "      <td>9</td>\n",
       "      <td>9</td>\n",
       "      <td>9</td>\n",
       "      <td>9</td>\n",
       "      <td>9</td>\n",
       "      <td>9</td>\n",
       "      <td>9</td>\n",
       "      <td>9</td>\n",
       "      <td>9</td>\n",
       "      <td>9</td>\n",
       "      <td>9</td>\n",
       "      <td>9</td>\n",
       "      <td>9</td>\n",
       "      <td>9</td>\n",
       "      <td>9</td>\n",
       "      <td>9</td>\n",
       "      <td>9</td>\n",
       "      <td>9</td>\n",
       "      <td>9</td>\n",
       "      <td>9</td>\n",
       "      <td>9</td>\n",
       "      <td>9</td>\n",
       "      <td>9</td>\n",
       "      <td>9</td>\n",
       "      <td>9</td>\n",
       "      <td>9</td>\n",
       "      <td>9</td>\n",
       "      <td>9</td>\n",
       "      <td>9</td>\n",
       "      <td>9</td>\n",
       "      <td>9</td>\n",
       "      <td>9</td>\n",
       "      <td>9</td>\n",
       "      <td>9</td>\n",
       "      <td>9</td>\n",
       "    </tr>\n",
       "    <tr>\n",
       "      <th>ALIANZA PARA EL PROGRESO</th>\n",
       "      <td>14</td>\n",
       "      <td>14</td>\n",
       "      <td>14</td>\n",
       "      <td>14</td>\n",
       "      <td>14</td>\n",
       "      <td>14</td>\n",
       "      <td>14</td>\n",
       "      <td>14</td>\n",
       "      <td>14</td>\n",
       "      <td>14</td>\n",
       "      <td>14</td>\n",
       "      <td>14</td>\n",
       "      <td>14</td>\n",
       "      <td>14</td>\n",
       "      <td>14</td>\n",
       "      <td>14</td>\n",
       "      <td>14</td>\n",
       "      <td>14</td>\n",
       "      <td>14</td>\n",
       "      <td>14</td>\n",
       "      <td>14</td>\n",
       "      <td>14</td>\n",
       "      <td>14</td>\n",
       "      <td>14</td>\n",
       "      <td>14</td>\n",
       "      <td>14</td>\n",
       "      <td>14</td>\n",
       "      <td>14</td>\n",
       "      <td>14</td>\n",
       "      <td>14</td>\n",
       "      <td>14</td>\n",
       "      <td>14</td>\n",
       "      <td>14</td>\n",
       "      <td>14</td>\n",
       "      <td>14</td>\n",
       "      <td>14</td>\n",
       "      <td>14</td>\n",
       "      <td>14</td>\n",
       "      <td>14</td>\n",
       "      <td>14</td>\n",
       "      <td>...</td>\n",
       "      <td>14</td>\n",
       "      <td>14</td>\n",
       "      <td>14</td>\n",
       "      <td>14</td>\n",
       "      <td>14</td>\n",
       "      <td>14</td>\n",
       "      <td>14</td>\n",
       "      <td>14</td>\n",
       "      <td>14</td>\n",
       "      <td>14</td>\n",
       "      <td>14</td>\n",
       "      <td>14</td>\n",
       "      <td>14</td>\n",
       "      <td>14</td>\n",
       "      <td>14</td>\n",
       "      <td>14</td>\n",
       "      <td>14</td>\n",
       "      <td>14</td>\n",
       "      <td>14</td>\n",
       "      <td>14</td>\n",
       "      <td>14</td>\n",
       "      <td>14</td>\n",
       "      <td>14</td>\n",
       "      <td>14</td>\n",
       "      <td>14</td>\n",
       "      <td>14</td>\n",
       "      <td>14</td>\n",
       "      <td>14</td>\n",
       "      <td>14</td>\n",
       "      <td>14</td>\n",
       "      <td>14</td>\n",
       "      <td>14</td>\n",
       "      <td>14</td>\n",
       "      <td>14</td>\n",
       "      <td>14</td>\n",
       "      <td>14</td>\n",
       "      <td>14</td>\n",
       "      <td>14</td>\n",
       "      <td>14</td>\n",
       "      <td>14</td>\n",
       "    </tr>\n",
       "    <tr>\n",
       "      <th>AVANZA PAÍS - PARTIDO DE INTEGRACIÓN SOCIAL</th>\n",
       "      <td>7</td>\n",
       "      <td>7</td>\n",
       "      <td>7</td>\n",
       "      <td>7</td>\n",
       "      <td>7</td>\n",
       "      <td>7</td>\n",
       "      <td>7</td>\n",
       "      <td>7</td>\n",
       "      <td>7</td>\n",
       "      <td>7</td>\n",
       "      <td>7</td>\n",
       "      <td>7</td>\n",
       "      <td>7</td>\n",
       "      <td>7</td>\n",
       "      <td>7</td>\n",
       "      <td>7</td>\n",
       "      <td>7</td>\n",
       "      <td>7</td>\n",
       "      <td>7</td>\n",
       "      <td>7</td>\n",
       "      <td>7</td>\n",
       "      <td>7</td>\n",
       "      <td>7</td>\n",
       "      <td>7</td>\n",
       "      <td>7</td>\n",
       "      <td>7</td>\n",
       "      <td>7</td>\n",
       "      <td>7</td>\n",
       "      <td>7</td>\n",
       "      <td>7</td>\n",
       "      <td>7</td>\n",
       "      <td>7</td>\n",
       "      <td>7</td>\n",
       "      <td>7</td>\n",
       "      <td>7</td>\n",
       "      <td>7</td>\n",
       "      <td>7</td>\n",
       "      <td>7</td>\n",
       "      <td>7</td>\n",
       "      <td>7</td>\n",
       "      <td>...</td>\n",
       "      <td>7</td>\n",
       "      <td>7</td>\n",
       "      <td>7</td>\n",
       "      <td>7</td>\n",
       "      <td>7</td>\n",
       "      <td>7</td>\n",
       "      <td>7</td>\n",
       "      <td>7</td>\n",
       "      <td>7</td>\n",
       "      <td>7</td>\n",
       "      <td>7</td>\n",
       "      <td>7</td>\n",
       "      <td>7</td>\n",
       "      <td>7</td>\n",
       "      <td>7</td>\n",
       "      <td>7</td>\n",
       "      <td>7</td>\n",
       "      <td>7</td>\n",
       "      <td>7</td>\n",
       "      <td>7</td>\n",
       "      <td>7</td>\n",
       "      <td>7</td>\n",
       "      <td>7</td>\n",
       "      <td>7</td>\n",
       "      <td>7</td>\n",
       "      <td>7</td>\n",
       "      <td>7</td>\n",
       "      <td>7</td>\n",
       "      <td>7</td>\n",
       "      <td>7</td>\n",
       "      <td>7</td>\n",
       "      <td>7</td>\n",
       "      <td>7</td>\n",
       "      <td>7</td>\n",
       "      <td>7</td>\n",
       "      <td>7</td>\n",
       "      <td>7</td>\n",
       "      <td>7</td>\n",
       "      <td>7</td>\n",
       "      <td>7</td>\n",
       "    </tr>\n",
       "    <tr>\n",
       "      <th>BANCADA SOCIALISTA</th>\n",
       "      <td>5</td>\n",
       "      <td>5</td>\n",
       "      <td>5</td>\n",
       "      <td>5</td>\n",
       "      <td>5</td>\n",
       "      <td>5</td>\n",
       "      <td>5</td>\n",
       "      <td>5</td>\n",
       "      <td>5</td>\n",
       "      <td>5</td>\n",
       "      <td>5</td>\n",
       "      <td>5</td>\n",
       "      <td>5</td>\n",
       "      <td>5</td>\n",
       "      <td>5</td>\n",
       "      <td>5</td>\n",
       "      <td>5</td>\n",
       "      <td>5</td>\n",
       "      <td>5</td>\n",
       "      <td>5</td>\n",
       "      <td>5</td>\n",
       "      <td>5</td>\n",
       "      <td>5</td>\n",
       "      <td>5</td>\n",
       "      <td>5</td>\n",
       "      <td>5</td>\n",
       "      <td>5</td>\n",
       "      <td>5</td>\n",
       "      <td>5</td>\n",
       "      <td>5</td>\n",
       "      <td>5</td>\n",
       "      <td>5</td>\n",
       "      <td>5</td>\n",
       "      <td>5</td>\n",
       "      <td>5</td>\n",
       "      <td>5</td>\n",
       "      <td>5</td>\n",
       "      <td>5</td>\n",
       "      <td>5</td>\n",
       "      <td>5</td>\n",
       "      <td>...</td>\n",
       "      <td>5</td>\n",
       "      <td>5</td>\n",
       "      <td>5</td>\n",
       "      <td>5</td>\n",
       "      <td>5</td>\n",
       "      <td>5</td>\n",
       "      <td>5</td>\n",
       "      <td>5</td>\n",
       "      <td>5</td>\n",
       "      <td>5</td>\n",
       "      <td>5</td>\n",
       "      <td>5</td>\n",
       "      <td>5</td>\n",
       "      <td>5</td>\n",
       "      <td>5</td>\n",
       "      <td>5</td>\n",
       "      <td>5</td>\n",
       "      <td>5</td>\n",
       "      <td>5</td>\n",
       "      <td>5</td>\n",
       "      <td>5</td>\n",
       "      <td>5</td>\n",
       "      <td>5</td>\n",
       "      <td>5</td>\n",
       "      <td>5</td>\n",
       "      <td>5</td>\n",
       "      <td>5</td>\n",
       "      <td>5</td>\n",
       "      <td>5</td>\n",
       "      <td>5</td>\n",
       "      <td>5</td>\n",
       "      <td>5</td>\n",
       "      <td>5</td>\n",
       "      <td>5</td>\n",
       "      <td>5</td>\n",
       "      <td>5</td>\n",
       "      <td>5</td>\n",
       "      <td>5</td>\n",
       "      <td>5</td>\n",
       "      <td>5</td>\n",
       "    </tr>\n",
       "    <tr>\n",
       "      <th>BLOQUE DEMOCRÁTICO POPULAR</th>\n",
       "      <td>5</td>\n",
       "      <td>5</td>\n",
       "      <td>5</td>\n",
       "      <td>5</td>\n",
       "      <td>5</td>\n",
       "      <td>5</td>\n",
       "      <td>5</td>\n",
       "      <td>5</td>\n",
       "      <td>5</td>\n",
       "      <td>5</td>\n",
       "      <td>5</td>\n",
       "      <td>5</td>\n",
       "      <td>5</td>\n",
       "      <td>5</td>\n",
       "      <td>5</td>\n",
       "      <td>5</td>\n",
       "      <td>5</td>\n",
       "      <td>5</td>\n",
       "      <td>5</td>\n",
       "      <td>5</td>\n",
       "      <td>5</td>\n",
       "      <td>5</td>\n",
       "      <td>5</td>\n",
       "      <td>5</td>\n",
       "      <td>5</td>\n",
       "      <td>5</td>\n",
       "      <td>5</td>\n",
       "      <td>5</td>\n",
       "      <td>5</td>\n",
       "      <td>5</td>\n",
       "      <td>5</td>\n",
       "      <td>5</td>\n",
       "      <td>5</td>\n",
       "      <td>5</td>\n",
       "      <td>5</td>\n",
       "      <td>5</td>\n",
       "      <td>5</td>\n",
       "      <td>5</td>\n",
       "      <td>5</td>\n",
       "      <td>5</td>\n",
       "      <td>...</td>\n",
       "      <td>5</td>\n",
       "      <td>5</td>\n",
       "      <td>5</td>\n",
       "      <td>5</td>\n",
       "      <td>5</td>\n",
       "      <td>5</td>\n",
       "      <td>5</td>\n",
       "      <td>5</td>\n",
       "      <td>5</td>\n",
       "      <td>5</td>\n",
       "      <td>5</td>\n",
       "      <td>5</td>\n",
       "      <td>5</td>\n",
       "      <td>5</td>\n",
       "      <td>5</td>\n",
       "      <td>5</td>\n",
       "      <td>5</td>\n",
       "      <td>5</td>\n",
       "      <td>5</td>\n",
       "      <td>5</td>\n",
       "      <td>5</td>\n",
       "      <td>5</td>\n",
       "      <td>5</td>\n",
       "      <td>5</td>\n",
       "      <td>5</td>\n",
       "      <td>5</td>\n",
       "      <td>5</td>\n",
       "      <td>5</td>\n",
       "      <td>5</td>\n",
       "      <td>5</td>\n",
       "      <td>5</td>\n",
       "      <td>5</td>\n",
       "      <td>5</td>\n",
       "      <td>5</td>\n",
       "      <td>5</td>\n",
       "      <td>5</td>\n",
       "      <td>5</td>\n",
       "      <td>5</td>\n",
       "      <td>5</td>\n",
       "      <td>5</td>\n",
       "    </tr>\n",
       "    <tr>\n",
       "      <th>BLOQUE MAGISTERIAL DE CONCERTACIÓN NACIONAL</th>\n",
       "      <td>8</td>\n",
       "      <td>8</td>\n",
       "      <td>8</td>\n",
       "      <td>8</td>\n",
       "      <td>8</td>\n",
       "      <td>8</td>\n",
       "      <td>8</td>\n",
       "      <td>8</td>\n",
       "      <td>8</td>\n",
       "      <td>8</td>\n",
       "      <td>8</td>\n",
       "      <td>8</td>\n",
       "      <td>8</td>\n",
       "      <td>8</td>\n",
       "      <td>8</td>\n",
       "      <td>8</td>\n",
       "      <td>8</td>\n",
       "      <td>8</td>\n",
       "      <td>8</td>\n",
       "      <td>8</td>\n",
       "      <td>8</td>\n",
       "      <td>8</td>\n",
       "      <td>8</td>\n",
       "      <td>8</td>\n",
       "      <td>8</td>\n",
       "      <td>8</td>\n",
       "      <td>8</td>\n",
       "      <td>8</td>\n",
       "      <td>8</td>\n",
       "      <td>8</td>\n",
       "      <td>8</td>\n",
       "      <td>8</td>\n",
       "      <td>8</td>\n",
       "      <td>8</td>\n",
       "      <td>8</td>\n",
       "      <td>8</td>\n",
       "      <td>8</td>\n",
       "      <td>8</td>\n",
       "      <td>8</td>\n",
       "      <td>8</td>\n",
       "      <td>...</td>\n",
       "      <td>8</td>\n",
       "      <td>8</td>\n",
       "      <td>8</td>\n",
       "      <td>8</td>\n",
       "      <td>8</td>\n",
       "      <td>8</td>\n",
       "      <td>8</td>\n",
       "      <td>8</td>\n",
       "      <td>8</td>\n",
       "      <td>8</td>\n",
       "      <td>8</td>\n",
       "      <td>8</td>\n",
       "      <td>8</td>\n",
       "      <td>8</td>\n",
       "      <td>8</td>\n",
       "      <td>8</td>\n",
       "      <td>8</td>\n",
       "      <td>8</td>\n",
       "      <td>8</td>\n",
       "      <td>8</td>\n",
       "      <td>8</td>\n",
       "      <td>8</td>\n",
       "      <td>8</td>\n",
       "      <td>8</td>\n",
       "      <td>8</td>\n",
       "      <td>8</td>\n",
       "      <td>8</td>\n",
       "      <td>8</td>\n",
       "      <td>8</td>\n",
       "      <td>8</td>\n",
       "      <td>8</td>\n",
       "      <td>8</td>\n",
       "      <td>8</td>\n",
       "      <td>8</td>\n",
       "      <td>8</td>\n",
       "      <td>8</td>\n",
       "      <td>8</td>\n",
       "      <td>8</td>\n",
       "      <td>8</td>\n",
       "      <td>8</td>\n",
       "    </tr>\n",
       "    <tr>\n",
       "      <th>FUERZA POPULAR</th>\n",
       "      <td>22</td>\n",
       "      <td>22</td>\n",
       "      <td>22</td>\n",
       "      <td>22</td>\n",
       "      <td>22</td>\n",
       "      <td>22</td>\n",
       "      <td>22</td>\n",
       "      <td>22</td>\n",
       "      <td>22</td>\n",
       "      <td>22</td>\n",
       "      <td>22</td>\n",
       "      <td>22</td>\n",
       "      <td>22</td>\n",
       "      <td>22</td>\n",
       "      <td>22</td>\n",
       "      <td>22</td>\n",
       "      <td>22</td>\n",
       "      <td>22</td>\n",
       "      <td>22</td>\n",
       "      <td>22</td>\n",
       "      <td>22</td>\n",
       "      <td>22</td>\n",
       "      <td>22</td>\n",
       "      <td>22</td>\n",
       "      <td>22</td>\n",
       "      <td>22</td>\n",
       "      <td>22</td>\n",
       "      <td>22</td>\n",
       "      <td>22</td>\n",
       "      <td>22</td>\n",
       "      <td>22</td>\n",
       "      <td>22</td>\n",
       "      <td>22</td>\n",
       "      <td>22</td>\n",
       "      <td>22</td>\n",
       "      <td>22</td>\n",
       "      <td>22</td>\n",
       "      <td>22</td>\n",
       "      <td>22</td>\n",
       "      <td>22</td>\n",
       "      <td>...</td>\n",
       "      <td>22</td>\n",
       "      <td>22</td>\n",
       "      <td>22</td>\n",
       "      <td>22</td>\n",
       "      <td>22</td>\n",
       "      <td>22</td>\n",
       "      <td>22</td>\n",
       "      <td>22</td>\n",
       "      <td>22</td>\n",
       "      <td>22</td>\n",
       "      <td>22</td>\n",
       "      <td>22</td>\n",
       "      <td>22</td>\n",
       "      <td>22</td>\n",
       "      <td>22</td>\n",
       "      <td>22</td>\n",
       "      <td>22</td>\n",
       "      <td>22</td>\n",
       "      <td>22</td>\n",
       "      <td>22</td>\n",
       "      <td>22</td>\n",
       "      <td>22</td>\n",
       "      <td>22</td>\n",
       "      <td>22</td>\n",
       "      <td>22</td>\n",
       "      <td>22</td>\n",
       "      <td>22</td>\n",
       "      <td>22</td>\n",
       "      <td>22</td>\n",
       "      <td>22</td>\n",
       "      <td>22</td>\n",
       "      <td>22</td>\n",
       "      <td>22</td>\n",
       "      <td>22</td>\n",
       "      <td>22</td>\n",
       "      <td>22</td>\n",
       "      <td>22</td>\n",
       "      <td>22</td>\n",
       "      <td>22</td>\n",
       "      <td>22</td>\n",
       "    </tr>\n",
       "    <tr>\n",
       "      <th>HONOR Y DEMOCRACIA</th>\n",
       "      <td>5</td>\n",
       "      <td>5</td>\n",
       "      <td>5</td>\n",
       "      <td>5</td>\n",
       "      <td>5</td>\n",
       "      <td>5</td>\n",
       "      <td>5</td>\n",
       "      <td>5</td>\n",
       "      <td>5</td>\n",
       "      <td>5</td>\n",
       "      <td>5</td>\n",
       "      <td>5</td>\n",
       "      <td>5</td>\n",
       "      <td>5</td>\n",
       "      <td>5</td>\n",
       "      <td>5</td>\n",
       "      <td>5</td>\n",
       "      <td>5</td>\n",
       "      <td>5</td>\n",
       "      <td>5</td>\n",
       "      <td>5</td>\n",
       "      <td>5</td>\n",
       "      <td>5</td>\n",
       "      <td>5</td>\n",
       "      <td>5</td>\n",
       "      <td>5</td>\n",
       "      <td>5</td>\n",
       "      <td>5</td>\n",
       "      <td>5</td>\n",
       "      <td>5</td>\n",
       "      <td>5</td>\n",
       "      <td>5</td>\n",
       "      <td>5</td>\n",
       "      <td>5</td>\n",
       "      <td>5</td>\n",
       "      <td>5</td>\n",
       "      <td>5</td>\n",
       "      <td>5</td>\n",
       "      <td>5</td>\n",
       "      <td>5</td>\n",
       "      <td>...</td>\n",
       "      <td>5</td>\n",
       "      <td>5</td>\n",
       "      <td>5</td>\n",
       "      <td>5</td>\n",
       "      <td>5</td>\n",
       "      <td>5</td>\n",
       "      <td>5</td>\n",
       "      <td>5</td>\n",
       "      <td>5</td>\n",
       "      <td>5</td>\n",
       "      <td>5</td>\n",
       "      <td>5</td>\n",
       "      <td>5</td>\n",
       "      <td>5</td>\n",
       "      <td>5</td>\n",
       "      <td>5</td>\n",
       "      <td>5</td>\n",
       "      <td>5</td>\n",
       "      <td>5</td>\n",
       "      <td>5</td>\n",
       "      <td>5</td>\n",
       "      <td>5</td>\n",
       "      <td>5</td>\n",
       "      <td>5</td>\n",
       "      <td>5</td>\n",
       "      <td>5</td>\n",
       "      <td>5</td>\n",
       "      <td>5</td>\n",
       "      <td>5</td>\n",
       "      <td>5</td>\n",
       "      <td>5</td>\n",
       "      <td>5</td>\n",
       "      <td>5</td>\n",
       "      <td>5</td>\n",
       "      <td>5</td>\n",
       "      <td>5</td>\n",
       "      <td>5</td>\n",
       "      <td>5</td>\n",
       "      <td>5</td>\n",
       "      <td>5</td>\n",
       "    </tr>\n",
       "    <tr>\n",
       "      <th>JUNTOS POR EL PERÚ - VOCES DEL PUEBLO</th>\n",
       "      <td>8</td>\n",
       "      <td>8</td>\n",
       "      <td>8</td>\n",
       "      <td>8</td>\n",
       "      <td>8</td>\n",
       "      <td>8</td>\n",
       "      <td>8</td>\n",
       "      <td>8</td>\n",
       "      <td>8</td>\n",
       "      <td>8</td>\n",
       "      <td>8</td>\n",
       "      <td>8</td>\n",
       "      <td>8</td>\n",
       "      <td>8</td>\n",
       "      <td>8</td>\n",
       "      <td>8</td>\n",
       "      <td>8</td>\n",
       "      <td>8</td>\n",
       "      <td>8</td>\n",
       "      <td>8</td>\n",
       "      <td>8</td>\n",
       "      <td>8</td>\n",
       "      <td>8</td>\n",
       "      <td>8</td>\n",
       "      <td>8</td>\n",
       "      <td>8</td>\n",
       "      <td>8</td>\n",
       "      <td>8</td>\n",
       "      <td>8</td>\n",
       "      <td>8</td>\n",
       "      <td>8</td>\n",
       "      <td>8</td>\n",
       "      <td>8</td>\n",
       "      <td>8</td>\n",
       "      <td>8</td>\n",
       "      <td>8</td>\n",
       "      <td>8</td>\n",
       "      <td>8</td>\n",
       "      <td>8</td>\n",
       "      <td>8</td>\n",
       "      <td>...</td>\n",
       "      <td>8</td>\n",
       "      <td>8</td>\n",
       "      <td>8</td>\n",
       "      <td>8</td>\n",
       "      <td>8</td>\n",
       "      <td>8</td>\n",
       "      <td>8</td>\n",
       "      <td>8</td>\n",
       "      <td>8</td>\n",
       "      <td>8</td>\n",
       "      <td>8</td>\n",
       "      <td>8</td>\n",
       "      <td>8</td>\n",
       "      <td>8</td>\n",
       "      <td>8</td>\n",
       "      <td>8</td>\n",
       "      <td>8</td>\n",
       "      <td>8</td>\n",
       "      <td>8</td>\n",
       "      <td>8</td>\n",
       "      <td>8</td>\n",
       "      <td>8</td>\n",
       "      <td>8</td>\n",
       "      <td>8</td>\n",
       "      <td>8</td>\n",
       "      <td>8</td>\n",
       "      <td>8</td>\n",
       "      <td>8</td>\n",
       "      <td>8</td>\n",
       "      <td>8</td>\n",
       "      <td>8</td>\n",
       "      <td>8</td>\n",
       "      <td>8</td>\n",
       "      <td>8</td>\n",
       "      <td>8</td>\n",
       "      <td>8</td>\n",
       "      <td>8</td>\n",
       "      <td>8</td>\n",
       "      <td>8</td>\n",
       "      <td>8</td>\n",
       "    </tr>\n",
       "    <tr>\n",
       "      <th>NO AGRUPADO</th>\n",
       "      <td>9</td>\n",
       "      <td>9</td>\n",
       "      <td>9</td>\n",
       "      <td>9</td>\n",
       "      <td>9</td>\n",
       "      <td>9</td>\n",
       "      <td>9</td>\n",
       "      <td>9</td>\n",
       "      <td>9</td>\n",
       "      <td>9</td>\n",
       "      <td>9</td>\n",
       "      <td>9</td>\n",
       "      <td>9</td>\n",
       "      <td>9</td>\n",
       "      <td>9</td>\n",
       "      <td>9</td>\n",
       "      <td>9</td>\n",
       "      <td>9</td>\n",
       "      <td>9</td>\n",
       "      <td>9</td>\n",
       "      <td>9</td>\n",
       "      <td>9</td>\n",
       "      <td>9</td>\n",
       "      <td>9</td>\n",
       "      <td>9</td>\n",
       "      <td>9</td>\n",
       "      <td>9</td>\n",
       "      <td>9</td>\n",
       "      <td>9</td>\n",
       "      <td>9</td>\n",
       "      <td>9</td>\n",
       "      <td>9</td>\n",
       "      <td>9</td>\n",
       "      <td>9</td>\n",
       "      <td>9</td>\n",
       "      <td>9</td>\n",
       "      <td>9</td>\n",
       "      <td>9</td>\n",
       "      <td>9</td>\n",
       "      <td>9</td>\n",
       "      <td>...</td>\n",
       "      <td>9</td>\n",
       "      <td>9</td>\n",
       "      <td>9</td>\n",
       "      <td>9</td>\n",
       "      <td>9</td>\n",
       "      <td>9</td>\n",
       "      <td>9</td>\n",
       "      <td>9</td>\n",
       "      <td>9</td>\n",
       "      <td>9</td>\n",
       "      <td>9</td>\n",
       "      <td>9</td>\n",
       "      <td>9</td>\n",
       "      <td>9</td>\n",
       "      <td>9</td>\n",
       "      <td>9</td>\n",
       "      <td>9</td>\n",
       "      <td>9</td>\n",
       "      <td>9</td>\n",
       "      <td>9</td>\n",
       "      <td>9</td>\n",
       "      <td>9</td>\n",
       "      <td>9</td>\n",
       "      <td>9</td>\n",
       "      <td>9</td>\n",
       "      <td>9</td>\n",
       "      <td>9</td>\n",
       "      <td>9</td>\n",
       "      <td>9</td>\n",
       "      <td>9</td>\n",
       "      <td>9</td>\n",
       "      <td>9</td>\n",
       "      <td>9</td>\n",
       "      <td>9</td>\n",
       "      <td>9</td>\n",
       "      <td>9</td>\n",
       "      <td>9</td>\n",
       "      <td>9</td>\n",
       "      <td>9</td>\n",
       "      <td>9</td>\n",
       "    </tr>\n",
       "    <tr>\n",
       "      <th>PERÚ LIBRE</th>\n",
       "      <td>12</td>\n",
       "      <td>12</td>\n",
       "      <td>12</td>\n",
       "      <td>12</td>\n",
       "      <td>12</td>\n",
       "      <td>12</td>\n",
       "      <td>12</td>\n",
       "      <td>12</td>\n",
       "      <td>12</td>\n",
       "      <td>12</td>\n",
       "      <td>12</td>\n",
       "      <td>12</td>\n",
       "      <td>12</td>\n",
       "      <td>12</td>\n",
       "      <td>12</td>\n",
       "      <td>12</td>\n",
       "      <td>12</td>\n",
       "      <td>12</td>\n",
       "      <td>12</td>\n",
       "      <td>12</td>\n",
       "      <td>12</td>\n",
       "      <td>12</td>\n",
       "      <td>12</td>\n",
       "      <td>12</td>\n",
       "      <td>12</td>\n",
       "      <td>12</td>\n",
       "      <td>12</td>\n",
       "      <td>12</td>\n",
       "      <td>12</td>\n",
       "      <td>12</td>\n",
       "      <td>12</td>\n",
       "      <td>12</td>\n",
       "      <td>12</td>\n",
       "      <td>12</td>\n",
       "      <td>12</td>\n",
       "      <td>12</td>\n",
       "      <td>12</td>\n",
       "      <td>12</td>\n",
       "      <td>12</td>\n",
       "      <td>12</td>\n",
       "      <td>...</td>\n",
       "      <td>12</td>\n",
       "      <td>12</td>\n",
       "      <td>12</td>\n",
       "      <td>12</td>\n",
       "      <td>12</td>\n",
       "      <td>12</td>\n",
       "      <td>12</td>\n",
       "      <td>12</td>\n",
       "      <td>12</td>\n",
       "      <td>12</td>\n",
       "      <td>12</td>\n",
       "      <td>12</td>\n",
       "      <td>12</td>\n",
       "      <td>12</td>\n",
       "      <td>12</td>\n",
       "      <td>12</td>\n",
       "      <td>12</td>\n",
       "      <td>12</td>\n",
       "      <td>12</td>\n",
       "      <td>12</td>\n",
       "      <td>12</td>\n",
       "      <td>12</td>\n",
       "      <td>12</td>\n",
       "      <td>12</td>\n",
       "      <td>12</td>\n",
       "      <td>12</td>\n",
       "      <td>12</td>\n",
       "      <td>12</td>\n",
       "      <td>12</td>\n",
       "      <td>12</td>\n",
       "      <td>12</td>\n",
       "      <td>12</td>\n",
       "      <td>12</td>\n",
       "      <td>12</td>\n",
       "      <td>12</td>\n",
       "      <td>12</td>\n",
       "      <td>12</td>\n",
       "      <td>12</td>\n",
       "      <td>12</td>\n",
       "      <td>12</td>\n",
       "    </tr>\n",
       "    <tr>\n",
       "      <th>PODEMOS PERÚ</th>\n",
       "      <td>14</td>\n",
       "      <td>14</td>\n",
       "      <td>14</td>\n",
       "      <td>14</td>\n",
       "      <td>14</td>\n",
       "      <td>14</td>\n",
       "      <td>14</td>\n",
       "      <td>14</td>\n",
       "      <td>14</td>\n",
       "      <td>14</td>\n",
       "      <td>14</td>\n",
       "      <td>14</td>\n",
       "      <td>14</td>\n",
       "      <td>14</td>\n",
       "      <td>14</td>\n",
       "      <td>14</td>\n",
       "      <td>14</td>\n",
       "      <td>14</td>\n",
       "      <td>14</td>\n",
       "      <td>14</td>\n",
       "      <td>14</td>\n",
       "      <td>14</td>\n",
       "      <td>14</td>\n",
       "      <td>14</td>\n",
       "      <td>14</td>\n",
       "      <td>14</td>\n",
       "      <td>14</td>\n",
       "      <td>14</td>\n",
       "      <td>14</td>\n",
       "      <td>14</td>\n",
       "      <td>14</td>\n",
       "      <td>14</td>\n",
       "      <td>14</td>\n",
       "      <td>14</td>\n",
       "      <td>14</td>\n",
       "      <td>14</td>\n",
       "      <td>14</td>\n",
       "      <td>14</td>\n",
       "      <td>14</td>\n",
       "      <td>14</td>\n",
       "      <td>...</td>\n",
       "      <td>14</td>\n",
       "      <td>14</td>\n",
       "      <td>14</td>\n",
       "      <td>14</td>\n",
       "      <td>14</td>\n",
       "      <td>14</td>\n",
       "      <td>14</td>\n",
       "      <td>14</td>\n",
       "      <td>14</td>\n",
       "      <td>14</td>\n",
       "      <td>14</td>\n",
       "      <td>14</td>\n",
       "      <td>14</td>\n",
       "      <td>14</td>\n",
       "      <td>14</td>\n",
       "      <td>14</td>\n",
       "      <td>14</td>\n",
       "      <td>14</td>\n",
       "      <td>14</td>\n",
       "      <td>14</td>\n",
       "      <td>14</td>\n",
       "      <td>14</td>\n",
       "      <td>14</td>\n",
       "      <td>14</td>\n",
       "      <td>14</td>\n",
       "      <td>14</td>\n",
       "      <td>14</td>\n",
       "      <td>14</td>\n",
       "      <td>14</td>\n",
       "      <td>14</td>\n",
       "      <td>14</td>\n",
       "      <td>14</td>\n",
       "      <td>14</td>\n",
       "      <td>14</td>\n",
       "      <td>14</td>\n",
       "      <td>14</td>\n",
       "      <td>14</td>\n",
       "      <td>14</td>\n",
       "      <td>14</td>\n",
       "      <td>14</td>\n",
       "    </tr>\n",
       "    <tr>\n",
       "      <th>RENOVACIÓN POPULAR</th>\n",
       "      <td>11</td>\n",
       "      <td>11</td>\n",
       "      <td>11</td>\n",
       "      <td>11</td>\n",
       "      <td>11</td>\n",
       "      <td>11</td>\n",
       "      <td>11</td>\n",
       "      <td>11</td>\n",
       "      <td>11</td>\n",
       "      <td>11</td>\n",
       "      <td>11</td>\n",
       "      <td>11</td>\n",
       "      <td>11</td>\n",
       "      <td>11</td>\n",
       "      <td>11</td>\n",
       "      <td>11</td>\n",
       "      <td>11</td>\n",
       "      <td>11</td>\n",
       "      <td>11</td>\n",
       "      <td>11</td>\n",
       "      <td>11</td>\n",
       "      <td>11</td>\n",
       "      <td>11</td>\n",
       "      <td>11</td>\n",
       "      <td>11</td>\n",
       "      <td>11</td>\n",
       "      <td>11</td>\n",
       "      <td>11</td>\n",
       "      <td>11</td>\n",
       "      <td>11</td>\n",
       "      <td>11</td>\n",
       "      <td>11</td>\n",
       "      <td>11</td>\n",
       "      <td>11</td>\n",
       "      <td>11</td>\n",
       "      <td>11</td>\n",
       "      <td>11</td>\n",
       "      <td>11</td>\n",
       "      <td>11</td>\n",
       "      <td>11</td>\n",
       "      <td>...</td>\n",
       "      <td>11</td>\n",
       "      <td>11</td>\n",
       "      <td>11</td>\n",
       "      <td>11</td>\n",
       "      <td>11</td>\n",
       "      <td>11</td>\n",
       "      <td>11</td>\n",
       "      <td>11</td>\n",
       "      <td>11</td>\n",
       "      <td>11</td>\n",
       "      <td>11</td>\n",
       "      <td>11</td>\n",
       "      <td>11</td>\n",
       "      <td>11</td>\n",
       "      <td>11</td>\n",
       "      <td>11</td>\n",
       "      <td>11</td>\n",
       "      <td>11</td>\n",
       "      <td>11</td>\n",
       "      <td>11</td>\n",
       "      <td>11</td>\n",
       "      <td>11</td>\n",
       "      <td>11</td>\n",
       "      <td>11</td>\n",
       "      <td>11</td>\n",
       "      <td>11</td>\n",
       "      <td>11</td>\n",
       "      <td>11</td>\n",
       "      <td>11</td>\n",
       "      <td>11</td>\n",
       "      <td>11</td>\n",
       "      <td>11</td>\n",
       "      <td>11</td>\n",
       "      <td>11</td>\n",
       "      <td>11</td>\n",
       "      <td>11</td>\n",
       "      <td>11</td>\n",
       "      <td>11</td>\n",
       "      <td>11</td>\n",
       "      <td>11</td>\n",
       "    </tr>\n",
       "    <tr>\n",
       "      <th>SOMOS PERÚ</th>\n",
       "      <td>9</td>\n",
       "      <td>9</td>\n",
       "      <td>9</td>\n",
       "      <td>9</td>\n",
       "      <td>9</td>\n",
       "      <td>9</td>\n",
       "      <td>9</td>\n",
       "      <td>9</td>\n",
       "      <td>9</td>\n",
       "      <td>9</td>\n",
       "      <td>9</td>\n",
       "      <td>9</td>\n",
       "      <td>9</td>\n",
       "      <td>9</td>\n",
       "      <td>9</td>\n",
       "      <td>9</td>\n",
       "      <td>9</td>\n",
       "      <td>9</td>\n",
       "      <td>9</td>\n",
       "      <td>9</td>\n",
       "      <td>9</td>\n",
       "      <td>9</td>\n",
       "      <td>9</td>\n",
       "      <td>9</td>\n",
       "      <td>9</td>\n",
       "      <td>9</td>\n",
       "      <td>9</td>\n",
       "      <td>9</td>\n",
       "      <td>9</td>\n",
       "      <td>9</td>\n",
       "      <td>9</td>\n",
       "      <td>9</td>\n",
       "      <td>9</td>\n",
       "      <td>9</td>\n",
       "      <td>9</td>\n",
       "      <td>9</td>\n",
       "      <td>9</td>\n",
       "      <td>9</td>\n",
       "      <td>9</td>\n",
       "      <td>9</td>\n",
       "      <td>...</td>\n",
       "      <td>9</td>\n",
       "      <td>9</td>\n",
       "      <td>9</td>\n",
       "      <td>9</td>\n",
       "      <td>9</td>\n",
       "      <td>9</td>\n",
       "      <td>9</td>\n",
       "      <td>9</td>\n",
       "      <td>9</td>\n",
       "      <td>9</td>\n",
       "      <td>9</td>\n",
       "      <td>9</td>\n",
       "      <td>9</td>\n",
       "      <td>9</td>\n",
       "      <td>9</td>\n",
       "      <td>9</td>\n",
       "      <td>9</td>\n",
       "      <td>9</td>\n",
       "      <td>9</td>\n",
       "      <td>9</td>\n",
       "      <td>9</td>\n",
       "      <td>9</td>\n",
       "      <td>9</td>\n",
       "      <td>9</td>\n",
       "      <td>9</td>\n",
       "      <td>9</td>\n",
       "      <td>9</td>\n",
       "      <td>9</td>\n",
       "      <td>9</td>\n",
       "      <td>9</td>\n",
       "      <td>9</td>\n",
       "      <td>9</td>\n",
       "      <td>9</td>\n",
       "      <td>9</td>\n",
       "      <td>9</td>\n",
       "      <td>9</td>\n",
       "      <td>9</td>\n",
       "      <td>9</td>\n",
       "      <td>9</td>\n",
       "      <td>9</td>\n",
       "    </tr>\n",
       "  </tbody>\n",
       "</table>\n",
       "<p>14 rows × 2790 columns</p>\n",
       "</div>"
      ],
      "text/plain": [
       "                                             VOTACIÓN DEL PROYECTO 1271  ...  VOTACIÓN DEL TEXTO SUSTITUTORIO  DEL PROYECTO DE LEY DE PRESUPUESTO DEL SECTOR PÚBLICO  PARA EL AÑO FISCAL 2025  (PROYECTO 8758)\n",
       "Bancada                                                                  ...                                                                                                                                  \n",
       "ACCIÓN POPULAR                                                        9  ...                                                  9                                                                               \n",
       "ALIANZA PARA EL PROGRESO                                             14  ...                                                 14                                                                               \n",
       "AVANZA PAÍS - PARTIDO DE INTEGRACIÓN SOCIAL                           7  ...                                                  7                                                                               \n",
       "BANCADA SOCIALISTA                                                    5  ...                                                  5                                                                               \n",
       "BLOQUE DEMOCRÁTICO POPULAR                                            5  ...                                                  5                                                                               \n",
       "BLOQUE MAGISTERIAL DE CONCERTACIÓN NACIONAL                           8  ...                                                  8                                                                               \n",
       "FUERZA POPULAR                                                       22  ...                                                 22                                                                               \n",
       "HONOR Y DEMOCRACIA                                                    5  ...                                                  5                                                                               \n",
       "JUNTOS POR EL PERÚ - VOCES DEL PUEBLO                                 8  ...                                                  8                                                                               \n",
       "NO AGRUPADO                                                           9  ...                                                  9                                                                               \n",
       "PERÚ LIBRE                                                           12  ...                                                 12                                                                               \n",
       "PODEMOS PERÚ                                                         14  ...                                                 14                                                                               \n",
       "RENOVACIÓN POPULAR                                                   11  ...                                                 11                                                                               \n",
       "SOMOS PERÚ                                                            9  ...                                                  9                                                                               \n",
       "\n",
       "[14 rows x 2790 columns]"
      ]
     },
     "execution_count": 19,
     "metadata": {},
     "output_type": "execute_result"
    }
   ],
   "source": [
    "pd.concat([VOTOS.fillna(0), Congress[\"Bancada\"]], axis=1).sort_values(\"Bancada\").groupby(\"Bancada\").count()"
   ]
  },
  {
   "cell_type": "code",
   "execution_count": 57,
   "id": "76365ef7",
   "metadata": {},
   "outputs": [
    {
     "data": {
      "text/html": [
       "<div>\n",
       "<style scoped>\n",
       "    .dataframe tbody tr th:only-of-type {\n",
       "        vertical-align: middle;\n",
       "    }\n",
       "\n",
       "    .dataframe tbody tr th {\n",
       "        vertical-align: top;\n",
       "    }\n",
       "\n",
       "    .dataframe thead th {\n",
       "        text-align: right;\n",
       "    }\n",
       "</style>\n",
       "<table border=\"1\" class=\"dataframe\">\n",
       "  <thead>\n",
       "    <tr style=\"text-align: right;\">\n",
       "      <th></th>\n",
       "      <th>Congresista</th>\n",
       "      <th>Región</th>\n",
       "      <th>Bancada</th>\n",
       "      <th>Grupo</th>\n",
       "      <th>Votacion</th>\n",
       "      <th>Grupo_KMeans</th>\n",
       "    </tr>\n",
       "  </thead>\n",
       "  <tbody>\n",
       "    <tr>\n",
       "      <th>100</th>\n",
       "      <td>Portero López Hilda Marleny</td>\n",
       "      <td>Lambayeque</td>\n",
       "      <td>ACCIÓN POPULAR</td>\n",
       "      <td>Acción Popular</td>\n",
       "      <td>8,568</td>\n",
       "      <td>2</td>\n",
       "    </tr>\n",
       "    <tr>\n",
       "      <th>129</th>\n",
       "      <td>Vergara Mendoza Elvis Hernán</td>\n",
       "      <td>Ucayali</td>\n",
       "      <td>ACCIÓN POPULAR</td>\n",
       "      <td>Acción Popular</td>\n",
       "      <td>4,486</td>\n",
       "      <td>2</td>\n",
       "    </tr>\n",
       "    <tr>\n",
       "      <th>22</th>\n",
       "      <td>Camones Soriano Lady Mercedes</td>\n",
       "      <td>Ancash</td>\n",
       "      <td>ALIANZA PARA EL PROGRESO</td>\n",
       "      <td>Alianza para el Progreso</td>\n",
       "      <td>6,203</td>\n",
       "      <td>2</td>\n",
       "    </tr>\n",
       "    <tr>\n",
       "      <th>113</th>\n",
       "      <td>Salhuana Cavides Eduardo</td>\n",
       "      <td>Madre de dios</td>\n",
       "      <td>ALIANZA PARA EL PROGRESO</td>\n",
       "      <td>Alianza para el Progreso</td>\n",
       "      <td>3,013</td>\n",
       "      <td>2</td>\n",
       "    </tr>\n",
       "    <tr>\n",
       "      <th>96</th>\n",
       "      <td>Pariona Sinche Alfredo</td>\n",
       "      <td>Huancavelica</td>\n",
       "      <td>BANCADA SOCIALISTA</td>\n",
       "      <td>Partido Politico Nacional Perú Libre</td>\n",
       "      <td>9,849</td>\n",
       "      <td>2</td>\n",
       "    </tr>\n",
       "    <tr>\n",
       "      <th>103</th>\n",
       "      <td>Quito Sarmiento Bernardo Jaime</td>\n",
       "      <td>Arequipa</td>\n",
       "      <td>BANCADA SOCIALISTA</td>\n",
       "      <td>Partido Politico Nacional Perú Libre</td>\n",
       "      <td>41,430</td>\n",
       "      <td>2</td>\n",
       "    </tr>\n",
       "    <tr>\n",
       "      <th>48</th>\n",
       "      <td>Flores Ramírez Alex Randu</td>\n",
       "      <td>Ayacucho</td>\n",
       "      <td>BANCADA SOCIALISTA</td>\n",
       "      <td>Partido Politico Nacional Perú Libre</td>\n",
       "      <td>21,993</td>\n",
       "      <td>2</td>\n",
       "    </tr>\n",
       "    <tr>\n",
       "      <th>39</th>\n",
       "      <td>Dávila Atanacio Pasión Neomias</td>\n",
       "      <td>Pasco</td>\n",
       "      <td>BANCADA SOCIALISTA</td>\n",
       "      <td>Partido Politico Nacional Perú Libre</td>\n",
       "      <td>3,915</td>\n",
       "      <td>2</td>\n",
       "    </tr>\n",
       "    <tr>\n",
       "      <th>109</th>\n",
       "      <td>Robles Araujo Silvana Emperatriz</td>\n",
       "      <td>Junin</td>\n",
       "      <td>BANCADA SOCIALISTA</td>\n",
       "      <td>Partido Politico Nacional Perú Libre</td>\n",
       "      <td>11,893</td>\n",
       "      <td>2</td>\n",
       "    </tr>\n",
       "    <tr>\n",
       "      <th>16</th>\n",
       "      <td>Bazán Narro Sigrid Tesoro</td>\n",
       "      <td>LIMA</td>\n",
       "      <td>BLOQUE DEMOCRÁTICO POPULAR</td>\n",
       "      <td>Juntos por el Perú</td>\n",
       "      <td>44,359</td>\n",
       "      <td>2</td>\n",
       "    </tr>\n",
       "    <tr>\n",
       "      <th>95</th>\n",
       "      <td>Paredes Piqué Susel Ana María</td>\n",
       "      <td>LIMA</td>\n",
       "      <td>BLOQUE DEMOCRÁTICO POPULAR</td>\n",
       "      <td>Partido Morado</td>\n",
       "      <td>76,785</td>\n",
       "      <td>2</td>\n",
       "    </tr>\n",
       "    <tr>\n",
       "      <th>35</th>\n",
       "      <td>Cortez Aguirre Isabel</td>\n",
       "      <td>LIMA</td>\n",
       "      <td>BLOQUE DEMOCRÁTICO POPULAR</td>\n",
       "      <td>Juntos por el Perú</td>\n",
       "      <td>34,888</td>\n",
       "      <td>2</td>\n",
       "    </tr>\n",
       "    <tr>\n",
       "      <th>107</th>\n",
       "      <td>Reymundo Mercado Edgard Cornelio</td>\n",
       "      <td>Junin</td>\n",
       "      <td>BLOQUE DEMOCRÁTICO POPULAR</td>\n",
       "      <td>Juntos por el Perú</td>\n",
       "      <td>7,912</td>\n",
       "      <td>2</td>\n",
       "    </tr>\n",
       "    <tr>\n",
       "      <th>72</th>\n",
       "      <td>Luque Ibarra Ruth</td>\n",
       "      <td>Cusco</td>\n",
       "      <td>BLOQUE DEMOCRÁTICO POPULAR</td>\n",
       "      <td>Juntos por el Perú</td>\n",
       "      <td>12,049</td>\n",
       "      <td>2</td>\n",
       "    </tr>\n",
       "    <tr>\n",
       "      <th>118</th>\n",
       "      <td>Tacuri Valdivia Germán Adolfo</td>\n",
       "      <td>Ayacucho</td>\n",
       "      <td>BLOQUE MAGISTERIAL DE CONCERTACIÓN NACIONAL</td>\n",
       "      <td>Partido Politico Nacional Perú Libre</td>\n",
       "      <td>11,547</td>\n",
       "      <td>2</td>\n",
       "    </tr>\n",
       "    <tr>\n",
       "      <th>127</th>\n",
       "      <td>Vásquez Vela Lucinda</td>\n",
       "      <td>San martin</td>\n",
       "      <td>BLOQUE MAGISTERIAL DE CONCERTACIÓN NACIONAL</td>\n",
       "      <td>Partido Politico Nacional Perú Libre</td>\n",
       "      <td>8,778</td>\n",
       "      <td>2</td>\n",
       "    </tr>\n",
       "    <tr>\n",
       "      <th>53</th>\n",
       "      <td>Guerra García Campos Hernando</td>\n",
       "      <td>LIMA</td>\n",
       "      <td>FUERZA POPULAR</td>\n",
       "      <td>Fuerza Popular</td>\n",
       "      <td>55,987</td>\n",
       "      <td>2</td>\n",
       "    </tr>\n",
       "    <tr>\n",
       "      <th>1</th>\n",
       "      <td>Acuña Peralta Segundo Héctor</td>\n",
       "      <td>La libertad</td>\n",
       "      <td>HONOR Y DEMOCRACIA</td>\n",
       "      <td>Alianza para el Progreso</td>\n",
       "      <td>19,729</td>\n",
       "      <td>2</td>\n",
       "    </tr>\n",
       "    <tr>\n",
       "      <th>67</th>\n",
       "      <td>Limachi Quispe Nieves Esmeralda</td>\n",
       "      <td>Tacna</td>\n",
       "      <td>JUNTOS POR EL PERÚ - VOCES DEL PUEBLO</td>\n",
       "      <td>Partido Politico Nacional Perú Libre</td>\n",
       "      <td>3,125</td>\n",
       "      <td>2</td>\n",
       "    </tr>\n",
       "    <tr>\n",
       "      <th>102</th>\n",
       "      <td>Quispe Mamani Wilson Rusbel</td>\n",
       "      <td>Puno</td>\n",
       "      <td>JUNTOS POR EL PERÚ - VOCES DEL PUEBLO</td>\n",
       "      <td>Partido Politico Nacional Perú Libre</td>\n",
       "      <td>28,343</td>\n",
       "      <td>2</td>\n",
       "    </tr>\n",
       "    <tr>\n",
       "      <th>38</th>\n",
       "      <td>Cutipa Ccama Víctor Raúl</td>\n",
       "      <td>Moquegua</td>\n",
       "      <td>JUNTOS POR EL PERÚ - VOCES DEL PUEBLO</td>\n",
       "      <td>Partido Politico Nacional Perú Libre</td>\n",
       "      <td>3,821</td>\n",
       "      <td>2</td>\n",
       "    </tr>\n",
       "    <tr>\n",
       "      <th>31</th>\n",
       "      <td>Coayla Juárez Jorge Samuel</td>\n",
       "      <td>Moquegua</td>\n",
       "      <td>JUNTOS POR EL PERÚ - VOCES DEL PUEBLO</td>\n",
       "      <td>Partido Politico Nacional Perú Libre</td>\n",
       "      <td>4,846</td>\n",
       "      <td>2</td>\n",
       "    </tr>\n",
       "    <tr>\n",
       "      <th>126</th>\n",
       "      <td>Varas Meléndez Elías Marcial</td>\n",
       "      <td>Ancash</td>\n",
       "      <td>JUNTOS POR EL PERÚ - VOCES DEL PUEBLO</td>\n",
       "      <td>Partido Politico Nacional Perú Libre</td>\n",
       "      <td>6,328</td>\n",
       "      <td>2</td>\n",
       "    </tr>\n",
       "    <tr>\n",
       "      <th>18</th>\n",
       "      <td>Bermejo Rojas Guillermo</td>\n",
       "      <td>LIMA</td>\n",
       "      <td>JUNTOS POR EL PERÚ - VOCES DEL PUEBLO</td>\n",
       "      <td>Partido Politico Nacional Perú Libre</td>\n",
       "      <td>8,254</td>\n",
       "      <td>2</td>\n",
       "    </tr>\n",
       "    <tr>\n",
       "      <th>43</th>\n",
       "      <td>Echeverría Rodríguez Hamlet</td>\n",
       "      <td>Cajamarca</td>\n",
       "      <td>JUNTOS POR EL PERÚ - VOCES DEL PUEBLO</td>\n",
       "      <td>Partido Politico Nacional Perú Libre</td>\n",
       "      <td>3,647</td>\n",
       "      <td>2</td>\n",
       "    </tr>\n",
       "    <tr>\n",
       "      <th>114</th>\n",
       "      <td>Sánchez Palomino Roberto Helbert</td>\n",
       "      <td>LIMA</td>\n",
       "      <td>JUNTOS POR EL PERÚ - VOCES DEL PUEBLO</td>\n",
       "      <td>Juntos por el Perú</td>\n",
       "      <td>29,825</td>\n",
       "      <td>2</td>\n",
       "    </tr>\n",
       "    <tr>\n",
       "      <th>89</th>\n",
       "      <td>Pablo Medina Flor Aidee</td>\n",
       "      <td>LIMA</td>\n",
       "      <td>NO AGRUPADO</td>\n",
       "      <td>Partido Morado</td>\n",
       "      <td>53,899</td>\n",
       "      <td>2</td>\n",
       "    </tr>\n",
       "    <tr>\n",
       "      <th>91</th>\n",
       "      <td>Palacios Huamán Margot</td>\n",
       "      <td>Ayacucho</td>\n",
       "      <td>NO AGRUPADO</td>\n",
       "      <td>Partido Politico Nacional Perú Libre</td>\n",
       "      <td>11,781</td>\n",
       "      <td>2</td>\n",
       "    </tr>\n",
       "    <tr>\n",
       "      <th>40</th>\n",
       "      <td>Díaz Monago Freddy Ronald</td>\n",
       "      <td>Pasco</td>\n",
       "      <td>NO AGRUPADO</td>\n",
       "      <td>Alianza para el Progreso</td>\n",
       "      <td>4,195</td>\n",
       "      <td>2</td>\n",
       "    </tr>\n",
       "    <tr>\n",
       "      <th>33</th>\n",
       "      <td>Cordero Jon Tay María del Pilar</td>\n",
       "      <td>Tumbes</td>\n",
       "      <td>NO AGRUPADO</td>\n",
       "      <td>Fuerza Popular</td>\n",
       "      <td>2,194</td>\n",
       "      <td>2</td>\n",
       "    </tr>\n",
       "    <tr>\n",
       "      <th>27</th>\n",
       "      <td>Chávez Chino Betssy Betzabet</td>\n",
       "      <td>Tacna</td>\n",
       "      <td>NO AGRUPADO</td>\n",
       "      <td>Partido Politico Nacional Perú Libre</td>\n",
       "      <td>8,472</td>\n",
       "      <td>2</td>\n",
       "    </tr>\n",
       "    <tr>\n",
       "      <th>135</th>\n",
       "      <td>Zeballos Madariaga Carlos Javier</td>\n",
       "      <td>Puno</td>\n",
       "      <td>NO AGRUPADO</td>\n",
       "      <td>Acción Popular</td>\n",
       "      <td>23,883</td>\n",
       "      <td>2</td>\n",
       "    </tr>\n",
       "    <tr>\n",
       "      <th>106</th>\n",
       "      <td>Reyes Cam Abel Augusto</td>\n",
       "      <td>Huanuco</td>\n",
       "      <td>PERÚ LIBRE</td>\n",
       "      <td>Partido Politico Nacional Perú Libre</td>\n",
       "      <td>7,133</td>\n",
       "      <td>2</td>\n",
       "    </tr>\n",
       "    <tr>\n",
       "      <th>108</th>\n",
       "      <td>Rivas Chacara Janet Milagros</td>\n",
       "      <td>Lima Provincias</td>\n",
       "      <td>PERÚ LIBRE</td>\n",
       "      <td>Partido Politico Nacional Perú Libre</td>\n",
       "      <td>4,455</td>\n",
       "      <td>2</td>\n",
       "    </tr>\n",
       "    <tr>\n",
       "      <th>56</th>\n",
       "      <td>Herrera Mamani Fernando Mario</td>\n",
       "      <td>Tacna</td>\n",
       "      <td>PERÚ LIBRE</td>\n",
       "      <td>Partido Politico Nacional Perú Libre</td>\n",
       "      <td>6,105</td>\n",
       "      <td>2</td>\n",
       "    </tr>\n",
       "    <tr>\n",
       "      <th>119</th>\n",
       "      <td>Taipe Coronado María Elizabeth</td>\n",
       "      <td>Apurimac</td>\n",
       "      <td>PERÚ LIBRE</td>\n",
       "      <td>Partido Politico Nacional Perú Libre</td>\n",
       "      <td>8,643</td>\n",
       "      <td>2</td>\n",
       "    </tr>\n",
       "    <tr>\n",
       "      <th>25</th>\n",
       "      <td>Cerrón Rojas Waldemar José</td>\n",
       "      <td>Junin</td>\n",
       "      <td>PERÚ LIBRE</td>\n",
       "      <td>Partido Politico Nacional Perú Libre</td>\n",
       "      <td>25,281</td>\n",
       "      <td>2</td>\n",
       "    </tr>\n",
       "    <tr>\n",
       "      <th>13</th>\n",
       "      <td>Balcázar Zelada José María</td>\n",
       "      <td>Lambayeque</td>\n",
       "      <td>PERÚ LIBRE</td>\n",
       "      <td>Partido Politico Nacional Perú Libre</td>\n",
       "      <td>6,641</td>\n",
       "      <td>2</td>\n",
       "    </tr>\n",
       "    <tr>\n",
       "      <th>99</th>\n",
       "      <td>Portalatino Ávalos Kelly Roxana</td>\n",
       "      <td>Ancash</td>\n",
       "      <td>PERÚ LIBRE</td>\n",
       "      <td>Partido Politico Nacional Perú Libre</td>\n",
       "      <td>8,286</td>\n",
       "      <td>2</td>\n",
       "    </tr>\n",
       "    <tr>\n",
       "      <th>131</th>\n",
       "      <td>Wong Pujada Enrique</td>\n",
       "      <td>Callao</td>\n",
       "      <td>PODEMOS PERÚ</td>\n",
       "      <td>Podemos Perú</td>\n",
       "      <td>11,384</td>\n",
       "      <td>2</td>\n",
       "    </tr>\n",
       "    <tr>\n",
       "      <th>112</th>\n",
       "      <td>Saavedra Casternoque Hitler</td>\n",
       "      <td>Loreto</td>\n",
       "      <td>SOMOS PERÚ</td>\n",
       "      <td>Somos Perú</td>\n",
       "      <td>7,654</td>\n",
       "      <td>2</td>\n",
       "    </tr>\n",
       "    <tr>\n",
       "      <th>44</th>\n",
       "      <td>Elera García Wilmar Alberto</td>\n",
       "      <td>Piura</td>\n",
       "      <td>SOMOS PERÚ</td>\n",
       "      <td>Somos Perú</td>\n",
       "      <td>11,483</td>\n",
       "      <td>2</td>\n",
       "    </tr>\n",
       "  </tbody>\n",
       "</table>\n",
       "</div>"
      ],
      "text/plain": [
       "                          Congresista           Región  ... Votacion Grupo_KMeans\n",
       "100       Portero López Hilda Marleny       Lambayeque  ...    8,568            2\n",
       "129      Vergara Mendoza Elvis Hernán          Ucayali  ...    4,486            2\n",
       "22      Camones Soriano Lady Mercedes           Ancash  ...    6,203            2\n",
       "113          Salhuana Cavides Eduardo    Madre de dios  ...    3,013            2\n",
       "96             Pariona Sinche Alfredo     Huancavelica  ...    9,849            2\n",
       "103    Quito Sarmiento Bernardo Jaime         Arequipa  ...   41,430            2\n",
       "48          Flores Ramírez Alex Randu         Ayacucho  ...   21,993            2\n",
       "39     Dávila Atanacio Pasión Neomias            Pasco  ...    3,915            2\n",
       "109  Robles Araujo Silvana Emperatriz            Junin  ...   11,893            2\n",
       "16          Bazán Narro Sigrid Tesoro             LIMA  ...   44,359            2\n",
       "95      Paredes Piqué Susel Ana María             LIMA  ...   76,785            2\n",
       "35              Cortez Aguirre Isabel             LIMA  ...   34,888            2\n",
       "107  Reymundo Mercado Edgard Cornelio            Junin  ...    7,912            2\n",
       "72                  Luque Ibarra Ruth            Cusco  ...   12,049            2\n",
       "118     Tacuri Valdivia Germán Adolfo         Ayacucho  ...   11,547            2\n",
       "127              Vásquez Vela Lucinda       San martin  ...    8,778            2\n",
       "53      Guerra García Campos Hernando             LIMA  ...   55,987            2\n",
       "1        Acuña Peralta Segundo Héctor      La libertad  ...   19,729            2\n",
       "67    Limachi Quispe Nieves Esmeralda            Tacna  ...    3,125            2\n",
       "102       Quispe Mamani Wilson Rusbel             Puno  ...   28,343            2\n",
       "38           Cutipa Ccama Víctor Raúl         Moquegua  ...    3,821            2\n",
       "31         Coayla Juárez Jorge Samuel         Moquegua  ...    4,846            2\n",
       "126      Varas Meléndez Elías Marcial           Ancash  ...    6,328            2\n",
       "18            Bermejo Rojas Guillermo             LIMA  ...    8,254            2\n",
       "43        Echeverría Rodríguez Hamlet        Cajamarca  ...    3,647            2\n",
       "114  Sánchez Palomino Roberto Helbert             LIMA  ...   29,825            2\n",
       "89            Pablo Medina Flor Aidee             LIMA  ...   53,899            2\n",
       "91             Palacios Huamán Margot         Ayacucho  ...   11,781            2\n",
       "40          Díaz Monago Freddy Ronald            Pasco  ...    4,195            2\n",
       "33    Cordero Jon Tay María del Pilar           Tumbes  ...    2,194            2\n",
       "27       Chávez Chino Betssy Betzabet            Tacna  ...    8,472            2\n",
       "135  Zeballos Madariaga Carlos Javier             Puno  ...   23,883            2\n",
       "106            Reyes Cam Abel Augusto          Huanuco  ...    7,133            2\n",
       "108      Rivas Chacara Janet Milagros  Lima Provincias  ...    4,455            2\n",
       "56      Herrera Mamani Fernando Mario            Tacna  ...    6,105            2\n",
       "119    Taipe Coronado María Elizabeth         Apurimac  ...    8,643            2\n",
       "25         Cerrón Rojas Waldemar José            Junin  ...   25,281            2\n",
       "13         Balcázar Zelada José María       Lambayeque  ...    6,641            2\n",
       "99    Portalatino Ávalos Kelly Roxana           Ancash  ...    8,286            2\n",
       "131               Wong Pujada Enrique           Callao  ...   11,384            2\n",
       "112       Saavedra Casternoque Hitler           Loreto  ...    7,654            2\n",
       "44        Elera García Wilmar Alberto            Piura  ...   11,483            2\n",
       "\n",
       "[42 rows x 6 columns]"
      ]
     },
     "execution_count": 57,
     "metadata": {},
     "output_type": "execute_result"
    }
   ],
   "source": [
    "#apply kmeans\n",
    "from sklearn.cluster import KMeans\n",
    "kmeans_total = KMeans(n_clusters=3, random_state=0).fit(VOTOS.drop(\"Summary\", axis=0).fillna(0))\n",
    "kmeans_1_1_1 = KMeans(n_clusters=3, random_state=0).fit(VOTE_DICTIONARY[\"1.1.1\"].fillna(0))\n",
    "Congress[\"Grupo_KMeans\"] = kmeans_1_1_1.labels_\n",
    "Congress.loc[Congress[\"Grupo_KMeans\"] == 2].sort_values(\"Bancada\")"
   ]
  }
 ],
 "metadata": {
  "kernelspec": {
   "display_name": "Python 3",
   "language": "python",
   "name": "python3"
  },
  "language_info": {
   "codemirror_mode": {
    "name": "ipython",
    "version": 3
   },
   "file_extension": ".py",
   "mimetype": "text/x-python",
   "name": "python",
   "nbconvert_exporter": "python",
   "pygments_lexer": "ipython3",
   "version": "3.13.0"
  }
 },
 "nbformat": 4,
 "nbformat_minor": 5
}
