{
 "cells": [
  {
   "cell_type": "code",
   "execution_count": 2,
   "id": "474beb0f-e2aa-47c2-99a9-49ebdd0be007",
   "metadata": {},
   "outputs": [],
   "source": [
    "import pandas as pd\n",
    "import numpy as np\n",
    "\n",
    "#Import csv files and putting them in a dictionary\n",
    "file_names = [\"1.4.1\", \"1.2.3\", \"1.4.2\", \"1.3.2\", \"1.3.1\", \"1.2.2\", \"1.2.1\", \"1.1.1\"]\n",
    "file_names = [\"1.1.1\"]\n",
    "votes = [pd.read_csv(file_name+\".csv\", index_col=0) for file_name in file_names]\n",
    "votes_with_nan = [vote.where(vote<2) for vote in votes]\n",
    "VOTE_DICTIONARY = dict(zip(file_names, votes_with_nan))\n",
    "\n",
    "#Import Congress data\n",
    "Congress = pd.read_csv(\"Congreso.csv\", index_col=0)\n"
   ]
  },
  {
   "cell_type": "code",
   "execution_count": 3,
   "id": "8e408af3",
   "metadata": {},
   "outputs": [],
   "source": [
    "Congress.loc[Congress[\"Grupo\"] == \"Partido Democrático Somos Perú\", [\"Grupo\"]] = \"Somos Perú\"\n",
    "Congress.loc[Congress[\"Grupo\"] == \"Alianza para el Progreso del Perú\", [\"Grupo\"]] = \"Alianza para el Progreso\"\n"
   ]
  },
  {
   "cell_type": "code",
   "execution_count": 4,
   "id": "2307eaec",
   "metadata": {},
   "outputs": [
    {
     "data": {
      "text/plain": [
       "array(['Alianza para el Progreso', 'Partido Politico Nacional Perú Libre',\n",
       "       'Fuerza Popular', 'Somos Perú', 'Acción Popular',\n",
       "       'Avanza País - Partido de Integración Social', 'Podemos Perú',\n",
       "       'Renovación Popular', 'Juntos por el Perú', 'Partido Morado'],\n",
       "      dtype=object)"
      ]
     },
     "execution_count": 4,
     "metadata": {},
     "output_type": "execute_result"
    }
   ],
   "source": [
    "Congress[\"Grupo\"].unique()"
   ]
  },
  {
   "cell_type": "code",
   "execution_count": 5,
   "id": "3b36e293",
   "metadata": {},
   "outputs": [
    {
     "data": {
      "text/html": [
       "<div>\n",
       "<style scoped>\n",
       "    .dataframe tbody tr th:only-of-type {\n",
       "        vertical-align: middle;\n",
       "    }\n",
       "\n",
       "    .dataframe tbody tr th {\n",
       "        vertical-align: top;\n",
       "    }\n",
       "\n",
       "    .dataframe thead th {\n",
       "        text-align: right;\n",
       "    }\n",
       "</style>\n",
       "<table border=\"1\" class=\"dataframe\">\n",
       "  <thead>\n",
       "    <tr style=\"text-align: right;\">\n",
       "      <th></th>\n",
       "      <th>VOTACIÓN DE LA ADMISIÓN A   DEBATE DE LA MOCIÓN 12 477</th>\n",
       "      <th>VOTACIÓN DE LA ADMISIÓN A   DEBATE DE LA MOCIÓN 12613</th>\n",
       "      <th>VOTACIÓN DE L TEXTO SUSTITUTORIO  CONSENSUADO DE LAS MOCI ONES DE ORDEN DEL DÍA   12477 Y 12613</th>\n",
       "      <th>VOTACIÓN DEL PROYECTO DE  RESOLUCIÓN LEGISLATIVA 8378</th>\n",
       "      <th>VOTACIÓN DEL PROYECTO DE  RESOLUCIÓN LEGISLATIVA 8567</th>\n",
       "      <th>VOTACIÓN DE MODIFICACIONES AL   CUADRO DE LA COMISIÓN PERMANENTE</th>\n",
       "      <th>VOTACIÓN DE LA ADMISIÓN A DEBATE  DE LA MOCIÓN QUE PROPONE QUE EL</th>\n",
       "      <th>VOTACIÓN DEL TEXTO SUSTITUTORIO  DE LA MOCIÓN 12384</th>\n",
       "      <th>VOTACIÓN DE LA RATIFICACIÓN DEL  ACUERDO DE LA JUNTA DE PORTAVOCES QUE EXONERA DEL  DICTAMEN DE LA COMISIÓN DE EDUCACIÓN Y AMPLÍA LA  AGENDA RESPECTO DE LOS PROYECTOS DE LEY 7931 Y 8063</th>\n",
       "      <th>VOTACIÓN DEL TEXTO SUSTITUTORIO  DE LOS PROYECTOS 7931 Y 8063</th>\n",
       "      <th>...</th>\n",
       "      <th>VOTACIÓN DEL TEXTO SUSTITUTORIO  DEL PROYECTO 8002</th>\n",
       "      <th>VOTACIÓN DE LA EXONERACIÓN DE LA  SEGUNDA VOTACIÓN DEL TEXTO SUSTITUTORIO DEL    PROYECTO 8002</th>\n",
       "      <th>VOTACIÓN DEL TEXTO SUSTITUTORIO  DEL PROYECTO 4099</th>\n",
       "      <th>VOTACIÓN DE LA EXONERACIÓN DE LA  SEGUNDA VOTACIÓN DEL TEXTO SUSTITUTORIO DEL  PROYECTO 4099</th>\n",
       "      <th>VOTACIÓN DEL TEXTO SUSTITUTORIO  DEL PROYECTO 2729 Y OTROS</th>\n",
       "      <th>VOTACIÓN DE LA EXONERACIÓN DE LA  SEGUNDA VOTACIÓN DEL TEXTO SUSTITUTORIO DEL  PROYECTO 2729 Y OTROS</th>\n",
       "      <th>VOTACIÓN DEL  TEXTO SUSTITUTORIO  DEL PROYECTO DE LEY DE ENDEUDAMIENTO DEL SECTOR  PÚBLICO PARA EL AÑO FISCAL 2025 CON EXCEPCIÓN DE LA  CUARTA DISPOSICIÓN COMPLEMENTARIA MODIFICATORIA  (PROYECTO 8760)</th>\n",
       "      <th>VOTACIÓN DE LA CUARTA DISPOSICIÓN  COMPLEMENTARIA MODIFICATORIA DE L TEXTO SUSTITUTORIO  DEL PROYECTO DE LEY DE ENDEUDAMIENTO DEL SECTOR  PÚBLICO PARA EL AÑO FISCAL 2025 (PROYECTO 8760)</th>\n",
       "      <th>VOTACIÓN DEL TEXTO SUSTITUTORIO  DEL PROYECTO DE LEY DE EQUILIBRIO FINANCIERO DEL    PRESUPUESTO DEL SECTOR PÚBLICO PARA EL AÑO FISCAL 2025  (PROYECTO 8759)</th>\n",
       "      <th>VOTACIÓN DEL TEXTO SUSTITUTORIO  DEL PROYECTO DE LEY DE PRESUPUESTO DEL SECTOR PÚBLICO  PARA EL AÑO FISCAL 2025  (PROYECTO 8758)</th>\n",
       "    </tr>\n",
       "  </thead>\n",
       "  <tbody>\n",
       "    <tr>\n",
       "      <th>0</th>\n",
       "      <td>1.0</td>\n",
       "      <td>1.0</td>\n",
       "      <td>1.0</td>\n",
       "      <td>1.0</td>\n",
       "      <td>1.0</td>\n",
       "      <td>1.0</td>\n",
       "      <td>1.0</td>\n",
       "      <td>1.0</td>\n",
       "      <td>NaN</td>\n",
       "      <td>NaN</td>\n",
       "      <td>...</td>\n",
       "      <td>1.0</td>\n",
       "      <td>1.0</td>\n",
       "      <td>1.0</td>\n",
       "      <td>1.0</td>\n",
       "      <td>1.0</td>\n",
       "      <td>1.0</td>\n",
       "      <td>1.0</td>\n",
       "      <td>1.0</td>\n",
       "      <td>1.0</td>\n",
       "      <td>1.0</td>\n",
       "    </tr>\n",
       "    <tr>\n",
       "      <th>1</th>\n",
       "      <td>NaN</td>\n",
       "      <td>NaN</td>\n",
       "      <td>NaN</td>\n",
       "      <td>NaN</td>\n",
       "      <td>NaN</td>\n",
       "      <td>NaN</td>\n",
       "      <td>0.0</td>\n",
       "      <td>1.0</td>\n",
       "      <td>1.0</td>\n",
       "      <td>1.0</td>\n",
       "      <td>...</td>\n",
       "      <td>NaN</td>\n",
       "      <td>NaN</td>\n",
       "      <td>1.0</td>\n",
       "      <td>1.0</td>\n",
       "      <td>1.0</td>\n",
       "      <td>NaN</td>\n",
       "      <td>-1.0</td>\n",
       "      <td>1.0</td>\n",
       "      <td>-1.0</td>\n",
       "      <td>-1.0</td>\n",
       "    </tr>\n",
       "    <tr>\n",
       "      <th>2</th>\n",
       "      <td>-1.0</td>\n",
       "      <td>-1.0</td>\n",
       "      <td>-1.0</td>\n",
       "      <td>-1.0</td>\n",
       "      <td>-1.0</td>\n",
       "      <td>1.0</td>\n",
       "      <td>1.0</td>\n",
       "      <td>NaN</td>\n",
       "      <td>1.0</td>\n",
       "      <td>1.0</td>\n",
       "      <td>...</td>\n",
       "      <td>1.0</td>\n",
       "      <td>NaN</td>\n",
       "      <td>NaN</td>\n",
       "      <td>NaN</td>\n",
       "      <td>NaN</td>\n",
       "      <td>NaN</td>\n",
       "      <td>1.0</td>\n",
       "      <td>1.0</td>\n",
       "      <td>1.0</td>\n",
       "      <td>1.0</td>\n",
       "    </tr>\n",
       "    <tr>\n",
       "      <th>3</th>\n",
       "      <td>1.0</td>\n",
       "      <td>1.0</td>\n",
       "      <td>1.0</td>\n",
       "      <td>1.0</td>\n",
       "      <td>1.0</td>\n",
       "      <td>1.0</td>\n",
       "      <td>1.0</td>\n",
       "      <td>NaN</td>\n",
       "      <td>NaN</td>\n",
       "      <td>NaN</td>\n",
       "      <td>...</td>\n",
       "      <td>NaN</td>\n",
       "      <td>NaN</td>\n",
       "      <td>NaN</td>\n",
       "      <td>NaN</td>\n",
       "      <td>NaN</td>\n",
       "      <td>NaN</td>\n",
       "      <td>NaN</td>\n",
       "      <td>NaN</td>\n",
       "      <td>NaN</td>\n",
       "      <td>NaN</td>\n",
       "    </tr>\n",
       "    <tr>\n",
       "      <th>4</th>\n",
       "      <td>1.0</td>\n",
       "      <td>1.0</td>\n",
       "      <td>1.0</td>\n",
       "      <td>1.0</td>\n",
       "      <td>1.0</td>\n",
       "      <td>1.0</td>\n",
       "      <td>1.0</td>\n",
       "      <td>1.0</td>\n",
       "      <td>1.0</td>\n",
       "      <td>1.0</td>\n",
       "      <td>...</td>\n",
       "      <td>1.0</td>\n",
       "      <td>1.0</td>\n",
       "      <td>1.0</td>\n",
       "      <td>1.0</td>\n",
       "      <td>1.0</td>\n",
       "      <td>1.0</td>\n",
       "      <td>1.0</td>\n",
       "      <td>1.0</td>\n",
       "      <td>1.0</td>\n",
       "      <td>1.0</td>\n",
       "    </tr>\n",
       "    <tr>\n",
       "      <th>...</th>\n",
       "      <td>...</td>\n",
       "      <td>...</td>\n",
       "      <td>...</td>\n",
       "      <td>...</td>\n",
       "      <td>...</td>\n",
       "      <td>...</td>\n",
       "      <td>...</td>\n",
       "      <td>...</td>\n",
       "      <td>...</td>\n",
       "      <td>...</td>\n",
       "      <td>...</td>\n",
       "      <td>...</td>\n",
       "      <td>...</td>\n",
       "      <td>...</td>\n",
       "      <td>...</td>\n",
       "      <td>...</td>\n",
       "      <td>...</td>\n",
       "      <td>...</td>\n",
       "      <td>...</td>\n",
       "      <td>...</td>\n",
       "      <td>...</td>\n",
       "    </tr>\n",
       "    <tr>\n",
       "      <th>133</th>\n",
       "      <td>1.0</td>\n",
       "      <td>1.0</td>\n",
       "      <td>1.0</td>\n",
       "      <td>1.0</td>\n",
       "      <td>1.0</td>\n",
       "      <td>1.0</td>\n",
       "      <td>1.0</td>\n",
       "      <td>1.0</td>\n",
       "      <td>1.0</td>\n",
       "      <td>1.0</td>\n",
       "      <td>...</td>\n",
       "      <td>1.0</td>\n",
       "      <td>1.0</td>\n",
       "      <td>NaN</td>\n",
       "      <td>NaN</td>\n",
       "      <td>1.0</td>\n",
       "      <td>1.0</td>\n",
       "      <td>1.0</td>\n",
       "      <td>1.0</td>\n",
       "      <td>1.0</td>\n",
       "      <td>1.0</td>\n",
       "    </tr>\n",
       "    <tr>\n",
       "      <th>134</th>\n",
       "      <td>1.0</td>\n",
       "      <td>1.0</td>\n",
       "      <td>1.0</td>\n",
       "      <td>1.0</td>\n",
       "      <td>NaN</td>\n",
       "      <td>NaN</td>\n",
       "      <td>1.0</td>\n",
       "      <td>1.0</td>\n",
       "      <td>1.0</td>\n",
       "      <td>1.0</td>\n",
       "      <td>...</td>\n",
       "      <td>1.0</td>\n",
       "      <td>1.0</td>\n",
       "      <td>1.0</td>\n",
       "      <td>1.0</td>\n",
       "      <td>1.0</td>\n",
       "      <td>1.0</td>\n",
       "      <td>1.0</td>\n",
       "      <td>1.0</td>\n",
       "      <td>1.0</td>\n",
       "      <td>1.0</td>\n",
       "    </tr>\n",
       "    <tr>\n",
       "      <th>135</th>\n",
       "      <td>1.0</td>\n",
       "      <td>1.0</td>\n",
       "      <td>1.0</td>\n",
       "      <td>1.0</td>\n",
       "      <td>1.0</td>\n",
       "      <td>1.0</td>\n",
       "      <td>1.0</td>\n",
       "      <td>1.0</td>\n",
       "      <td>1.0</td>\n",
       "      <td>1.0</td>\n",
       "      <td>...</td>\n",
       "      <td>1.0</td>\n",
       "      <td>1.0</td>\n",
       "      <td>1.0</td>\n",
       "      <td>1.0</td>\n",
       "      <td>1.0</td>\n",
       "      <td>1.0</td>\n",
       "      <td>1.0</td>\n",
       "      <td>1.0</td>\n",
       "      <td>1.0</td>\n",
       "      <td>-1.0</td>\n",
       "    </tr>\n",
       "    <tr>\n",
       "      <th>136</th>\n",
       "      <td>NaN</td>\n",
       "      <td>NaN</td>\n",
       "      <td>NaN</td>\n",
       "      <td>NaN</td>\n",
       "      <td>NaN</td>\n",
       "      <td>NaN</td>\n",
       "      <td>NaN</td>\n",
       "      <td>NaN</td>\n",
       "      <td>NaN</td>\n",
       "      <td>NaN</td>\n",
       "      <td>...</td>\n",
       "      <td>1.0</td>\n",
       "      <td>1.0</td>\n",
       "      <td>1.0</td>\n",
       "      <td>1.0</td>\n",
       "      <td>NaN</td>\n",
       "      <td>1.0</td>\n",
       "      <td>1.0</td>\n",
       "      <td>1.0</td>\n",
       "      <td>1.0</td>\n",
       "      <td>NaN</td>\n",
       "    </tr>\n",
       "    <tr>\n",
       "      <th>137</th>\n",
       "      <td>1.0</td>\n",
       "      <td>1.0</td>\n",
       "      <td>1.0</td>\n",
       "      <td>1.0</td>\n",
       "      <td>1.0</td>\n",
       "      <td>1.0</td>\n",
       "      <td>1.0</td>\n",
       "      <td>1.0</td>\n",
       "      <td>1.0</td>\n",
       "      <td>1.0</td>\n",
       "      <td>...</td>\n",
       "      <td>NaN</td>\n",
       "      <td>NaN</td>\n",
       "      <td>NaN</td>\n",
       "      <td>NaN</td>\n",
       "      <td>NaN</td>\n",
       "      <td>NaN</td>\n",
       "      <td>1.0</td>\n",
       "      <td>1.0</td>\n",
       "      <td>1.0</td>\n",
       "      <td>1.0</td>\n",
       "    </tr>\n",
       "  </tbody>\n",
       "</table>\n",
       "<p>138 rows × 373 columns</p>\n",
       "</div>"
      ],
      "text/plain": [
       "     VOTACIÓN DE LA ADMISIÓN A   DEBATE DE LA MOCIÓN 12 477  \\\n",
       "0                                                  1.0        \n",
       "1                                                  NaN        \n",
       "2                                                 -1.0        \n",
       "3                                                  1.0        \n",
       "4                                                  1.0        \n",
       "..                                                 ...        \n",
       "133                                                1.0        \n",
       "134                                                1.0        \n",
       "135                                                1.0        \n",
       "136                                                NaN        \n",
       "137                                                1.0        \n",
       "\n",
       "     VOTACIÓN DE LA ADMISIÓN A   DEBATE DE LA MOCIÓN 12613  \\\n",
       "0                                                  1.0       \n",
       "1                                                  NaN       \n",
       "2                                                 -1.0       \n",
       "3                                                  1.0       \n",
       "4                                                  1.0       \n",
       "..                                                 ...       \n",
       "133                                                1.0       \n",
       "134                                                1.0       \n",
       "135                                                1.0       \n",
       "136                                                NaN       \n",
       "137                                                1.0       \n",
       "\n",
       "     VOTACIÓN DE L TEXTO SUSTITUTORIO  CONSENSUADO DE LAS MOCI ONES DE ORDEN DEL DÍA   12477 Y 12613  \\\n",
       "0                                                  1.0                                                 \n",
       "1                                                  NaN                                                 \n",
       "2                                                 -1.0                                                 \n",
       "3                                                  1.0                                                 \n",
       "4                                                  1.0                                                 \n",
       "..                                                 ...                                                 \n",
       "133                                                1.0                                                 \n",
       "134                                                1.0                                                 \n",
       "135                                                1.0                                                 \n",
       "136                                                NaN                                                 \n",
       "137                                                1.0                                                 \n",
       "\n",
       "     VOTACIÓN DEL PROYECTO DE  RESOLUCIÓN LEGISLATIVA 8378  \\\n",
       "0                                                  1.0       \n",
       "1                                                  NaN       \n",
       "2                                                 -1.0       \n",
       "3                                                  1.0       \n",
       "4                                                  1.0       \n",
       "..                                                 ...       \n",
       "133                                                1.0       \n",
       "134                                                1.0       \n",
       "135                                                1.0       \n",
       "136                                                NaN       \n",
       "137                                                1.0       \n",
       "\n",
       "     VOTACIÓN DEL PROYECTO DE  RESOLUCIÓN LEGISLATIVA 8567  \\\n",
       "0                                                  1.0       \n",
       "1                                                  NaN       \n",
       "2                                                 -1.0       \n",
       "3                                                  1.0       \n",
       "4                                                  1.0       \n",
       "..                                                 ...       \n",
       "133                                                1.0       \n",
       "134                                                NaN       \n",
       "135                                                1.0       \n",
       "136                                                NaN       \n",
       "137                                                1.0       \n",
       "\n",
       "     VOTACIÓN DE MODIFICACIONES AL   CUADRO DE LA COMISIÓN PERMANENTE  \\\n",
       "0                                                  1.0                  \n",
       "1                                                  NaN                  \n",
       "2                                                  1.0                  \n",
       "3                                                  1.0                  \n",
       "4                                                  1.0                  \n",
       "..                                                 ...                  \n",
       "133                                                1.0                  \n",
       "134                                                NaN                  \n",
       "135                                                1.0                  \n",
       "136                                                NaN                  \n",
       "137                                                1.0                  \n",
       "\n",
       "     VOTACIÓN DE LA ADMISIÓN A DEBATE  DE LA MOCIÓN QUE PROPONE QUE EL  \\\n",
       "0                                                  1.0                   \n",
       "1                                                  0.0                   \n",
       "2                                                  1.0                   \n",
       "3                                                  1.0                   \n",
       "4                                                  1.0                   \n",
       "..                                                 ...                   \n",
       "133                                                1.0                   \n",
       "134                                                1.0                   \n",
       "135                                                1.0                   \n",
       "136                                                NaN                   \n",
       "137                                                1.0                   \n",
       "\n",
       "     VOTACIÓN DEL TEXTO SUSTITUTORIO  DE LA MOCIÓN 12384  \\\n",
       "0                                                  1.0     \n",
       "1                                                  1.0     \n",
       "2                                                  NaN     \n",
       "3                                                  NaN     \n",
       "4                                                  1.0     \n",
       "..                                                 ...     \n",
       "133                                                1.0     \n",
       "134                                                1.0     \n",
       "135                                                1.0     \n",
       "136                                                NaN     \n",
       "137                                                1.0     \n",
       "\n",
       "     VOTACIÓN DE LA RATIFICACIÓN DEL  ACUERDO DE LA JUNTA DE PORTAVOCES QUE EXONERA DEL  DICTAMEN DE LA COMISIÓN DE EDUCACIÓN Y AMPLÍA LA  AGENDA RESPECTO DE LOS PROYECTOS DE LEY 7931 Y 8063  \\\n",
       "0                                                  NaN                                                                                                                                           \n",
       "1                                                  1.0                                                                                                                                           \n",
       "2                                                  1.0                                                                                                                                           \n",
       "3                                                  NaN                                                                                                                                           \n",
       "4                                                  1.0                                                                                                                                           \n",
       "..                                                 ...                                                                                                                                           \n",
       "133                                                1.0                                                                                                                                           \n",
       "134                                                1.0                                                                                                                                           \n",
       "135                                                1.0                                                                                                                                           \n",
       "136                                                NaN                                                                                                                                           \n",
       "137                                                1.0                                                                                                                                           \n",
       "\n",
       "     VOTACIÓN DEL TEXTO SUSTITUTORIO  DE LOS PROYECTOS 7931 Y 8063  ...  \\\n",
       "0                                                  NaN              ...   \n",
       "1                                                  1.0              ...   \n",
       "2                                                  1.0              ...   \n",
       "3                                                  NaN              ...   \n",
       "4                                                  1.0              ...   \n",
       "..                                                 ...              ...   \n",
       "133                                                1.0              ...   \n",
       "134                                                1.0              ...   \n",
       "135                                                1.0              ...   \n",
       "136                                                NaN              ...   \n",
       "137                                                1.0              ...   \n",
       "\n",
       "     VOTACIÓN DEL TEXTO SUSTITUTORIO  DEL PROYECTO 8002  \\\n",
       "0                                                  1.0    \n",
       "1                                                  NaN    \n",
       "2                                                  1.0    \n",
       "3                                                  NaN    \n",
       "4                                                  1.0    \n",
       "..                                                 ...    \n",
       "133                                                1.0    \n",
       "134                                                1.0    \n",
       "135                                                1.0    \n",
       "136                                                1.0    \n",
       "137                                                NaN    \n",
       "\n",
       "     VOTACIÓN DE LA EXONERACIÓN DE LA  SEGUNDA VOTACIÓN DEL TEXTO SUSTITUTORIO DEL    PROYECTO 8002  \\\n",
       "0                                                  1.0                                                \n",
       "1                                                  NaN                                                \n",
       "2                                                  NaN                                                \n",
       "3                                                  NaN                                                \n",
       "4                                                  1.0                                                \n",
       "..                                                 ...                                                \n",
       "133                                                1.0                                                \n",
       "134                                                1.0                                                \n",
       "135                                                1.0                                                \n",
       "136                                                1.0                                                \n",
       "137                                                NaN                                                \n",
       "\n",
       "     VOTACIÓN DEL TEXTO SUSTITUTORIO  DEL PROYECTO 4099  \\\n",
       "0                                                  1.0    \n",
       "1                                                  1.0    \n",
       "2                                                  NaN    \n",
       "3                                                  NaN    \n",
       "4                                                  1.0    \n",
       "..                                                 ...    \n",
       "133                                                NaN    \n",
       "134                                                1.0    \n",
       "135                                                1.0    \n",
       "136                                                1.0    \n",
       "137                                                NaN    \n",
       "\n",
       "     VOTACIÓN DE LA EXONERACIÓN DE LA  SEGUNDA VOTACIÓN DEL TEXTO SUSTITUTORIO DEL  PROYECTO 4099  \\\n",
       "0                                                  1.0                                              \n",
       "1                                                  1.0                                              \n",
       "2                                                  NaN                                              \n",
       "3                                                  NaN                                              \n",
       "4                                                  1.0                                              \n",
       "..                                                 ...                                              \n",
       "133                                                NaN                                              \n",
       "134                                                1.0                                              \n",
       "135                                                1.0                                              \n",
       "136                                                1.0                                              \n",
       "137                                                NaN                                              \n",
       "\n",
       "     VOTACIÓN DEL TEXTO SUSTITUTORIO  DEL PROYECTO 2729 Y OTROS  \\\n",
       "0                                                  1.0            \n",
       "1                                                  1.0            \n",
       "2                                                  NaN            \n",
       "3                                                  NaN            \n",
       "4                                                  1.0            \n",
       "..                                                 ...            \n",
       "133                                                1.0            \n",
       "134                                                1.0            \n",
       "135                                                1.0            \n",
       "136                                                NaN            \n",
       "137                                                NaN            \n",
       "\n",
       "     VOTACIÓN DE LA EXONERACIÓN DE LA  SEGUNDA VOTACIÓN DEL TEXTO SUSTITUTORIO DEL  PROYECTO 2729 Y OTROS  \\\n",
       "0                                                  1.0                                                      \n",
       "1                                                  NaN                                                      \n",
       "2                                                  NaN                                                      \n",
       "3                                                  NaN                                                      \n",
       "4                                                  1.0                                                      \n",
       "..                                                 ...                                                      \n",
       "133                                                1.0                                                      \n",
       "134                                                1.0                                                      \n",
       "135                                                1.0                                                      \n",
       "136                                                1.0                                                      \n",
       "137                                                NaN                                                      \n",
       "\n",
       "     VOTACIÓN DEL  TEXTO SUSTITUTORIO  DEL PROYECTO DE LEY DE ENDEUDAMIENTO DEL SECTOR  PÚBLICO PARA EL AÑO FISCAL 2025 CON EXCEPCIÓN DE LA  CUARTA DISPOSICIÓN COMPLEMENTARIA MODIFICATORIA  (PROYECTO 8760)  \\\n",
       "0                                                  1.0                                                                                                                                                          \n",
       "1                                                 -1.0                                                                                                                                                          \n",
       "2                                                  1.0                                                                                                                                                          \n",
       "3                                                  NaN                                                                                                                                                          \n",
       "4                                                  1.0                                                                                                                                                          \n",
       "..                                                 ...                                                                                                                                                          \n",
       "133                                                1.0                                                                                                                                                          \n",
       "134                                                1.0                                                                                                                                                          \n",
       "135                                                1.0                                                                                                                                                          \n",
       "136                                                1.0                                                                                                                                                          \n",
       "137                                                1.0                                                                                                                                                          \n",
       "\n",
       "     VOTACIÓN DE LA CUARTA DISPOSICIÓN  COMPLEMENTARIA MODIFICATORIA DE L TEXTO SUSTITUTORIO  DEL PROYECTO DE LEY DE ENDEUDAMIENTO DEL SECTOR  PÚBLICO PARA EL AÑO FISCAL 2025 (PROYECTO 8760)  \\\n",
       "0                                                  1.0                                                                                                                                           \n",
       "1                                                  1.0                                                                                                                                           \n",
       "2                                                  1.0                                                                                                                                           \n",
       "3                                                  NaN                                                                                                                                           \n",
       "4                                                  1.0                                                                                                                                           \n",
       "..                                                 ...                                                                                                                                           \n",
       "133                                                1.0                                                                                                                                           \n",
       "134                                                1.0                                                                                                                                           \n",
       "135                                                1.0                                                                                                                                           \n",
       "136                                                1.0                                                                                                                                           \n",
       "137                                                1.0                                                                                                                                           \n",
       "\n",
       "     VOTACIÓN DEL TEXTO SUSTITUTORIO  DEL PROYECTO DE LEY DE EQUILIBRIO FINANCIERO DEL    PRESUPUESTO DEL SECTOR PÚBLICO PARA EL AÑO FISCAL 2025  (PROYECTO 8759)  \\\n",
       "0                                                  1.0                                                                                                              \n",
       "1                                                 -1.0                                                                                                              \n",
       "2                                                  1.0                                                                                                              \n",
       "3                                                  NaN                                                                                                              \n",
       "4                                                  1.0                                                                                                              \n",
       "..                                                 ...                                                                                                              \n",
       "133                                                1.0                                                                                                              \n",
       "134                                                1.0                                                                                                              \n",
       "135                                                1.0                                                                                                              \n",
       "136                                                1.0                                                                                                              \n",
       "137                                                1.0                                                                                                              \n",
       "\n",
       "     VOTACIÓN DEL TEXTO SUSTITUTORIO  DEL PROYECTO DE LEY DE PRESUPUESTO DEL SECTOR PÚBLICO  PARA EL AÑO FISCAL 2025  (PROYECTO 8758)  \n",
       "0                                                  1.0                                                                                 \n",
       "1                                                 -1.0                                                                                 \n",
       "2                                                  1.0                                                                                 \n",
       "3                                                  NaN                                                                                 \n",
       "4                                                  1.0                                                                                 \n",
       "..                                                 ...                                                                                 \n",
       "133                                                1.0                                                                                 \n",
       "134                                                1.0                                                                                 \n",
       "135                                               -1.0                                                                                 \n",
       "136                                                NaN                                                                                 \n",
       "137                                                1.0                                                                                 \n",
       "\n",
       "[138 rows x 373 columns]"
      ]
     },
     "execution_count": 5,
     "metadata": {},
     "output_type": "execute_result"
    }
   ],
   "source": [
    "VOTOS = pd.concat(votes_with_nan, axis=1)\n",
    "VOTOS"
   ]
  },
  {
   "cell_type": "code",
   "execution_count": 6,
   "id": "86da8e1a",
   "metadata": {},
   "outputs": [],
   "source": [
    "def add_summary_row_single(df):\n",
    "    # Compute the sum of votes for each column\n",
    "    column_sums = df.sum(axis=0)\n",
    "    \n",
    "    # Determine if the bill passed (+1) or didn't (-1)\n",
    "    passed_or_not = [1 if x > 0 else -1 for x in column_sums]\n",
    "    \n",
    "    # Add the summary row to the DataFrame\n",
    "    df_with_summary = pd.concat(\n",
    "        [df, pd.DataFrame([passed_or_not], columns=df.columns, index=[\"Summary\"])],\n",
    "        axis=0\n",
    "    )\n",
    "    return df_with_summary\n",
    "VOTOS = add_summary_row_single(VOTOS)"
   ]
  },
  {
   "cell_type": "code",
   "execution_count": 7,
   "id": "facd43fd",
   "metadata": {},
   "outputs": [],
   "source": [
    "def calculate_alignment(df):\n",
    "    # Extract the summary row (outcomes)\n",
    "    outcomes = df.loc[\"Summary\"]\n",
    "    \n",
    "    # Drop the summary row from the DataFrame to analyze representatives\n",
    "    representatives = df.drop(\"Summary\")\n",
    "    \n",
    "    # Calculate alignment for each representative\n",
    "    alignment_count = (representatives == outcomes).sum(axis=1)\n",
    "    \n",
    "    # Create a DataFrame to store results\n",
    "    alignment_df = pd.DataFrame({\n",
    "        \"Representative\": representatives.index,\n",
    "        \"Aligned\": alignment_count\n",
    "    })\n",
    "    \n",
    "    # Sort by number of correct guesses in descending order\n",
    "    alignment_df = alignment_df.sort_values(by=\"Aligned\", ascending=False).reset_index(drop=True)\n",
    "    \n",
    "    return alignment_df\n"
   ]
  },
  {
   "cell_type": "code",
   "execution_count": 8,
   "id": "fa925848",
   "metadata": {},
   "outputs": [
    {
     "data": {
      "text/html": [
       "<div>\n",
       "<style scoped>\n",
       "    .dataframe tbody tr th:only-of-type {\n",
       "        vertical-align: middle;\n",
       "    }\n",
       "\n",
       "    .dataframe tbody tr th {\n",
       "        vertical-align: top;\n",
       "    }\n",
       "\n",
       "    .dataframe thead th {\n",
       "        text-align: right;\n",
       "    }\n",
       "</style>\n",
       "<table border=\"1\" class=\"dataframe\">\n",
       "  <thead>\n",
       "    <tr style=\"text-align: right;\">\n",
       "      <th></th>\n",
       "      <th>Representative</th>\n",
       "      <th>Aligned</th>\n",
       "    </tr>\n",
       "    <tr>\n",
       "      <th>Grupo</th>\n",
       "      <th></th>\n",
       "      <th></th>\n",
       "    </tr>\n",
       "  </thead>\n",
       "  <tbody>\n",
       "    <tr>\n",
       "      <th>Partido Morado</th>\n",
       "      <td>114.0</td>\n",
       "      <td>186.0</td>\n",
       "    </tr>\n",
       "    <tr>\n",
       "      <th>Partido Politico Nacional Perú Libre</th>\n",
       "      <td>67.0</td>\n",
       "      <td>198.0</td>\n",
       "    </tr>\n",
       "    <tr>\n",
       "      <th>Renovación Popular</th>\n",
       "      <td>86.0</td>\n",
       "      <td>199.0</td>\n",
       "    </tr>\n",
       "    <tr>\n",
       "      <th>Juntos por el Perú</th>\n",
       "      <td>75.0</td>\n",
       "      <td>204.0</td>\n",
       "    </tr>\n",
       "    <tr>\n",
       "      <th>Acción Popular</th>\n",
       "      <td>69.5</td>\n",
       "      <td>204.5</td>\n",
       "    </tr>\n",
       "    <tr>\n",
       "      <th>Fuerza Popular</th>\n",
       "      <td>68.5</td>\n",
       "      <td>215.0</td>\n",
       "    </tr>\n",
       "    <tr>\n",
       "      <th>Somos Perú</th>\n",
       "      <td>54.0</td>\n",
       "      <td>217.0</td>\n",
       "    </tr>\n",
       "    <tr>\n",
       "      <th>Alianza para el Progreso</th>\n",
       "      <td>73.0</td>\n",
       "      <td>220.0</td>\n",
       "    </tr>\n",
       "    <tr>\n",
       "      <th>Podemos Perú</th>\n",
       "      <td>46.5</td>\n",
       "      <td>220.5</td>\n",
       "    </tr>\n",
       "    <tr>\n",
       "      <th>Avanza País - Partido de Integración Social</th>\n",
       "      <td>84.0</td>\n",
       "      <td>264.0</td>\n",
       "    </tr>\n",
       "  </tbody>\n",
       "</table>\n",
       "</div>"
      ],
      "text/plain": [
       "                                            Representative  Aligned\n",
       "Grupo                                                              \n",
       "Partido Morado                                       114.0    186.0\n",
       "Partido Politico Nacional Perú Libre                  67.0    198.0\n",
       "Renovación Popular                                    86.0    199.0\n",
       "Juntos por el Perú                                    75.0    204.0\n",
       "Acción Popular                                        69.5    204.5\n",
       "Fuerza Popular                                        68.5    215.0\n",
       "Somos Perú                                            54.0    217.0\n",
       "Alianza para el Progreso                              73.0    220.0\n",
       "Podemos Perú                                          46.5    220.5\n",
       "Avanza País - Partido de Integración Social           84.0    264.0"
      ]
     },
     "execution_count": 8,
     "metadata": {},
     "output_type": "execute_result"
    }
   ],
   "source": [
    "pd.concat([calculate_alignment(VOTOS), Congress[\"Grupo\"]], axis=1).groupby(\"Grupo\").median().sort_values(\"Aligned\")"
   ]
  },
  {
   "cell_type": "code",
   "execution_count": 9,
   "id": "f58fbfd6",
   "metadata": {},
   "outputs": [
    {
     "name": "stdout",
     "output_type": "stream",
     "text": [
      "[0.1735152  0.1134482  0.05675053]\n",
      "[55.91959499 45.2161998  31.9801292 ]\n"
     ]
    }
   ],
   "source": [
    "from sklearn.decomposition import PCA\n",
    "pca = PCA(n_components=3)\n",
    "VOTOS_REDUCED = pca.fit_transform(VOTOS.fillna(0))\n",
    "print(pca.explained_variance_ratio_)\n",
    "print(pca.singular_values_)\n"
   ]
  },
  {
   "cell_type": "code",
   "execution_count": 10,
   "id": "50f31e79",
   "metadata": {},
   "outputs": [
    {
     "data": {
      "text/html": [
       "<div>\n",
       "<style scoped>\n",
       "    .dataframe tbody tr th:only-of-type {\n",
       "        vertical-align: middle;\n",
       "    }\n",
       "\n",
       "    .dataframe tbody tr th {\n",
       "        vertical-align: top;\n",
       "    }\n",
       "\n",
       "    .dataframe thead th {\n",
       "        text-align: right;\n",
       "    }\n",
       "</style>\n",
       "<table border=\"1\" class=\"dataframe\">\n",
       "  <thead>\n",
       "    <tr style=\"text-align: right;\">\n",
       "      <th></th>\n",
       "      <th>0</th>\n",
       "      <th>1</th>\n",
       "      <th>2</th>\n",
       "      <th>Congresista</th>\n",
       "      <th>Región</th>\n",
       "      <th>Bancada</th>\n",
       "      <th>Grupo</th>\n",
       "      <th>Votacion</th>\n",
       "    </tr>\n",
       "  </thead>\n",
       "  <tbody>\n",
       "    <tr>\n",
       "      <th>0</th>\n",
       "      <td>4.369146</td>\n",
       "      <td>-3.251826</td>\n",
       "      <td>0.804628</td>\n",
       "      <td>Acuña Peralta María Grimaneza</td>\n",
       "      <td>Lambayeque</td>\n",
       "      <td>ALIANZA PARA EL PROGRESO</td>\n",
       "      <td>Alianza para el Progreso</td>\n",
       "      <td>11,384</td>\n",
       "    </tr>\n",
       "    <tr>\n",
       "      <th>1</th>\n",
       "      <td>-3.327954</td>\n",
       "      <td>-0.393233</td>\n",
       "      <td>-4.338902</td>\n",
       "      <td>Acuña Peralta Segundo Héctor</td>\n",
       "      <td>La libertad</td>\n",
       "      <td>HONOR Y DEMOCRACIA</td>\n",
       "      <td>Alianza para el Progreso</td>\n",
       "      <td>19,729</td>\n",
       "    </tr>\n",
       "    <tr>\n",
       "      <th>2</th>\n",
       "      <td>-2.635642</td>\n",
       "      <td>6.230078</td>\n",
       "      <td>6.028242</td>\n",
       "      <td>Agüero Gutiérrez María Antonieta</td>\n",
       "      <td>Arequipa</td>\n",
       "      <td>PERÚ LIBRE</td>\n",
       "      <td>Partido Politico Nacional Perú Libre</td>\n",
       "      <td>29,293</td>\n",
       "    </tr>\n",
       "    <tr>\n",
       "      <th>3</th>\n",
       "      <td>4.225801</td>\n",
       "      <td>-1.479934</td>\n",
       "      <td>-0.060913</td>\n",
       "      <td>Aguinaga Recuenco Alejandro Aurelio</td>\n",
       "      <td>Lambayeque</td>\n",
       "      <td>FUERZA POPULAR</td>\n",
       "      <td>Fuerza Popular</td>\n",
       "      <td>10,715</td>\n",
       "    </tr>\n",
       "    <tr>\n",
       "      <th>4</th>\n",
       "      <td>1.205188</td>\n",
       "      <td>-0.385420</td>\n",
       "      <td>0.456057</td>\n",
       "      <td>Alcarraz Aguero Yorel Kira</td>\n",
       "      <td>LIMA</td>\n",
       "      <td>PODEMOS PERÚ</td>\n",
       "      <td>Somos Perú</td>\n",
       "      <td>28,404</td>\n",
       "    </tr>\n",
       "    <tr>\n",
       "      <th>...</th>\n",
       "      <td>...</td>\n",
       "      <td>...</td>\n",
       "      <td>...</td>\n",
       "      <td>...</td>\n",
       "      <td>...</td>\n",
       "      <td>...</td>\n",
       "      <td>...</td>\n",
       "      <td>...</td>\n",
       "    </tr>\n",
       "    <tr>\n",
       "      <th>134</th>\n",
       "      <td>3.321666</td>\n",
       "      <td>-1.206635</td>\n",
       "      <td>-3.766459</td>\n",
       "      <td>Zeballos Aponte Jorge Arturo</td>\n",
       "      <td>Peruanos Residentes en el Extranjero</td>\n",
       "      <td>RENOVACIÓN POPULAR</td>\n",
       "      <td>Renovación Popular</td>\n",
       "      <td>4,691</td>\n",
       "    </tr>\n",
       "    <tr>\n",
       "      <th>135</th>\n",
       "      <td>-1.957129</td>\n",
       "      <td>1.956986</td>\n",
       "      <td>-4.052449</td>\n",
       "      <td>Zeballos Madariaga Carlos Javier</td>\n",
       "      <td>Puno</td>\n",
       "      <td>NO AGRUPADO</td>\n",
       "      <td>Acción Popular</td>\n",
       "      <td>23,883</td>\n",
       "    </tr>\n",
       "    <tr>\n",
       "      <th>136</th>\n",
       "      <td>0.350698</td>\n",
       "      <td>-1.196059</td>\n",
       "      <td>1.062065</td>\n",
       "      <td>Zegarra Saboya Ana Zadith</td>\n",
       "      <td>Loreto</td>\n",
       "      <td>SOMOS PERÚ</td>\n",
       "      <td>Somos Perú</td>\n",
       "      <td>4,917</td>\n",
       "    </tr>\n",
       "    <tr>\n",
       "      <th>137</th>\n",
       "      <td>2.543608</td>\n",
       "      <td>-0.945024</td>\n",
       "      <td>1.457619</td>\n",
       "      <td>Zeta Chunga Cruz María</td>\n",
       "      <td>Piura</td>\n",
       "      <td>FUERZA POPULAR</td>\n",
       "      <td>Fuerza Popular</td>\n",
       "      <td>10,079</td>\n",
       "    </tr>\n",
       "    <tr>\n",
       "      <th>138</th>\n",
       "      <td>6.421351</td>\n",
       "      <td>5.928719</td>\n",
       "      <td>-0.438309</td>\n",
       "      <td>NaN</td>\n",
       "      <td>NaN</td>\n",
       "      <td>NaN</td>\n",
       "      <td>NaN</td>\n",
       "      <td>NaN</td>\n",
       "    </tr>\n",
       "  </tbody>\n",
       "</table>\n",
       "<p>139 rows × 8 columns</p>\n",
       "</div>"
      ],
      "text/plain": [
       "            0         1         2                          Congresista  \\\n",
       "0    4.369146 -3.251826  0.804628        Acuña Peralta María Grimaneza   \n",
       "1   -3.327954 -0.393233 -4.338902         Acuña Peralta Segundo Héctor   \n",
       "2   -2.635642  6.230078  6.028242     Agüero Gutiérrez María Antonieta   \n",
       "3    4.225801 -1.479934 -0.060913  Aguinaga Recuenco Alejandro Aurelio   \n",
       "4    1.205188 -0.385420  0.456057           Alcarraz Aguero Yorel Kira   \n",
       "..        ...       ...       ...                                  ...   \n",
       "134  3.321666 -1.206635 -3.766459         Zeballos Aponte Jorge Arturo   \n",
       "135 -1.957129  1.956986 -4.052449     Zeballos Madariaga Carlos Javier   \n",
       "136  0.350698 -1.196059  1.062065            Zegarra Saboya Ana Zadith   \n",
       "137  2.543608 -0.945024  1.457619               Zeta Chunga Cruz María   \n",
       "138  6.421351  5.928719 -0.438309                                  NaN   \n",
       "\n",
       "                                   Región                   Bancada  \\\n",
       "0                              Lambayeque  ALIANZA PARA EL PROGRESO   \n",
       "1                             La libertad        HONOR Y DEMOCRACIA   \n",
       "2                                Arequipa                PERÚ LIBRE   \n",
       "3                              Lambayeque            FUERZA POPULAR   \n",
       "4                                    LIMA              PODEMOS PERÚ   \n",
       "..                                    ...                       ...   \n",
       "134  Peruanos Residentes en el Extranjero        RENOVACIÓN POPULAR   \n",
       "135                                  Puno               NO AGRUPADO   \n",
       "136                                Loreto                SOMOS PERÚ   \n",
       "137                                 Piura            FUERZA POPULAR   \n",
       "138                                   NaN                       NaN   \n",
       "\n",
       "                                    Grupo Votacion  \n",
       "0                Alianza para el Progreso   11,384  \n",
       "1                Alianza para el Progreso   19,729  \n",
       "2    Partido Politico Nacional Perú Libre   29,293  \n",
       "3                          Fuerza Popular   10,715  \n",
       "4                              Somos Perú   28,404  \n",
       "..                                    ...      ...  \n",
       "134                    Renovación Popular    4,691  \n",
       "135                        Acción Popular   23,883  \n",
       "136                            Somos Perú    4,917  \n",
       "137                        Fuerza Popular   10,079  \n",
       "138                                   NaN      NaN  \n",
       "\n",
       "[139 rows x 8 columns]"
      ]
     },
     "execution_count": 10,
     "metadata": {},
     "output_type": "execute_result"
    }
   ],
   "source": [
    "VOTOS_REDUCED_DF = pd.concat([pd.DataFrame(VOTOS_REDUCED), Congress], axis=1)\n",
    "VOTOS_REDUCED_DF"
   ]
  },
  {
   "cell_type": "code",
   "execution_count": 11,
   "id": "c27e65d0",
   "metadata": {},
   "outputs": [
    {
     "name": "stdout",
     "output_type": "stream",
     "text": [
      "<class 'pandas.core.frame.DataFrame'>\n",
      "RangeIndex: 139 entries, 0 to 138\n",
      "Data columns (total 8 columns):\n",
      " #   Column       Non-Null Count  Dtype  \n",
      "---  ------       --------------  -----  \n",
      " 0   0            139 non-null    float64\n",
      " 1   1            139 non-null    float64\n",
      " 2   2            139 non-null    float64\n",
      " 3   Congresista  138 non-null    object \n",
      " 4   Región       138 non-null    object \n",
      " 5   Bancada      138 non-null    object \n",
      " 6   Grupo        138 non-null    object \n",
      " 7   Votacion     138 non-null    object \n",
      "dtypes: float64(3), object(5)\n",
      "memory usage: 8.8+ KB\n"
     ]
    }
   ],
   "source": [
    "VOTOS_REDUCED_DF.info()"
   ]
  },
  {
   "cell_type": "code",
   "execution_count": 12,
   "id": "0605473e",
   "metadata": {},
   "outputs": [
    {
     "data": {
      "image/png": "[encoded data removed]",
      "text/plain": [
       "<Figure size 640x480 with 1 Axes>"
      ]
     },
     "metadata": {},
     "output_type": "display_data"
    }
   ],
   "source": [
    "import seaborn as sns\n",
    "from matplotlib import pyplot as plt\n",
    "\n",
    "import seaborn as sns\n",
    "from matplotlib import pyplot as plt\n",
    "\n",
    "# Create scatterplot\n",
    "sns.scatterplot(data = VOTOS_REDUCED_DF, x = 0, y = 1, hue = \"Grupo\")\n",
    "\n",
    "# Adjust the legend\n",
    "plt.legend(title='Grupo', bbox_to_anchor=(1, 1), loc='best', frameon=False, title_fontsize='large', fontsize='small', ncol=1)\n",
    "\n",
    "# Display the plot\n",
    "#plt.tight_layout()\n",
    "plt.show()\n"
   ]
  },
  {
   "cell_type": "code",
   "execution_count": 15,
   "id": "f6d55dd9",
   "metadata": {},
   "outputs": [
    {
     "data": {
      "application/vnd.plotly.v1+json": {
       "config": {
        "plotlyServerURL": "https://plot.ly"
       },
       "data": [
        {
         "customdata": [
          [
           "Acuña Peralta María Grimaneza"
          ],
          [
           "Camones Soriano Lady Mercedes"
          ],
          [
           "Chiabra León Roberto Enrique"
          ],
          [
           "Elías Ávalos José Luis"
          ],
          [
           "García Correa Idelso Manuel"
          ],
          [
           "Heidinger Ballesteros Nelcy Lidia"
          ],
          [
           "Julón Irigoín Elva Edhit"
          ],
          [
           "Kamiche Morante Luis Roberto"
          ],
          [
           "Lizarzaburu Lizarzaburu Juan Carlos Martín"
          ],
          [
           "Marticorena Mendoza Jorge Alfonso"
          ],
          [
           "Ruíz Rodríguez Magaly Rosmery"
          ],
          [
           "Salhuana Cavides Eduardo"
          ],
          [
           "Soto Reyes Alejandro"
          ],
          [
           "Torres Salinas Rosio"
          ]
         ],
         "hovertemplate": "Bancada=ALIANZA PARA EL PROGRESO<br>0=%{x}<br>1=%{y}<br>2=%{z}<br>Congresista=%{customdata[0]}<extra></extra>",
         "legendgroup": "ALIANZA PARA EL PROGRESO",
         "marker": {
          "color": "#636efa",
          "symbol": "circle"
         },
         "mode": "markers",
         "name": "ALIANZA PARA EL PROGRESO",
         "scene": "scene",
         "showlegend": true,
         "type": "scatter3d",
         "x": [
          4.369145858512592,
          -2.3248305502061033,
          4.061643055249824,
          1.7334752042686978,
          3.8226421509458306,
          6.911482881733742,
          2.8121701135375763,
          4.920540251586552,
          -0.6110416995396735,
          4.1634229449497875,
          4.374021322409243,
          -4.7369761203520495,
          6.885900848121398,
          2.7179625795427156
         ],
         "y": [
          -3.2518262145677057,
          -5.263112923283739,
          4.0132564913493045,
          -3.0904777616506225,
          0.18288069701129508,
          4.140770170827236,
          -2.207612249807263,
          4.072378204232211,
          -5.667118623174775,
          1.1187804603607325,
          0.016834805962302208,
          -7.891776969839872,
          4.295437515714051,
          -1.860349915904078
         ],
         "z": [
          0.8046277305465319,
          0.5544290741599652,
          -2.161585340592672,
          0.5657896746325443,
          0.7702877855965969,
          -0.636584476037388,
          -0.5880361527806115,
          0.5117421022282667,
          1.626677144643034,
          -1.8130139275024533,
          -0.013505553258634303,
          2.4295876495933597,
          -0.4802703718326268,
          1.7039613606332935
         ]
        },
        {
         "customdata": [
          [
           "Acuña Peralta Segundo Héctor"
          ],
          [
           "Cueto Aservi José Ernesto"
          ],
          [
           "Echaíz de Núñez Izaga Gladys Margot"
          ],
          [
           "Montoya Manrique Jorge Carlos"
          ],
          [
           "Padilla Romero Javier Rommel"
          ]
         ],
         "hovertemplate": "Bancada=HONOR Y DEMOCRACIA<br>0=%{x}<br>1=%{y}<br>2=%{z}<br>Congresista=%{customdata[0]}<extra></extra>",
         "legendgroup": "HONOR Y DEMOCRACIA",
         "marker": {
          "color": "#EF553B",
          "symbol": "circle"
         },
         "mode": "markers",
         "name": "HONOR Y DEMOCRACIA",
         "scene": "scene",
         "showlegend": true,
         "type": "scatter3d",
         "x": [
          -3.3279535074636457,
          3.2384171277587472,
          -0.761407499796648,
          -0.5948522406915709,
          1.8389945591579906
         ],
         "y": [
          -0.39323266072125596,
          -0.47184422815104116,
          -3.098862424073459,
          0.24958688116472516,
          2.123856123533373
         ],
         "z": [
          -4.338902442027803,
          -3.32176818275263,
          -4.839130359076543,
          -3.027581627398005,
          -1.6287638659863886
         ]
        },
        {
         "customdata": [
          [
           "Agüero Gutiérrez María Antonieta"
          ],
          [
           "Balcázar Zelada José María"
          ],
          [
           "Cerrón Rojas Waldemar José"
          ],
          [
           "Cruz Mamani Flavio"
          ],
          [
           "Gonza Castillo Americo"
          ],
          [
           "Herrera Mamani Fernando Mario"
          ],
          [
           "Mita Alanoca Isaac"
          ],
          [
           "Montalvo Cubas Segundo Toribio"
          ],
          [
           "Portalatino Ávalos Kelly Roxana"
          ],
          [
           "Reyes Cam Abel Augusto"
          ],
          [
           "Rivas Chacara Janet Milagros"
          ],
          [
           "Taipe Coronado María Elizabeth"
          ]
         ],
         "hovertemplate": "Bancada=PERÚ LIBRE<br>0=%{x}<br>1=%{y}<br>2=%{z}<br>Congresista=%{customdata[0]}<extra></extra>",
         "legendgroup": "PERÚ LIBRE",
         "marker": {
          "color": "#00cc96",
          "symbol": "circle"
         },
         "mode": "markers",
         "name": "PERÚ LIBRE",
         "scene": "scene",
         "showlegend": true,
         "type": "scatter3d",
         "x": [
          -2.635642268131231,
          -5.6626667961166195,
          -3.0657610532116877,
          -1.3438801921150767,
          -0.6599740780425074,
          -4.761565070877342,
          -1.1858455547972666,
          -2.2742377606462765,
          -2.9547506231621172,
          -3.7254169548992766,
          -7.197136154132032,
          -4.311019071855256
         ],
         "y": [
          6.23007777208601,
          2.710383802558278,
          -0.8827868820496506,
          8.572409460711748,
          5.992225637333406,
          -7.9527167144075515,
          7.675374654710787,
          3.921605507863129,
          0.6280354091114889,
          -6.744503531029122,
          3.954178924030496,
          -0.9167329322588611
         ],
         "z": [
          6.028242155091294,
          3.3063030450623567,
          5.727507016421664,
          4.9761254046026036,
          5.027636635106725,
          2.4375919474696417,
          5.228594994409508,
          4.299511929861795,
          6.549255346278111,
          3.604542111438646,
          0.6639790043831182,
          5.044117036246487
         ]
        },
        {
         "customdata": [
          [
           "Aguinaga Recuenco Alejandro Aurelio"
          ],
          [
           "Alegría García Arturo"
          ],
          [
           "Barbarán Reyes Rosangella Andrea"
          ],
          [
           "Bustamante Donayre Ernesto"
          ],
          [
           "Castillo Rivas Eduardo Enrique"
          ],
          [
           "Chacón Trujillo Nilza Merly"
          ],
          [
           "Flores Ruíz Víctor Seferino"
          ],
          [
           "Guerra García Campos Hernando"
          ],
          [
           "Huamán Coronado Raúl"
          ],
          [
           "Infantes Castañeda Mery Eliana"
          ],
          [
           "Jiménez Heredia David Julio"
          ],
          [
           "Juárez Gallegos Carmen Patricia"
          ],
          [
           "López Morales Jeny Luz"
          ],
          [
           "Moyano Delgado Martha Lupe"
          ],
          [
           "Obando Morgan Auristela Ana"
          ],
          [
           "Olivos Martínez Vivian"
          ],
          [
           "Ramírez García Tania Estefany"
          ],
          [
           "Revilla Villanueva César Manuel"
          ],
          [
           "Rospigliosi Capurro Fernando Miguel"
          ],
          [
           "Santisteban Suclupe Magally"
          ],
          [
           "Ventura Angel Héctor José"
          ],
          [
           "Zeta Chunga Cruz María"
          ]
         ],
         "hovertemplate": "Bancada=FUERZA POPULAR<br>0=%{x}<br>1=%{y}<br>2=%{z}<br>Congresista=%{customdata[0]}<extra></extra>",
         "legendgroup": "FUERZA POPULAR",
         "marker": {
          "color": "#ab63fa",
          "symbol": "circle"
         },
         "mode": "markers",
         "name": "FUERZA POPULAR",
         "scene": "scene",
         "showlegend": true,
         "type": "scatter3d",
         "x": [
          4.22580119737758,
          4.532168579907763,
          4.295989993953905,
          5.866663782587746,
          3.795384143543783,
          4.7629087191381,
          7.865651309971142,
          -4.761565070877342,
          2.252131820718419,
          6.631048587645,
          5.5627587918957735,
          -1.0858766722825715,
          4.790783042986806,
          7.535252113742775,
          6.876425288635972,
          3.3610062356778028,
          3.5020172830894145,
          5.981346625184503,
          7.396764994251098,
          5.894078894548575,
          6.874248104044367,
          2.543608380758361
         ],
         "y": [
          -1.4799338843545413,
          -1.3761007201772082,
          -0.0964249041581701,
          1.0068300667109173,
          -0.5210635760187075,
          0.6864114057889106,
          3.0007725052956626,
          -7.9527167144075515,
          -2.8720423727738655,
          1.221455318410935,
          -1.5125979987349707,
          -6.084159124148862,
          -1.2128179426770385,
          2.8380435018395707,
          1.0888199010450559,
          -4.957487773044845,
          -2.4057088427684934,
          0.26440443251343093,
          1.4822802312584242,
          2.441452227459318,
          0.6733911002488875,
          -0.945024020695536
         ],
         "z": [
          -0.060913144853205446,
          0.7700428985577755,
          0.25654170034901397,
          -0.8190894145646476,
          0.26848375762961657,
          1.3096061428370285,
          -0.5446947689095429,
          2.4375919474696417,
          -0.36065820037658863,
          0.016430063369952026,
          -0.6595997423428255,
          1.146609174615902,
          0.9226180032073508,
          -0.5426651822603198,
          0.4166643167937284,
          2.194416552686426,
          0.8622831587929615,
          0.004291081413944729,
          -0.6817354865857485,
          1.03994836144547,
          0.13478928180906094,
          1.4576193950087428
         ]
        },
        {
         "customdata": [
          [
           "Alcarraz Aguero Yorel Kira"
          ],
          [
           "Arriola Tueros José Alberto"
          ],
          [
           "Bellido Ugarte Guido"
          ],
          [
           "Burgos Oliveros Juan Bartolomé"
          ],
          [
           "Calle Lobatón Digna"
          ],
          [
           "Espinoza Vargas Jhaec Darwin"
          ],
          [
           "Flores Ancachi Jorge Luis"
          ],
          [
           "Juárez Calle Heidy Lisbeth"
          ],
          [
           "Luna Gálvez José León"
          ],
          [
           "Orué Medina Ariana Maybee"
          ],
          [
           "Paredes Castro Francis Jhasmina"
          ],
          [
           "Picón Quedo Luis Raúl"
          ],
          [
           "Tello Montes Nivardo Edgar"
          ],
          [
           "Wong Pujada Enrique"
          ]
         ],
         "hovertemplate": "Bancada=PODEMOS PERÚ<br>0=%{x}<br>1=%{y}<br>2=%{z}<br>Congresista=%{customdata[0]}<extra></extra>",
         "legendgroup": "PODEMOS PERÚ",
         "marker": {
          "color": "#FFA15A",
          "symbol": "circle"
         },
         "mode": "markers",
         "name": "PODEMOS PERÚ",
         "scene": "scene",
         "showlegend": true,
         "type": "scatter3d",
         "x": [
          1.2051884470796983,
          2.210115836190175,
          -2.759600667467061,
          1.687149302674156,
          -0.4722214449856963,
          -0.6643320174737098,
          -0.010927544546682641,
          0.05481866068902341,
          1.436636887348503,
          2.852546758286774,
          0.7009240718766544,
          1.7667734943621942,
          -0.23048574298612765,
          -4.761565070877342
         ],
         "y": [
          -0.3854197826961838,
          -0.257414162863485,
          6.564605050555677,
          -1.9819685590022578,
          0.29489072834257574,
          0.9763333176759672,
          -1.9118012079865434,
          -2.430094146796594,
          -3.1366244061401067,
          1.9438616190131277,
          -0.8058056193153846,
          1.7114568169152544,
          1.6750691995815932,
          -7.9527167144075515
         ],
         "z": [
          0.4560570063471214,
          2.6429983817284293,
          3.28944968961733,
          0.48027767530647786,
          2.6666647629579936,
          2.176646402351361,
          -0.43971284686123446,
          2.7603696687856223,
          3.1441545856256727,
          0.22243999334620118,
          0.30411167197383415,
          1.8796674726346325,
          3.5948399528703114,
          2.4375919474696417
         ]
        },
        {
         "customdata": [
          [
           "Alva Prieto María del Carmen"
          ],
          [
           "Anderson Ramírez Carlos Antonio"
          ],
          [
           "Chávez Chino Betssy Betzabet"
          ],
          [
           "Cordero Jon Tay María del Pilar"
          ],
          [
           "Díaz Monago Freddy Ronald"
          ],
          [
           "Martínez Talavera Pedro Edwin"
          ],
          [
           "Pablo Medina Flor Aidee"
          ],
          [
           "Palacios Huamán Margot"
          ],
          [
           "Zeballos Madariaga Carlos Javier"
          ]
         ],
         "hovertemplate": "Bancada=NO AGRUPADO<br>0=%{x}<br>1=%{y}<br>2=%{z}<br>Congresista=%{customdata[0]}<extra></extra>",
         "legendgroup": "NO AGRUPADO",
         "marker": {
          "color": "#19d3f3",
          "symbol": "circle"
         },
         "mode": "markers",
         "name": "NO AGRUPADO",
         "scene": "scene",
         "showlegend": true,
         "type": "scatter3d",
         "x": [
          2.002403358439018,
          -0.10363439902155364,
          -4.761565070877343,
          -4.761565070877342,
          -4.761565070877342,
          3.5650222951482746,
          -6.799020863644662,
          -9.375304482712012,
          -1.9571294849215128
         ],
         "y": [
          -2.5119366232803797,
          -0.5782149224730452,
          -7.9527167144075515,
          -7.9527167144075515,
          -7.9527167144075515,
          1.9147574900577058,
          -5.248833901228432,
          0.9607132238832518,
          1.9569864874011609
         ],
         "z": [
          -0.5136522550380529,
          -4.854356620833553,
          2.4375919474696413,
          2.4375919474696417,
          2.4375919474696417,
          -1.2128910724553603,
          -2.9371424409494087,
          0.6940905951494838,
          -4.052449450275822
         ]
        },
        {
         "customdata": [
          [
           "Alva Rojas Carlos Enrique"
          ],
          [
           "Aragón Carreño Luis Ángel"
          ],
          [
           "Doroteo Carbajo Raúl Felipe"
          ],
          [
           "López Ureña Ilich Fredy"
          ],
          [
           "Monteza Facho Silvia María"
          ],
          [
           "Mori Celis Juan Carlos"
          ]
         ],
         "hovertemplate": "Bancada=ACCIÓN POPULAR<br>0=%{x}<br>1=%{y}<br>2=%{z}<br>Congresista=%{customdata[0]}<extra></extra>",
         "legendgroup": "ACCIÓN POPULAR",
         "marker": {
          "color": "#FF6692",
          "symbol": "circle"
         },
         "mode": "markers",
         "name": "ACCIÓN POPULAR",
         "scene": "scene",
         "showlegend": true,
         "type": "scatter3d",
         "x": [
          0.3214578777308247,
          3.169229295034035,
          0.7809368040843139,
          0.9120899390223896,
          3.0874714964488224,
          2.4683753005458544
         ],
         "y": [
          -0.4288392363130205,
          3.067035078763803,
          -1.116323661267594,
          -2.2856549932505543,
          2.2198133401975504,
          3.3785189666033677
         ],
         "z": [
          0.8777802701415822,
          2.3435542667050124,
          0.27369644642928803,
          1.5588173360459823,
          -0.78908000594841,
          0.174546539415283
         ]
        },
        {
         "customdata": [
          [
           "Amuruz Dulanto Yessica Rosselli"
          ],
          [
           "Cavero Alva Alejandro Enrique"
          ],
          [
           "Gonzales Delgado Diana Carolina"
          ],
          [
           "Málaga Trillo George Edward"
          ],
          [
           "Paredes Fonseca Karol Ivett"
          ],
          [
           "Tudela Gutiérrez Adriana Josefina"
          ],
          [
           "Williams Zapata José Daniel"
          ]
         ],
         "hovertemplate": "Bancada=AVANZA PAÍS - PARTIDO DE INTEGRACIÓN SOCIAL<br>0=%{x}<br>1=%{y}<br>2=%{z}<br>Congresista=%{customdata[0]}<extra></extra>",
         "legendgroup": "AVANZA PAÍS - PARTIDO DE INTEGRACIÓN SOCIAL",
         "marker": {
          "color": "#B6E880",
          "symbol": "circle"
         },
         "mode": "markers",
         "name": "AVANZA PAÍS - PARTIDO DE INTEGRACIÓN SOCIAL",
         "scene": "scene",
         "showlegend": true,
         "type": "scatter3d",
         "x": [
          1.3559906173725413,
          0.2795485373303208,
          4.555866533697355,
          0.43006958197115386,
          2.324385699075104,
          1.3269800177998075,
          4.92898026155856
         ],
         "y": [
          -4.217369893124535,
          -5.335183640052643,
          -0.9982804089970045,
          -2.570626575669818,
          -2.371397322213186,
          -5.573461313814078,
          -1.2496523874960561
         ],
         "z": [
          0.5442221530842735,
          0.010744072060896556,
          -6.341540712841564,
          -5.499338273092679,
          -4.0511321609400195,
          -2.3335273975728894,
          -3.517537282651841
         ]
        },
        {
         "customdata": [
          [
           "Azurín Loayza Alfredo"
          ],
          [
           "Cordero Jon Tay Luis Gustavo"
          ],
          [
           "Elera García Wilmar Alberto"
          ],
          [
           "Jeri Oré José Enrique"
          ],
          [
           "Morante Figari Jorge Alberto"
          ],
          [
           "Pazo Nunura José Bernardo"
          ],
          [
           "Saavedra Casternoque Hitler"
          ],
          [
           "Valer Pinto Héctor"
          ],
          [
           "Zegarra Saboya Ana Zadith"
          ]
         ],
         "hovertemplate": "Bancada=SOMOS PERÚ<br>0=%{x}<br>1=%{y}<br>2=%{z}<br>Congresista=%{customdata[0]}<extra></extra>",
         "legendgroup": "SOMOS PERÚ",
         "marker": {
          "color": "#FF97FF",
          "symbol": "circle"
         },
         "mode": "markers",
         "name": "SOMOS PERÚ",
         "scene": "scene",
         "showlegend": true,
         "type": "scatter3d",
         "x": [
          6.389548162042544,
          5.970137107746779,
          -4.761565070877342,
          3.223298939343716,
          6.168421327442302,
          3.3927148793554105,
          -3.0260060853409376,
          2.8593999909207586,
          0.35069817163938916
         ],
         "y": [
          3.7433924974805497,
          4.697962842860856,
          -7.9527167144075515,
          -3.5439423756424455,
          3.910238916731314,
          0.7163531665571806,
          -6.911496526619312,
          0.4969337530931913,
          -1.1960593758801306
         ],
         "z": [
          -1.0719118336771627,
          0.2857257427670158,
          2.4375919474696417,
          1.806405349473724,
          -0.3236224784043623,
          1.7575306893605147,
          2.3075187190889115,
          0.895987285760815,
          1.062064749150511
         ]
        },
        {
         "customdata": [
          [
           "Bazán Calderón Diego Alonso Fernando"
          ],
          [
           "Chirinos Venegas Patricia Rosa"
          ],
          [
           "Ciccia Vásquez Miguel Angel"
          ],
          [
           "Córdova Lobatón María Jessica"
          ],
          [
           "Herrera Medina Noelia Rossvith"
          ],
          [
           "Jáuregui Martínez de Aguayo María de los Milagros Jackeline"
          ],
          [
           "Medina Minaya Esdras Ricardo"
          ],
          [
           "Muñante Barrios Alejandro"
          ],
          [
           "Trigozo Reátegui Cheryl"
          ],
          [
           "Yarrow Lumbreras Norma Martina"
          ],
          [
           "Zeballos Aponte Jorge Arturo"
          ]
         ],
         "hovertemplate": "Bancada=RENOVACIÓN POPULAR<br>0=%{x}<br>1=%{y}<br>2=%{z}<br>Congresista=%{customdata[0]}<extra></extra>",
         "legendgroup": "RENOVACIÓN POPULAR",
         "marker": {
          "color": "#FECB52",
          "symbol": "circle"
         },
         "mode": "markers",
         "name": "RENOVACIÓN POPULAR",
         "scene": "scene",
         "showlegend": true,
         "type": "scatter3d",
         "x": [
          0.9601010430042015,
          3.221610195246938,
          2.7256792976842354,
          1.8301490926002366,
          4.812172982306165,
          3.4764802019365524,
          3.3082707752869966,
          3.6320113223819153,
          -0.006295506267693981,
          4.078345540151173,
          3.321666018798696
         ],
         "y": [
          -3.374440075419578,
          -3.8078954832435694,
          -0.894986219821306,
          -1.4107544004895334,
          -0.4151141070054498,
          -3.7386637781790406,
          3.3669229726968157,
          -2.59150485000236,
          -4.813105134902607,
          0.4835798710534447,
          -1.2066349471540654
         ],
         "z": [
          -1.8176562309558264,
          -0.8094266685012342,
          -3.498695105654992,
          -2.4100425314638887,
          -5.9771750930649095,
          -4.039652281166582,
          -0.5274523612487179,
          -2.995232712399681,
          -0.7799006093010855,
          -7.1700756426951635,
          -3.7664588374158225
         ]
        },
        {
         "customdata": [
          [
           "Bazán Narro Sigrid Tesoro"
          ],
          [
           "Cortez Aguirre Isabel"
          ],
          [
           "Luque Ibarra Ruth"
          ],
          [
           "Paredes Piqué Susel Ana María"
          ],
          [
           "Reymundo Mercado Edgard Cornelio"
          ]
         ],
         "hovertemplate": "Bancada=BLOQUE DEMOCRÁTICO POPULAR<br>0=%{x}<br>1=%{y}<br>2=%{z}<br>Congresista=%{customdata[0]}<extra></extra>",
         "legendgroup": "BLOQUE DEMOCRÁTICO POPULAR",
         "marker": {
          "color": "#636efa",
          "symbol": "circle"
         },
         "mode": "markers",
         "name": "BLOQUE DEMOCRÁTICO POPULAR",
         "scene": "scene",
         "showlegend": true,
         "type": "scatter3d",
         "x": [
          -9.578988501969647,
          -7.607757602572118,
          -9.349501061794681,
          -7.84641029326039,
          -7.826859310679137
         ],
         "y": [
          0.0785384696043225,
          2.23570823107486,
          -2.3236208949685286,
          -3.73096482021983,
          0.005735240679464805
         ],
         "z": [
          -6.434746063680499,
          -4.259613822557946,
          -5.8978736771722104,
          -5.00929778095612,
          -4.045846662047126
         ]
        },
        {
         "customdata": [
          [
           "Bermejo Rojas Guillermo"
          ],
          [
           "Coayla Juárez Jorge Samuel"
          ],
          [
           "Cutipa Ccama Víctor Raúl"
          ],
          [
           "Echeverría Rodríguez Hamlet"
          ],
          [
           "Limachi Quispe Nieves Esmeralda"
          ],
          [
           "Quispe Mamani Wilson Rusbel"
          ],
          [
           "Sánchez Palomino Roberto Helbert"
          ],
          [
           "Varas Meléndez Elías Marcial"
          ]
         ],
         "hovertemplate": "Bancada=JUNTOS POR EL PERÚ - VOCES DEL PUEBLO<br>0=%{x}<br>1=%{y}<br>2=%{z}<br>Congresista=%{customdata[0]}<extra></extra>",
         "legendgroup": "JUNTOS POR EL PERÚ - VOCES DEL PUEBLO",
         "marker": {
          "color": "#EF553B",
          "symbol": "circle"
         },
         "mode": "markers",
         "name": "JUNTOS POR EL PERÚ - VOCES DEL PUEBLO",
         "scene": "scene",
         "showlegend": true,
         "type": "scatter3d",
         "x": [
          -9.070569982911595,
          -6.464452725024399,
          -8.942330826167195,
          -9.041385816711248,
          -5.266603090335842,
          -8.71392998580008,
          -8.341934035885583,
          -10.025049590700185
         ],
         "y": [
          5.628334256389943,
          7.012133679923191,
          6.9699816785892414,
          6.286905374157818,
          -3.9166194216738925,
          2.1129622003172597,
          2.606314414361424,
          1.8048443731148007
         ],
         "z": [
          -1.1878805480420995,
          0.3490612369681955,
          -1.990187330392954,
          -2.520406850229503,
          1.6499151413601987,
          0.540037039147431,
          -1.633142247445421,
          0.38534644757944864
         ]
        },
        {
         "customdata": [
          [
           "Dávila Atanacio Pasión Neomias"
          ],
          [
           "Flores Ramírez Alex Randu"
          ],
          [
           "Pariona Sinche Alfredo"
          ],
          [
           "Quito Sarmiento Bernardo Jaime"
          ],
          [
           "Robles Araujo Silvana Emperatriz"
          ]
         ],
         "hovertemplate": "Bancada=BANCADA SOCIALISTA<br>0=%{x}<br>1=%{y}<br>2=%{z}<br>Congresista=%{customdata[0]}<extra></extra>",
         "legendgroup": "BANCADA SOCIALISTA",
         "marker": {
          "color": "#00cc96",
          "symbol": "circle"
         },
         "mode": "markers",
         "name": "BANCADA SOCIALISTA",
         "scene": "scene",
         "showlegend": true,
         "type": "scatter3d",
         "x": [
          -8.055835371791662,
          -9.474975759199253,
          -7.262530194125907,
          -10.488224760967816,
          -8.621865683515287
         ],
         "y": [
          6.184501841569119,
          3.625403192478854,
          4.363550747257248,
          6.538839407706729,
          2.4259222811240786
         ],
         "z": [
          0.3020225977836289,
          -3.0750962645559476,
          -2.2795918006321356,
          -2.33781564741386,
          -2.8517530446472783
         ]
        },
        {
         "customdata": [
          [
           "Gutiérrez Ticona Paul Silvio"
          ],
          [
           "Medina Hermosilla Elizabeth Sara"
          ],
          [
           "Paredes Gonzales Alex Antonio"
          ],
          [
           "Quiroz Barboza Segundo Teodomiro"
          ],
          [
           "Tacuri Valdivia Germán Adolfo"
          ],
          [
           "Ugarte Mamani Jhakeline Katy"
          ],
          [
           "Vásquez Vela Lucinda"
          ],
          [
           "Zea Choquechambi Oscar"
          ]
         ],
         "hovertemplate": "Bancada=BLOQUE MAGISTERIAL DE CONCERTACIÓN NACIONAL<br>0=%{x}<br>1=%{y}<br>2=%{z}<br>Congresista=%{customdata[0]}<extra></extra>",
         "legendgroup": "BLOQUE MAGISTERIAL DE CONCERTACIÓN NACIONAL",
         "marker": {
          "color": "#ab63fa",
          "symbol": "circle"
         },
         "mode": "markers",
         "name": "BLOQUE MAGISTERIAL DE CONCERTACIÓN NACIONAL",
         "scene": "scene",
         "showlegend": true,
         "type": "scatter3d",
         "x": [
          0.9311458409218559,
          0.8286955519575494,
          1.1265287966196003,
          0.18407899054521956,
          -4.618720907775078,
          -1.1069872134765004,
          -3.02246854331606,
          3.053656212710179
         ],
         "y": [
          5.462310827268491,
          1.1872417104540973,
          1.8019128826332032,
          3.174919426174484,
          6.308758138552091,
          0.48342497865937284,
          5.085740587968226,
          2.7584995841288467
         ],
         "z": [
          0.9245691606918569,
          3.6781410555182252,
          2.115919396756334,
          2.494490007186139,
          -0.3311643251094612,
          1.3081807541792636,
          1.522188932254412,
          1.671104967748659
         ]
        },
        {
         "customdata": [
          [
           "Portero López Hilda Marleny"
          ],
          [
           "Soto Palacios Wilson"
          ],
          [
           "Vergara Mendoza Elvis Hernán"
          ]
         ],
         "hovertemplate": "Bancada=ACCION POPULAR<br>0=%{x}<br>1=%{y}<br>2=%{z}<br>Congresista=%{customdata[0]}<extra></extra>",
         "legendgroup": "ACCION POPULAR",
         "marker": {
          "color": "#FFA15A",
          "symbol": "circle"
         },
         "mode": "markers",
         "name": "ACCION POPULAR",
         "scene": "scene",
         "showlegend": true,
         "type": "scatter3d",
         "x": [
          -2.9511135788966114,
          0.4948841013246967,
          -1.7061863951766894
         ],
         "y": [
          3.672714303575757,
          0.17315223110051475,
          -2.455106708395342
         ],
         "z": [
          -2.772599238850661,
          1.5457418297793601,
          1.3300007126318572
         ]
        }
       ],
       "layout": {
        "legend": {
         "font": {
          "size": 10
         },
         "itemsizing": "constant",
         "orientation": "v",
         "title": {
          "font": {
           "size": 15
          },
          "text": "Bancada"
         },
         "tracegroupgap": 0,
         "x": 1.05,
         "xanchor": "left",
         "y": 1
        },
        "margin": {
         "t": 60
        },
        "scene": {
         "domain": {
          "x": [
           0,
           1
          ],
          "y": [
           0,
           1
          ]
         },
         "xaxis": {
          "title": {
           "text": "0"
          }
         },
         "yaxis": {
          "title": {
           "text": "1"
          }
         },
         "zaxis": {
          "title": {
           "text": "2"
          }
         }
        },
        "template": {
         "data": {
          "bar": [
           {
            "error_x": {
             "color": "#2a3f5f"
            },
            "error_y": {
             "color": "#2a3f5f"
            },
            "marker": {
             "line": {
              "color": "#E5ECF6",
              "width": 0.5
             },
             "pattern": {
              "fillmode": "overlay",
              "size": 10,
              "solidity": 0.2
             }
            },
            "type": "bar"
           }
          ],
          "barpolar": [
           {
            "marker": {
             "line": {
              "color": "#E5ECF6",
              "width": 0.5
             },
             "pattern": {
              "fillmode": "overlay",
              "size": 10,
              "solidity": 0.2
             }
            },
            "type": "barpolar"
           }
          ],
          "carpet": [
           {
            "aaxis": {
             "endlinecolor": "#2a3f5f",
             "gridcolor": "white",
             "linecolor": "white",
             "minorgridcolor": "white",
             "startlinecolor": "#2a3f5f"
            },
            "baxis": {
             "endlinecolor": "#2a3f5f",
             "gridcolor": "white",
             "linecolor": "white",
             "minorgridcolor": "white",
             "startlinecolor": "#2a3f5f"
            },
            "type": "carpet"
           }
          ],
          "choropleth": [
           {
            "colorbar": {
             "outlinewidth": 0,
             "ticks": ""
            },
            "type": "choropleth"
           }
          ],
          "contour": [
           {
            "colorbar": {
             "outlinewidth": 0,
             "ticks": ""
            },
            "colorscale": [
             [
              0,
              "#0d0887"
             ],
             [
              0.1111111111111111,
              "#46039f"
             ],
             [
              0.2222222222222222,
              "#7201a8"
             ],
             [
              0.3333333333333333,
              "#9c179e"
             ],
             [
              0.4444444444444444,
              "#bd3786"
             ],
             [
              0.5555555555555556,
              "#d8576b"
             ],
             [
              0.6666666666666666,
              "#ed7953"
             ],
             [
              0.7777777777777778,
              "#fb9f3a"
             ],
             [
              0.8888888888888888,
              "#fdca26"
             ],
             [
              1,
              "#f0f921"
             ]
            ],
            "type": "contour"
           }
          ],
          "contourcarpet": [
           {
            "colorbar": {
             "outlinewidth": 0,
             "ticks": ""
            },
            "type": "contourcarpet"
           }
          ],
          "heatmap": [
           {
            "colorbar": {
             "outlinewidth": 0,
             "ticks": ""
            },
            "colorscale": [
             [
              0,
              "#0d0887"
             ],
             [
              0.1111111111111111,
              "#46039f"
             ],
             [
              0.2222222222222222,
              "#7201a8"
             ],
             [
              0.3333333333333333,
              "#9c179e"
             ],
             [
              0.4444444444444444,
              "#bd3786"
             ],
             [
              0.5555555555555556,
              "#d8576b"
             ],
             [
              0.6666666666666666,
              "#ed7953"
             ],
             [
              0.7777777777777778,
              "#fb9f3a"
             ],
             [
              0.8888888888888888,
              "#fdca26"
             ],
             [
              1,
              "#f0f921"
             ]
            ],
            "type": "heatmap"
           }
          ],
          "heatmapgl": [
           {
            "colorbar": {
             "outlinewidth": 0,
             "ticks": ""
            },
            "colorscale": [
             [
              0,
              "#0d0887"
             ],
             [
              0.1111111111111111,
              "#46039f"
             ],
             [
              0.2222222222222222,
              "#7201a8"
             ],
             [
              0.3333333333333333,
              "#9c179e"
             ],
             [
              0.4444444444444444,
              "#bd3786"
             ],
             [
              0.5555555555555556,
              "#d8576b"
             ],
             [
              0.6666666666666666,
              "#ed7953"
             ],
             [
              0.7777777777777778,
              "#fb9f3a"
             ],
             [
              0.8888888888888888,
              "#fdca26"
             ],
             [
              1,
              "#f0f921"
             ]
            ],
            "type": "heatmapgl"
           }
          ],
          "histogram": [
           {
            "marker": {
             "pattern": {
              "fillmode": "overlay",
              "size": 10,
              "solidity": 0.2
             }
            },
            "type": "histogram"
           }
          ],
          "histogram2d": [
           {
            "colorbar": {
             "outlinewidth": 0,
             "ticks": ""
            },
            "colorscale": [
             [
              0,
              "#0d0887"
             ],
             [
              0.1111111111111111,
              "#46039f"
             ],
             [
              0.2222222222222222,
              "#7201a8"
             ],
             [
              0.3333333333333333,
              "#9c179e"
             ],
             [
              0.4444444444444444,
              "#bd3786"
             ],
             [
              0.5555555555555556,
              "#d8576b"
             ],
             [
              0.6666666666666666,
              "#ed7953"
             ],
             [
              0.7777777777777778,
              "#fb9f3a"
             ],
             [
              0.8888888888888888,
              "#fdca26"
             ],
             [
              1,
              "#f0f921"
             ]
            ],
            "type": "histogram2d"
           }
          ],
          "histogram2dcontour": [
           {
            "colorbar": {
             "outlinewidth": 0,
             "ticks": ""
            },
            "colorscale": [
             [
              0,
              "#0d0887"
             ],
             [
              0.1111111111111111,
              "#46039f"
             ],
             [
              0.2222222222222222,
              "#7201a8"
             ],
             [
              0.3333333333333333,
              "#9c179e"
             ],
             [
              0.4444444444444444,
              "#bd3786"
             ],
             [
              0.5555555555555556,
              "#d8576b"
             ],
             [
              0.6666666666666666,
              "#ed7953"
             ],
             [
              0.7777777777777778,
              "#fb9f3a"
             ],
             [
              0.8888888888888888,
              "#fdca26"
             ],
             [
              1,
              "#f0f921"
             ]
            ],
            "type": "histogram2dcontour"
           }
          ],
          "mesh3d": [
           {
            "colorbar": {
             "outlinewidth": 0,
             "ticks": ""
            },
            "type": "mesh3d"
           }
          ],
          "parcoords": [
           {
            "line": {
             "colorbar": {
              "outlinewidth": 0,
              "ticks": ""
             }
            },
            "type": "parcoords"
           }
          ],
          "pie": [
           {
            "automargin": true,
            "type": "pie"
           }
          ],
          "scatter": [
           {
            "fillpattern": {
             "fillmode": "overlay",
             "size": 10,
             "solidity": 0.2
            },
            "type": "scatter"
           }
          ],
          "scatter3d": [
           {
            "line": {
             "colorbar": {
              "outlinewidth": 0,
              "ticks": ""
             }
            },
            "marker": {
             "colorbar": {
              "outlinewidth": 0,
              "ticks": ""
             }
            },
            "type": "scatter3d"
           }
          ],
          "scattercarpet": [
           {
            "marker": {
             "colorbar": {
              "outlinewidth": 0,
              "ticks": ""
             }
            },
            "type": "scattercarpet"
           }
          ],
          "scattergeo": [
           {
            "marker": {
             "colorbar": {
              "outlinewidth": 0,
              "ticks": ""
             }
            },
            "type": "scattergeo"
           }
          ],
          "scattergl": [
           {
            "marker": {
             "colorbar": {
              "outlinewidth": 0,
              "ticks": ""
             }
            },
            "type": "scattergl"
           }
          ],
          "scattermapbox": [
           {
            "marker": {
             "colorbar": {
              "outlinewidth": 0,
              "ticks": ""
             }
            },
            "type": "scattermapbox"
           }
          ],
          "scatterpolar": [
           {
            "marker": {
             "colorbar": {
              "outlinewidth": 0,
              "ticks": ""
             }
            },
            "type": "scatterpolar"
           }
          ],
          "scatterpolargl": [
           {
            "marker": {
             "colorbar": {
              "outlinewidth": 0,
              "ticks": ""
             }
            },
            "type": "scatterpolargl"
           }
          ],
          "scatterternary": [
           {
            "marker": {
             "colorbar": {
              "outlinewidth": 0,
              "ticks": ""
             }
            },
            "type": "scatterternary"
           }
          ],
          "surface": [
           {
            "colorbar": {
             "outlinewidth": 0,
             "ticks": ""
            },
            "colorscale": [
             [
              0,
              "#0d0887"
             ],
             [
              0.1111111111111111,
              "#46039f"
             ],
             [
              0.2222222222222222,
              "#7201a8"
             ],
             [
              0.3333333333333333,
              "#9c179e"
             ],
             [
              0.4444444444444444,
              "#bd3786"
             ],
             [
              0.5555555555555556,
              "#d8576b"
             ],
             [
              0.6666666666666666,
              "#ed7953"
             ],
             [
              0.7777777777777778,
              "#fb9f3a"
             ],
             [
              0.8888888888888888,
              "#fdca26"
             ],
             [
              1,
              "#f0f921"
             ]
            ],
            "type": "surface"
           }
          ],
          "table": [
           {
            "cells": {
             "fill": {
              "color": "#EBF0F8"
             },
             "line": {
              "color": "white"
             }
            },
            "header": {
             "fill": {
              "color": "#C8D4E3"
             },
             "line": {
              "color": "white"
             }
            },
            "type": "table"
           }
          ]
         },
         "layout": {
          "annotationdefaults": {
           "arrowcolor": "#2a3f5f",
           "arrowhead": 0,
           "arrowwidth": 1
          },
          "autotypenumbers": "strict",
          "coloraxis": {
           "colorbar": {
            "outlinewidth": 0,
            "ticks": ""
           }
          },
          "colorscale": {
           "diverging": [
            [
             0,
             "#8e0152"
            ],
            [
             0.1,
             "#c51b7d"
            ],
            [
             0.2,
             "#de77ae"
            ],
            [
             0.3,
             "#f1b6da"
            ],
            [
             0.4,
             "#fde0ef"
            ],
            [
             0.5,
             "#f7f7f7"
            ],
            [
             0.6,
             "#e6f5d0"
            ],
            [
             0.7,
             "#b8e186"
            ],
            [
             0.8,
             "#7fbc41"
            ],
            [
             0.9,
             "#4d9221"
            ],
            [
             1,
             "#276419"
            ]
           ],
           "sequential": [
            [
             0,
             "#0d0887"
            ],
            [
             0.1111111111111111,
             "#46039f"
            ],
            [
             0.2222222222222222,
             "#7201a8"
            ],
            [
             0.3333333333333333,
             "#9c179e"
            ],
            [
             0.4444444444444444,
             "#bd3786"
            ],
            [
             0.5555555555555556,
             "#d8576b"
            ],
            [
             0.6666666666666666,
             "#ed7953"
            ],
            [
             0.7777777777777778,
             "#fb9f3a"
            ],
            [
             0.8888888888888888,
             "#fdca26"
            ],
            [
             1,
             "#f0f921"
            ]
           ],
           "sequentialminus": [
            [
             0,
             "#0d0887"
            ],
            [
             0.1111111111111111,
             "#46039f"
            ],
            [
             0.2222222222222222,
             "#7201a8"
            ],
            [
             0.3333333333333333,
             "#9c179e"
            ],
            [
             0.4444444444444444,
             "#bd3786"
            ],
            [
             0.5555555555555556,
             "#d8576b"
            ],
            [
             0.6666666666666666,
             "#ed7953"
            ],
            [
             0.7777777777777778,
             "#fb9f3a"
            ],
            [
             0.8888888888888888,
             "#fdca26"
            ],
            [
             1,
             "#f0f921"
            ]
           ]
          },
          "colorway": [
           "#636efa",
           "#EF553B",
           "#00cc96",
           "#ab63fa",
           "#FFA15A",
           "#19d3f3",
           "#FF6692",
           "#B6E880",
           "#FF97FF",
           "#FECB52"
          ],
          "font": {
           "color": "#2a3f5f"
          },
          "geo": {
           "bgcolor": "white",
           "lakecolor": "white",
           "landcolor": "#E5ECF6",
           "showlakes": true,
           "showland": true,
           "subunitcolor": "white"
          },
          "hoverlabel": {
           "align": "left"
          },
          "hovermode": "closest",
          "mapbox": {
           "style": "light"
          },
          "paper_bgcolor": "white",
          "plot_bgcolor": "#E5ECF6",
          "polar": {
           "angularaxis": {
            "gridcolor": "white",
            "linecolor": "white",
            "ticks": ""
           },
           "bgcolor": "#E5ECF6",
           "radialaxis": {
            "gridcolor": "white",
            "linecolor": "white",
            "ticks": ""
           }
          },
          "scene": {
           "xaxis": {
            "backgroundcolor": "#E5ECF6",
            "gridcolor": "white",
            "gridwidth": 2,
            "linecolor": "white",
            "showbackground": true,
            "ticks": "",
            "zerolinecolor": "white"
           },
           "yaxis": {
            "backgroundcolor": "#E5ECF6",
            "gridcolor": "white",
            "gridwidth": 2,
            "linecolor": "white",
            "showbackground": true,
            "ticks": "",
            "zerolinecolor": "white"
           },
           "zaxis": {
            "backgroundcolor": "#E5ECF6",
            "gridcolor": "white",
            "gridwidth": 2,
            "linecolor": "white",
            "showbackground": true,
            "ticks": "",
            "zerolinecolor": "white"
           }
          },
          "shapedefaults": {
           "line": {
            "color": "#2a3f5f"
           }
          },
          "ternary": {
           "aaxis": {
            "gridcolor": "white",
            "linecolor": "white",
            "ticks": ""
           },
           "baxis": {
            "gridcolor": "white",
            "linecolor": "white",
            "ticks": ""
           },
           "bgcolor": "#E5ECF6",
           "caxis": {
            "gridcolor": "white",
            "linecolor": "white",
            "ticks": ""
           }
          },
          "title": {
           "x": 0.05
          },
          "xaxis": {
           "automargin": true,
           "gridcolor": "white",
           "linecolor": "white",
           "ticks": "",
           "title": {
            "standoff": 15
           },
           "zerolinecolor": "white",
           "zerolinewidth": 2
          },
          "yaxis": {
           "automargin": true,
           "gridcolor": "white",
           "linecolor": "white",
           "ticks": "",
           "title": {
            "standoff": 15
           },
           "zerolinecolor": "white",
           "zerolinewidth": 2
          }
         }
        }
       }
      }
     },
     "metadata": {},
     "output_type": "display_data"
    }
   ],
   "source": [
    "import plotly.express as px\n",
    "\n",
    "# Create scatterplot using Plotly\n",
    "fig = px.scatter_3d(VOTOS_REDUCED_DF, x=0, y=1,z=2, color=\"Bancada\",  hover_data={\"Congresista\": True})\n",
    "\n",
    "# Adjust the legend to make it wider\n",
    "fig.update_layout(\n",
    "    legend_title=\"Bancada\",\n",
    "    legend=dict(\n",
    "        title_font_size=15,\n",
    "        font_size=10,\n",
    "        itemsizing='constant',  # Ensure the legend items are sized uniformly\n",
    "        orientation='v',  # Set legend to horizontal\n",
    "        x=1.05,  # Move the legend outside of the plot\n",
    "        y=1,     # Align it with the top of the plot\n",
    "        xanchor='left',  # Anchor legend to the left of the plot area\n",
    "    )\n",
    ")\n",
    "\n",
    "# Show the plot\n",
    "fig.show()"
   ]
  }
 ],
 "metadata": {
  "kernelspec": {
   "display_name": "Python 3",
   "language": "python",
   "name": "python3"
  },
  "language_info": {
   "codemirror_mode": {
    "name": "ipython",
    "version": 3
   },
   "file_extension": ".py",
   "mimetype": "text/x-python",
   "name": "python",
   "nbconvert_exporter": "python",
   "pygments_lexer": "ipython3",
   "version": "3.13.0"
  }
 },
 "nbformat": 4,
 "nbformat_minor": 5
}
